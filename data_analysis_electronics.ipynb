{
 "cells": [
  {
   "cell_type": "markdown",
   "metadata": {},
   "source": [
    "## Text Mining of the Product Reviews"
   ]
  },
  {
   "cell_type": "markdown",
   "metadata": {},
   "source": [
    "### Preparation"
   ]
  },
  {
   "cell_type": "markdown",
   "metadata": {},
   "source": [
    "#### Read in packages"
   ]
  },
  {
   "cell_type": "code",
   "execution_count": 1173,
   "metadata": {},
   "outputs": [],
   "source": [
    "import numpy as np\n",
    "import pandas as pd\n",
    "import matplotlib.pyplot as plt\n",
    "import seaborn as sns\n",
    "%matplotlib inline\n",
    "from wordcloud.wordcloud import WordCloud, STOPWORDS\n",
    "from PIL import Image\n",
    "from vaderSentiment.vaderSentiment import SentimentIntensityAnalyzer\n",
    "analyser = SentimentIntensityAnalyzer()\n",
    "import gender_guesser.detector as gender\n",
    "import warnings\n",
    "warnings.filterwarnings(\"ignore\")\n",
    "from dask import compute, delayed\n",
    "import dask.multiprocessing\n",
    "import multiprocessing\n",
    "import time\n",
    "from datetime import datetime\n",
    "from sklearn.model_selection import train_test_split\n",
    "from sklearn.preprocessing import MinMaxScaler\n",
    "import six\n",
    "import statsmodels.api as sm\n",
    "from sklearn.tree import export_graphviz\n",
    "import graphviz\n",
    "from scipy.stats import randint as sp_randint\n",
    "from scipy.stats import uniform as sp_uniform\n",
    "from sklearn.model_selection import RandomizedSearchCV\n",
    "from scipy import stats\n",
    "from sklearn.tree import DecisionTreeRegressor\n",
    "from sklearn.ensemble import RandomForestRegressor, GradientBoostingRegressor, AdaBoostRegressor\n",
    "from sklearn import linear_model\n",
    "from sklearn.linear_model import LinearRegression, Ridge, Lasso, ElasticNet, BayesianRidge\n",
    "from sklearn.model_selection import train_test_split, KFold, cross_val_score, cross_val_predict\n",
    "from sklearn.metrics import mean_squared_error\n",
    "from sklearn.model_selection import RandomizedSearchCV, GridSearchCV\n",
    "from sklearn.preprocessing import StandardScaler\n",
    "import yaml\n",
    "import textstat\n",
    "from scipy.stats import rankdata\n",
    "\n",
    "sns.set(style=\"whitegrid\")\n",
    "plt.style.use('seaborn-deep')\n",
    "\n",
    "#pd.set_option('display.max_colwidth', 1)\n",
    "start=time.time()"
   ]
  },
  {
   "cell_type": "markdown",
   "metadata": {},
   "source": [
    "#### Read in data"
   ]
  },
  {
   "cell_type": "markdown",
   "metadata": {},
   "source": [
    "Sample product link:\n",
    "\n",
    "https://www.amazon.com/Microsoft-Natural-Ergonomic-Keyboard-4000/dp/B000A6PPOK/ref=sr_1_3?dchild=1&keywords=Microsoft%2BNatural%2BErgonomic%2BKeyboard%2Bretail&qid=1585149060&sr=8-3&th=1#customerReviews"
   ]
  },
  {
   "cell_type": "code",
   "execution_count": 1174,
   "metadata": {},
   "outputs": [
    {
     "data": {
      "text/html": [
       "<div>\n",
       "<style scoped>\n",
       "    .dataframe tbody tr th:only-of-type {\n",
       "        vertical-align: middle;\n",
       "    }\n",
       "\n",
       "    .dataframe tbody tr th {\n",
       "        vertical-align: top;\n",
       "    }\n",
       "\n",
       "    .dataframe thead th {\n",
       "        text-align: right;\n",
       "    }\n",
       "</style>\n",
       "<table border=\"1\" class=\"dataframe\">\n",
       "  <thead>\n",
       "    <tr style=\"text-align: right;\">\n",
       "      <th></th>\n",
       "      <th>rating</th>\n",
       "      <th>vote</th>\n",
       "      <th>verified</th>\n",
       "      <th>reviewTime</th>\n",
       "      <th>reviewerID</th>\n",
       "      <th>style</th>\n",
       "      <th>reviewerName</th>\n",
       "      <th>reviewText</th>\n",
       "      <th>summary</th>\n",
       "      <th>unixReviewTime</th>\n",
       "      <th>image</th>\n",
       "    </tr>\n",
       "  </thead>\n",
       "  <tbody>\n",
       "    <tr>\n",
       "      <th>0</th>\n",
       "      <td>5.0</td>\n",
       "      <td>1,113</td>\n",
       "      <td>True</td>\n",
       "      <td>10 18, 2005</td>\n",
       "      <td>AILCWT1IIP7ZT</td>\n",
       "      <td>{'Style:': ' Retail'}</td>\n",
       "      <td>Charles Chen</td>\n",
       "      <td>As a software developer, I am literally attach...</td>\n",
       "      <td>Best Overall Keyboard to Date</td>\n",
       "      <td>1129593600</td>\n",
       "      <td>NaN</td>\n",
       "    </tr>\n",
       "    <tr>\n",
       "      <th>1</th>\n",
       "      <td>5.0</td>\n",
       "      <td>16</td>\n",
       "      <td>True</td>\n",
       "      <td>10 12, 2005</td>\n",
       "      <td>A300T403J8526F</td>\n",
       "      <td>{'Style:': ' Retail'}</td>\n",
       "      <td>T. Becker</td>\n",
       "      <td>I've had a Natural Keyboard Pro for years, and...</td>\n",
       "      <td>Best keyboard I've used</td>\n",
       "      <td>1129075200</td>\n",
       "      <td>NaN</td>\n",
       "    </tr>\n",
       "    <tr>\n",
       "      <th>2</th>\n",
       "      <td>4.0</td>\n",
       "      <td>11</td>\n",
       "      <td>True</td>\n",
       "      <td>10 5, 2005</td>\n",
       "      <td>AFPGV3IQ9K691</td>\n",
       "      <td>{'Style:': ' Retail'}</td>\n",
       "      <td>GDC</td>\n",
       "      <td>As with most Microsoft products, great hardwar...</td>\n",
       "      <td>Great keyboard, poor software.</td>\n",
       "      <td>1128470400</td>\n",
       "      <td>NaN</td>\n",
       "    </tr>\n",
       "  </tbody>\n",
       "</table>\n",
       "</div>"
      ],
      "text/plain": [
       "   rating   vote  verified   reviewTime      reviewerID  \\\n",
       "0     5.0  1,113      True  10 18, 2005   AILCWT1IIP7ZT   \n",
       "1     5.0     16      True  10 12, 2005  A300T403J8526F   \n",
       "2     4.0     11      True   10 5, 2005   AFPGV3IQ9K691   \n",
       "\n",
       "                   style  reviewerName  \\\n",
       "0  {'Style:': ' Retail'}  Charles Chen   \n",
       "1  {'Style:': ' Retail'}     T. Becker   \n",
       "2  {'Style:': ' Retail'}           GDC   \n",
       "\n",
       "                                          reviewText  \\\n",
       "0  As a software developer, I am literally attach...   \n",
       "1  I've had a Natural Keyboard Pro for years, and...   \n",
       "2  As with most Microsoft products, great hardwar...   \n",
       "\n",
       "                          summary  unixReviewTime image  \n",
       "0   Best Overall Keyboard to Date      1129593600   NaN  \n",
       "1         Best keyboard I've used      1129075200   NaN  \n",
       "2  Great keyboard, poor software.      1128470400   NaN  "
      ]
     },
     "execution_count": 1174,
     "metadata": {},
     "output_type": "execute_result"
    }
   ],
   "source": [
    "df = pd.read_csv(\"sample.csv\")\n",
    "df.drop('Unnamed: 0', axis = 1, inplace = True)\n",
    "df.drop(['asin'], axis = 1, inplace = True)\n",
    "df = df.rename(columns={'overall': 'rating'})\n",
    "df.head(3)"
   ]
  },
  {
   "cell_type": "code",
   "execution_count": 1175,
   "metadata": {},
   "outputs": [
    {
     "name": "stdout",
     "output_type": "stream",
     "text": [
      "<class 'pandas.core.frame.DataFrame'>\n",
      "RangeIndex: 2567 entries, 0 to 2566\n",
      "Data columns (total 11 columns):\n",
      "rating            2567 non-null float64\n",
      "vote              174 non-null object\n",
      "verified          2567 non-null bool\n",
      "reviewTime        2567 non-null object\n",
      "reviewerID        2567 non-null object\n",
      "style             2554 non-null object\n",
      "reviewerName      2567 non-null object\n",
      "reviewText        2567 non-null object\n",
      "summary           2567 non-null object\n",
      "unixReviewTime    2567 non-null int64\n",
      "image             13 non-null object\n",
      "dtypes: bool(1), float64(1), int64(1), object(8)\n",
      "memory usage: 203.2+ KB\n"
     ]
    }
   ],
   "source": [
    "df.info()"
   ]
  },
  {
   "cell_type": "markdown",
   "metadata": {},
   "source": [
    "#### Text cleaning & pre-processing"
   ]
  },
  {
   "cell_type": "markdown",
   "metadata": {},
   "source": [
    "__Tokenization__: Split the text into sentences and the sentences into words. \n",
    "\n",
    "__Lowercase__ the words and __remove punctuation__.\n",
    "\n",
    "Words that have fewer than 3 characters are removed.\n",
    "\n",
    "All __stopwords__ are removed.\n",
    "\n",
    "Words are __lemmatized__: words in third person are changed to first person and verbs in past and future tenses are changed into present.\n",
    "\n",
    "Words are __stemmed__: words are reduced to their root form.\n",
    "\n",
    "Reference: https://towardsdatascience.com/topic-modeling-and-latent-dirichlet-allocation-in-python-9bf156893c24"
   ]
  },
  {
   "cell_type": "code",
   "execution_count": 1176,
   "metadata": {},
   "outputs": [
    {
     "name": "stderr",
     "output_type": "stream",
     "text": [
      "[nltk_data] Downloading package wordnet to\n",
      "[nltk_data]     C:\\Users\\lliu9\\AppData\\Roaming\\nltk_data...\n",
      "[nltk_data]   Package wordnet is already up-to-date!\n"
     ]
    }
   ],
   "source": [
    "np.random.seed(2018)\n",
    "\n",
    "import nltk\n",
    "nltk.download('wordnet')\n",
    "from nltk.stem import WordNetLemmatizer, SnowballStemmer\n",
    "stemmer = SnowballStemmer(\"english\")\n",
    "from nltk.stem.porter import *\n",
    "\n",
    "import gensim\n",
    "from gensim.utils import simple_preprocess\n",
    "from gensim.parsing.preprocessing import STOPWORDS\n",
    "from gensim import corpora, models\n",
    "import gensim.corpora as corpora\n",
    "from gensim.utils import simple_preprocess\n",
    "from gensim.models import CoherenceModel\n",
    "from pprint import pprint\n",
    "\n",
    "import spacy\n",
    "\n",
    "# Plotting tools\n",
    "import pyLDAvis\n",
    "import pyLDAvis.gensim "
   ]
  },
  {
   "cell_type": "markdown",
   "metadata": {},
   "source": [
    "##### Functions to perform lemmatize and stem preprocessing steps"
   ]
  },
  {
   "cell_type": "code",
   "execution_count": 1177,
   "metadata": {},
   "outputs": [],
   "source": [
    "def lemmatize_stemming(text):\n",
    "    return stemmer.stem(WordNetLemmatizer().lemmatize(text, pos='v'))\n",
    "\n",
    "def preprocess(text):\n",
    "    result = []\n",
    "    for token in gensim.utils.simple_preprocess(text):\n",
    "        if token not in gensim.parsing.preprocessing.STOPWORDS and len(token) > 3:\n",
    "            result.append(lemmatize_stemming(token))\n",
    "    return result"
   ]
  },
  {
   "cell_type": "code",
   "execution_count": 1178,
   "metadata": {},
   "outputs": [
    {
     "data": {
      "text/plain": [
       "\"Absolutely love this keyboard.  I had an older one and the letters were worn off.  Didn't bother me, but my wife was very pleased when she saw that it had the letters still on the keys.  This keyboard feels great and is just designed so well.\""
      ]
     },
     "execution_count": 1178,
     "metadata": {},
     "output_type": "execute_result"
    }
   ],
   "source": [
    "df.iloc[10]['reviewText']"
   ]
  },
  {
   "cell_type": "code",
   "execution_count": 1179,
   "metadata": {},
   "outputs": [
    {
     "name": "stdout",
     "output_type": "stream",
     "text": [
      "original document: \n",
      "['Absolutely', 'love', 'this', 'keyboard.', '', 'I', 'had', 'an', 'older', 'one', 'and', 'the', 'letters', 'were', 'worn', 'off.', '', \"Didn't\", 'bother', 'me,', 'but', 'my', 'wife', 'was', 'very', 'pleased', 'when', 'she', 'saw', 'that', 'it', 'had', 'the', 'letters', 'still', 'on', 'the', 'keys.', '', 'This', 'keyboard', 'feels', 'great', 'and', 'is', 'just', 'designed', 'so', 'well.']\n",
      "\n",
      "\n",
      " tokenized and lemmatized document: \n",
      "['absolut', 'love', 'keyboard', 'older', 'letter', 'wear', 'bother', 'wife', 'pleas', 'letter', 'key', 'keyboard', 'feel', 'great', 'design']\n"
     ]
    }
   ],
   "source": [
    "doc_sample = df.iloc[10]['reviewText']\n",
    "print('original document: ')\n",
    "words = []\n",
    "for word in doc_sample.split(' '):\n",
    "    words.append(word)\n",
    "    \n",
    "print(words)\n",
    "print('\\n\\n tokenized and lemmatized document: ')\n",
    "print(preprocess(doc_sample))"
   ]
  },
  {
   "cell_type": "markdown",
   "metadata": {},
   "source": [
    "##### Preprocess the data"
   ]
  },
  {
   "cell_type": "code",
   "execution_count": 1180,
   "metadata": {},
   "outputs": [
    {
     "data": {
      "text/plain": [
       "0    [softwar, develop, liter, attach, keyboard, ty...\n",
       "1    [natur, keyboard, year, work, look, home, keyb...\n",
       "2    [microsoft, product, great, hardwar, poor, sof...\n",
       "3                                               [love]\n",
       "4               [version, keyboard, year, save, wrist]\n",
       "5                                             [pefect]\n",
       "6    [plug, work, like, champ, keyboard, take, get,...\n",
       "7                         [instal, year, work, expect]\n",
       "8    [like, like, split, half, board, like, challen...\n",
       "9         [type, word, minut, unit, fifth, year, love]\n",
       "Name: reviewText, dtype: object"
      ]
     },
     "execution_count": 1180,
     "metadata": {},
     "output_type": "execute_result"
    }
   ],
   "source": [
    "processed_docs = df['reviewText'].map(preprocess)\n",
    "processed_docs[:10]"
   ]
  },
  {
   "cell_type": "markdown",
   "metadata": {},
   "source": [
    "##### Bag of words & Filter out infrequent tokens"
   ]
  },
  {
   "cell_type": "code",
   "execution_count": 1181,
   "metadata": {},
   "outputs": [
    {
     "name": "stdout",
     "output_type": "stream",
     "text": [
      "0 abl\n",
      "1 actual\n",
      "2 addit\n",
      "3 adjust\n",
      "4 appreci\n",
      "5 attach\n",
      "6 avail\n",
      "7 base\n",
      "8 begin\n",
      "9 best\n",
      "10 better\n"
     ]
    }
   ],
   "source": [
    "dictionary = gensim.corpora.Dictionary(processed_docs)\n",
    "dictionary.filter_extremes(no_below = 10, no_above = 0.5, keep_n = 100000)\n",
    "\n",
    "count = 0\n",
    "for k, v in dictionary.iteritems():\n",
    "    print(k, v)\n",
    "    count += 1\n",
    "    if count > 10:\n",
    "        break"
   ]
  },
  {
   "cell_type": "markdown",
   "metadata": {},
   "source": [
    "##### doc2bow\n",
    "how many words and how many times those words appear in one document"
   ]
  },
  {
   "cell_type": "code",
   "execution_count": 1182,
   "metadata": {},
   "outputs": [
    {
     "name": "stdout",
     "output_type": "stream",
     "text": [
      "Word 42 (\"feel\") appears 1 time.\n",
      "Word 63 (\"key\") appears 1 time.\n",
      "Word 71 (\"love\") appears 1 time.\n",
      "Word 88 (\"older\") appears 1 time.\n",
      "Word 226 (\"design\") appears 1 time.\n",
      "Word 237 (\"great\") appears 1 time.\n",
      "Word 322 (\"absolut\") appears 1 time.\n",
      "Word 323 (\"bother\") appears 1 time.\n",
      "Word 324 (\"letter\") appears 2 time.\n",
      "Word 325 (\"pleas\") appears 1 time.\n",
      "Word 326 (\"wear\") appears 1 time.\n",
      "Word 327 (\"wife\") appears 1 time.\n"
     ]
    }
   ],
   "source": [
    "bow_corpus = [dictionary.doc2bow(doc) for doc in processed_docs]\n",
    "bow_corpus[10]\n",
    "\n",
    "bow_doc = bow_corpus[10]\n",
    "for i in range(len(bow_doc)):\n",
    "    print(\"Word {} (\\\"{}\\\") appears {} time.\".format(bow_doc[i][0], \n",
    "                                               dictionary[bow_doc[i][0]], \n",
    "bow_doc[i][1]))"
   ]
  },
  {
   "cell_type": "markdown",
   "metadata": {},
   "source": [
    "##### TF-IDF (frequency-inverse document frequency)\n",
    "\n",
    "how important a word is to a document in a collection or corpus"
   ]
  },
  {
   "cell_type": "code",
   "execution_count": 1183,
   "metadata": {},
   "outputs": [
    {
     "name": "stdout",
     "output_type": "stream",
     "text": [
      "[(0, 0.048588227607141064),\n",
      " (1, 0.042782959372661813),\n",
      " (2, 0.10458954735714728),\n",
      " (3, 0.17801144839365607),\n",
      " (4, 0.11876180090061192),\n",
      " (5, 0.05816732114891534),\n",
      " (6, 0.05506821719183935),\n",
      " (7, 0.05816732114891534),\n",
      " (8, 0.05635896236653023),\n",
      " (9, 0.03220725458509641),\n",
      " (10, 0.032264276034067785),\n",
      " (11, 0.07513295650850198),\n",
      " (12, 0.030751981049663018),\n",
      " (13, 0.04478797945302068),\n",
      " (14, 0.09854429423731974),\n",
      " (15, 0.08495129089596926),\n",
      " (16, 0.10041435334175791),\n",
      " (17, 0.04663756375924501),\n",
      " (18, 0.051802262161705206),\n",
      " (19, 0.05816732114891534),\n",
      " (20, 0.06644060267878009),\n",
      " (21, 0.06644060267878009),\n",
      " (22, 0.07057625630367695),\n",
      " (23, 0.12050983631322006),\n",
      " (24, 0.1389336626423974),\n",
      " (25, 0.22539886952550592),\n",
      " (26, 0.07917637510085442),\n",
      " (27, 0.12142806486613555),\n",
      " (28, 0.0525479132754105),\n",
      " (29, 0.10641962884569169),\n",
      " (30, 0.05204627910806362),\n",
      " (31, 0.05705360560779422),\n",
      " (32, 0.048780324077929475),\n",
      " (33, 0.05855988701566892),\n",
      " (34, 0.2178649036092766),\n",
      " (35, 0.05569821795178502),\n",
      " (36, 0.19007463662398613),\n",
      " (37, 0.04897518462141308),\n",
      " (38, 0.07709914409740717),\n",
      " (39, 0.052805874867713355),\n",
      " (40, 0.06876789752129184),\n",
      " (41, 0.03684385221413488),\n",
      " (42, 0.05089925946226538),\n",
      " (43, 0.03792783651582141),\n",
      " (44, 0.049373524342069146),\n",
      " (45, 0.07057625630367695),\n",
      " (46, 0.051802262161705206),\n",
      " (47, 0.033646757878753916),\n",
      " (48, 0.024775730799449204),\n",
      " (49, 0.023611075676208956),\n",
      " (50, 0.0453768798047181),\n",
      " (51, 0.07065827663797401),\n",
      " (52, 0.0393933270069436),\n",
      " (53, 0.08364758461180245),\n",
      " (54, 0.05537955444645285),\n",
      " (55, 0.07336905194999241),\n",
      " (56, 0.1101364343836787),\n",
      " (57, 0.0657459594375161),\n",
      " (58, 0.12770644594661004),\n",
      " (59, 0.06964191522759591),\n",
      " (60, 0.04714231438595973),\n",
      " (61, 0.0715798690096851),\n",
      " (62, 0.049172889944683044),\n",
      " (63, 0.10181176295490948),\n",
      " (64, 0.045835994081175835),\n",
      " (65, 0.04615095186090732),\n",
      " (66, 0.037005075238755576),\n",
      " (67, 0.0715798690096851),\n",
      " (68, 0.06794688408665481),\n",
      " (69, 0.03085457679885576),\n",
      " (70, 0.06327685624038577),\n",
      " (71, 0.022019341892892234),\n",
      " (72, 0.05778581495947971),\n",
      " (73, 0.06508521502277088),\n",
      " (74, 0.051802262161705206),\n",
      " (75, 0.04978393678393763),\n",
      " (76, 0.05705360560779422),\n",
      " (77, 0.07513295650850198),\n",
      " (78, 0.04789397075646872),\n",
      " (79, 0.043815274118639724),\n",
      " (80, 0.035545824127666895),\n",
      " (81, 0.05741476232063888),\n",
      " (82, 0.027618078167769698),\n",
      " (83, 0.030103409736072857),\n",
      " (84, 0.06385322297330502),\n",
      " (85, 0.03181468871834284),\n",
      " (86, 0.10084772495911767),\n",
      " (87, 0.042782959372661813),\n",
      " (88, 0.15127158743867652),\n",
      " (89, 0.048588227607141064),\n",
      " (90, 0.04368184866377698),\n",
      " (91, 0.04957717591093329),\n",
      " (92, 0.04839881788849383),\n",
      " (93, 0.03383795033604957),\n",
      " (94, 0.09874704868413829),\n",
      " (95, 0.08185617825598578),\n",
      " (96, 0.05446622590231915),\n",
      " (97, 0.06964191522759591),\n",
      " (98, 0.05109553273122031),\n",
      " (99, 0.049373524342069146),\n",
      " (100, 0.04978393678393763),\n",
      " (101, 0.050207176670878956),\n",
      " (102, 0.09717645521428213),\n",
      " (103, 0.1361306394141543),\n",
      " (104, 0.029814233465169315),\n",
      " (105, 0.07384221133381111),\n",
      " (106, 0.1389336626423974),\n",
      " (107, 0.0342286286044834),\n",
      " (108, 0.039885838523812035),\n",
      " (109, 0.16083186283227097),\n",
      " (110, 0.03436140000249526),\n",
      " (111, 0.05855988701566892),\n",
      " (112, 0.049172889944683044),\n",
      " (113, 0.050867921085624164),\n",
      " (114, 0.06716724444141074),\n",
      " (115, 0.041036865408572966),\n",
      " (116, 0.03090616761981273),\n",
      " (117, 0.11876180090061192),\n",
      " (118, 0.07384221133381111),\n",
      " (119, 0.06508521502277088),\n",
      " (120, 0.05156256432688815),\n",
      " (121, 0.1411525126073539),\n",
      " (122, 0.08986564239730555),\n",
      " (123, 0.06071403243306778),\n",
      " (124, 0.05705360560779422),\n",
      " (125, 0.049172889944683044),\n",
      " (126, 0.11962171910108943),\n",
      " (127, 0.14873152773279988),\n",
      " (128, 0.05938090045030596),\n",
      " (129, 0.04368184866377698),\n",
      " (130, 0.08142624624092236),\n",
      " (131, 0.05156256432688815),\n",
      " (132, 0.06717281203046559),\n",
      " (133, 0.05816732114891534),\n",
      " (134, 0.050207176670878956),\n",
      " (135, 0.050216977838382665),\n",
      " (136, 0.08790005442353725),\n",
      " (137, 0.03801492732479723),\n",
      " (138, 0.07384221133381111),\n",
      " (139, 0.04680373239766758),\n",
      " (140, 0.13589376817330961),\n",
      " (141, 0.0657459594375161),\n",
      " (142, 0.04071312312046118),\n",
      " (143, 0.1865786158160977),\n",
      " (144, 0.02841124444513146),\n",
      " (145, 0.052805874867713355),\n",
      " (146, 0.06025491815661003),\n",
      " (147, 0.07266385331137164),\n",
      " (148, 0.031167111610539786),\n",
      " (149, 0.030349198227220656),\n",
      " (150, 0.06717281203046559),\n",
      " (151, 0.06529699518250728),\n",
      " (152, 0.06445521426282523),\n",
      " (153, 0.04897518462141308),\n",
      " (154, 0.0525479132754105),\n",
      " (155, 0.06876789752129184),\n",
      " (156, 0.04766660853680834),\n",
      " (157, 0.08388007658219204),\n",
      " (158, 0.06717281203046559),\n",
      " (159, 0.19184500859290274),\n",
      " (160, 0.028508547755523396),\n",
      " (161, 0.0404756533510724),\n",
      " (162, 0.020379635030154785),\n",
      " (163, 0.04071312312046118)]\n"
     ]
    }
   ],
   "source": [
    "tfidf = models.TfidfModel(bow_corpus)\n",
    "corpus = tfidf[bow_corpus]\n",
    "for doc in corpus:\n",
    "    pprint(doc)\n",
    "    break"
   ]
  },
  {
   "cell_type": "markdown",
   "metadata": {},
   "source": [
    "### Topic model"
   ]
  },
  {
   "cell_type": "markdown",
   "metadata": {},
   "source": [
    "##### LDA using Bag of Words"
   ]
  },
  {
   "cell_type": "code",
   "execution_count": 1184,
   "metadata": {},
   "outputs": [],
   "source": [
    "lda_model = gensim.models.ldamodel.LdaModel(corpus = corpus,\n",
    "                                           id2word = dictionary,\n",
    "                                           num_topics = 10, \n",
    "                                           random_state = 100,\n",
    "                                           chunksize = 100,\n",
    "                                           passes = 10,\n",
    "                                           alpha = 'auto',       \n",
    "                                           per_word_topics = True)"
   ]
  },
  {
   "cell_type": "code",
   "execution_count": 1185,
   "metadata": {},
   "outputs": [
    {
     "name": "stdout",
     "output_type": "stream",
     "text": [
      "Topic: 0 \n",
      "Word: 0.068*\"quick\" + 0.049*\"support\" + 0.042*\"caus\" + 0.037*\"store\" + 0.033*\"tire\" + 0.032*\"regist\" + 0.032*\"hold\" + 0.031*\"includ\" + 0.030*\"real\" + 0.029*\"period\"\n",
      "Topic: 1 \n",
      "Word: 0.105*\"qualiti\" + 0.070*\"tilt\" + 0.063*\"wife\" + 0.048*\"link\" + 0.042*\"near\" + 0.036*\"adapt\" + 0.032*\"default\" + 0.030*\"mistak\" + 0.028*\"rat\" + 0.027*\"busi\"\n",
      "Topic: 2 \n",
      "Word: 0.025*\"space\" + 0.022*\"ergonom\" + 0.021*\"natur\" + 0.020*\"feel\" + 0.016*\"ergo\" + 0.016*\"year\" + 0.014*\"love\" + 0.014*\"replac\" + 0.014*\"nice\" + 0.013*\"littl\"\n",
      "Topic: 3 \n",
      "Word: 0.036*\"mous\" + 0.034*\"wireless\" + 0.032*\"easi\" + 0.031*\"quiet\" + 0.027*\"posit\" + 0.025*\"perfect\" + 0.024*\"desk\" + 0.023*\"regular\" + 0.023*\"second\" + 0.021*\"order\"\n",
      "Topic: 4 \n",
      "Word: 0.022*\"work\" + 0.021*\"microsoft\" + 0.018*\"key\" + 0.018*\"like\" + 0.016*\"button\" + 0.015*\"time\" + 0.014*\"comfort\" + 0.013*\"press\" + 0.013*\"buy\" + 0.012*\"problem\"\n",
      "Topic: 5 \n",
      "Word: 0.091*\"thumb\" + 0.064*\"spill\" + 0.048*\"lose\" + 0.044*\"complet\" + 0.042*\"suggest\" + 0.041*\"clean\" + 0.038*\"email\" + 0.037*\"immedi\" + 0.036*\"water\" + 0.030*\"slow\"\n",
      "Topic: 6 \n",
      "Word: 0.056*\"excel\" + 0.041*\"write\" + 0.038*\"experi\" + 0.035*\"center\" + 0.033*\"straight\" + 0.032*\"difficult\" + 0.030*\"play\" + 0.030*\"stand\" + 0.028*\"game\" + 0.025*\"noisi\"\n",
      "Topic: 7 \n",
      "Word: 0.057*\"wear\" + 0.057*\"board\" + 0.043*\"user\" + 0.039*\"final\" + 0.032*\"half\" + 0.028*\"disappoint\" + 0.027*\"extrem\" + 0.026*\"anymor\" + 0.024*\"couldn\" + 0.024*\"definit\"\n",
      "Topic: 8 \n",
      "Word: 0.082*\"hate\" + 0.078*\"realiz\" + 0.070*\"result\" + 0.052*\"fantast\" + 0.035*\"reliev\" + 0.031*\"solv\" + 0.024*\"valu\" + 0.014*\"spoil\" + 0.001*\"align\" + 0.001*\"ideal\"\n",
      "Topic: 9 \n",
      "Word: 0.044*\"wrist\" + 0.033*\"best\" + 0.027*\"pain\" + 0.026*\"get\" + 0.025*\"split\" + 0.025*\"hand\" + 0.024*\"tri\" + 0.023*\"review\" + 0.020*\"know\" + 0.017*\"actual\"\n"
     ]
    }
   ],
   "source": [
    "for idx, topic in lda_model.print_topics(-1):\n",
    "    print('Topic: {} \\nWord: {}'.format(idx, topic))"
   ]
  },
  {
   "cell_type": "markdown",
   "metadata": {},
   "source": [
    "##### Model Perplexity and Coherence Score\n",
    "\n",
    " judge how good a given topic model is"
   ]
  },
  {
   "cell_type": "code",
   "execution_count": 1186,
   "metadata": {},
   "outputs": [
    {
     "name": "stdout",
     "output_type": "stream",
     "text": [
      "\n",
      "Perplexity:  -6.94617890712126\n",
      "\n",
      "Coherence Score:  0.3832561678525589\n"
     ]
    }
   ],
   "source": [
    "# Compute Perplexity\n",
    "print('\\nPerplexity: ', lda_model.log_perplexity(corpus))  # a measure of how good the model is. lower the better.\n",
    "\n",
    "# Compute Coherence Score\n",
    "coherence_model_lda = CoherenceModel(model = lda_model, texts = processed_docs, dictionary = dictionary, coherence='c_v')\n",
    "coherence_lda = coherence_model_lda.get_coherence()\n",
    "print('\\nCoherence Score: ', coherence_lda)"
   ]
  },
  {
   "cell_type": "markdown",
   "metadata": {},
   "source": [
    "#### Optimal number of topics for LDA "
   ]
  },
  {
   "cell_type": "code",
   "execution_count": 1187,
   "metadata": {},
   "outputs": [],
   "source": [
    "def compute_coherence_values(dictionary, corpus, texts, limit, start = 2, step = 1):\n",
    "    \"\"\"\n",
    "    Compute c_v coherence for various number of topics\n",
    "\n",
    "    Parameters:\n",
    "    ----------\n",
    "    dictionary : Gensim dictionary\n",
    "    corpus : Gensim corpus\n",
    "    texts : List of input texts\n",
    "    limit : Max num of topics\n",
    "\n",
    "    Returns:\n",
    "    -------\n",
    "    model_list : List of LDA topic models\n",
    "    coherence_values : Coherence values corresponding to the LDA model with respective number of topics\n",
    "    \"\"\"\n",
    "    coherence_values = []\n",
    "    model_list = []\n",
    "    for num_topics in range(start, limit, step):\n",
    "        model = gensim.models.ldamodel.LdaModel(corpus=corpus, num_topics=num_topics, id2word=dictionary)\n",
    "        model_list.append(model)\n",
    "        coherencemodel = CoherenceModel(model=model, texts=texts, dictionary=dictionary, coherence='c_v')\n",
    "        coherence_values.append(coherencemodel.get_coherence())\n",
    "\n",
    "    return model_list, coherence_values"
   ]
  },
  {
   "cell_type": "markdown",
   "metadata": {
    "code_folding": []
   },
   "source": [
    "comment out as execution takes a while\n",
    "\n",
    "limit = 15; start = 3; step = 1;\n",
    "\n",
    "model_list, coherence_values = compute_coherence_values(dictionary=dictionary,\n",
    "                                                        corpus=corpus, texts=processed_docs, \n",
    "                                                        start=start, limit =limit, step=1)"
   ]
  },
  {
   "cell_type": "markdown",
   "metadata": {},
   "source": [
    "x = range(start, limit, step)\n",
    "plt.plot(x, coherence_values)\n",
    "plt.xlabel(\"Num Topics\")\n",
    "plt.ylabel(\"Coherence score\")\n",
    "plt.legend((\"coherence_values\"), loc='best')\n",
    "plt.title('Optimal number of topics by LDA model is 5')\n",
    "plt.savefig(\"Optimal number of topics.png\")"
   ]
  },
  {
   "cell_type": "markdown",
   "metadata": {},
   "source": [
    "##### Topic proportions as features"
   ]
  },
  {
   "cell_type": "code",
   "execution_count": 1188,
   "metadata": {},
   "outputs": [],
   "source": [
    "lda_model_5 = gensim.models.ldamodel.LdaModel(corpus = corpus,\n",
    "                                           id2word = dictionary,\n",
    "                                           num_topics = 5, \n",
    "                                           random_state = 100,\n",
    "                                           chunksize = 100,\n",
    "                                           passes = 10,\n",
    "                                           alpha = 'auto',       \n",
    "                                           per_word_topics = True)"
   ]
  },
  {
   "cell_type": "code",
   "execution_count": 1189,
   "metadata": {},
   "outputs": [],
   "source": [
    "props = []\n",
    "for ind in range(len(corpus)):\n",
    "    props.append([i[1].round(5) for i in lda_model_5.get_document_topics(corpus[ind])])"
   ]
  },
  {
   "cell_type": "code",
   "execution_count": 1190,
   "metadata": {},
   "outputs": [],
   "source": [
    "df[\"Topic1\"] = [i[0] for i in props]\n",
    "df[\"Topic2\"] = [i[1] for i in props]\n",
    "df[\"Topic3\"] = [i[2] for i in props]\n",
    "df[\"Topic4\"] = [i[3] for i in props]\n",
    "df[\"Topic5\"] = [i[4] for i in props]"
   ]
  },
  {
   "cell_type": "markdown",
   "metadata": {},
   "source": [
    "#### Topics Visualization"
   ]
  },
  {
   "cell_type": "code",
   "execution_count": 1191,
   "metadata": {},
   "outputs": [
    {
     "data": {
      "text/html": [
       "\n",
       "<link rel=\"stylesheet\" type=\"text/css\" href=\"https://cdn.rawgit.com/bmabey/pyLDAvis/files/ldavis.v1.0.0.css\">\n",
       "\n",
       "\n",
       "<div id=\"ldavis_el1842821655663855129680231178\"></div>\n",
       "<script type=\"text/javascript\">\n",
       "\n",
       "var ldavis_el1842821655663855129680231178_data = {\"mdsDat\": {\"x\": [0.16337164119175143, -0.14951704852557574, 0.24073261890427505, -0.2361889420032051, -0.018398269567245554], \"y\": [0.24420258400045167, 0.15554685917168753, -0.2258530537688352, -0.1585556187756125, -0.015340770627691474], \"topics\": [1, 2, 3, 4, 5], \"cluster\": [1, 1, 1, 1, 1], \"Freq\": [35.83087158203125, 25.1738338470459, 18.89732551574707, 13.98287582397461, 6.115089416503906]}, \"tinfo\": {\"Category\": [\"Default\", \"Default\", \"Default\", \"Default\", \"Default\", \"Default\", \"Default\", \"Default\", \"Default\", \"Default\", \"Default\", \"Default\", \"Default\", \"Default\", \"Default\", \"Default\", \"Default\", \"Default\", \"Default\", \"Default\", \"Default\", \"Default\", \"Default\", \"Default\", \"Default\", \"Default\", \"Default\", \"Default\", \"Default\", \"Default\", \"Topic1\", \"Topic1\", \"Topic1\", \"Topic1\", \"Topic1\", \"Topic1\", \"Topic1\", \"Topic1\", \"Topic1\", \"Topic1\", \"Topic1\", \"Topic1\", \"Topic1\", \"Topic1\", \"Topic1\", \"Topic1\", \"Topic1\", \"Topic1\", \"Topic1\", \"Topic1\", \"Topic1\", \"Topic1\", \"Topic1\", \"Topic1\", \"Topic1\", \"Topic1\", \"Topic1\", \"Topic1\", \"Topic1\", \"Topic1\", \"Topic1\", \"Topic1\", \"Topic1\", \"Topic1\", \"Topic1\", \"Topic1\", \"Topic1\", \"Topic1\", \"Topic1\", \"Topic1\", \"Topic2\", \"Topic2\", \"Topic2\", \"Topic2\", \"Topic2\", \"Topic2\", \"Topic2\", \"Topic2\", \"Topic2\", \"Topic2\", \"Topic2\", \"Topic2\", \"Topic2\", \"Topic2\", \"Topic2\", \"Topic2\", \"Topic2\", \"Topic2\", \"Topic2\", \"Topic2\", \"Topic2\", \"Topic2\", \"Topic2\", \"Topic2\", \"Topic2\", \"Topic2\", \"Topic2\", \"Topic2\", \"Topic2\", \"Topic2\", \"Topic2\", \"Topic2\", \"Topic2\", \"Topic2\", \"Topic2\", \"Topic2\", \"Topic2\", \"Topic3\", \"Topic3\", \"Topic3\", \"Topic3\", \"Topic3\", \"Topic3\", \"Topic3\", \"Topic3\", \"Topic3\", \"Topic3\", \"Topic3\", \"Topic3\", \"Topic3\", \"Topic3\", \"Topic3\", \"Topic3\", \"Topic3\", \"Topic3\", \"Topic3\", \"Topic3\", \"Topic3\", \"Topic3\", \"Topic3\", \"Topic3\", \"Topic3\", \"Topic3\", \"Topic3\", \"Topic3\", \"Topic3\", \"Topic3\", \"Topic3\", \"Topic3\", \"Topic3\", \"Topic3\", \"Topic3\", \"Topic3\", \"Topic3\", \"Topic4\", \"Topic4\", \"Topic4\", \"Topic4\", \"Topic4\", \"Topic4\", \"Topic4\", \"Topic4\", \"Topic4\", \"Topic4\", \"Topic4\", \"Topic4\", \"Topic4\", \"Topic4\", \"Topic4\", \"Topic4\", \"Topic4\", \"Topic4\", \"Topic4\", \"Topic4\", \"Topic4\", \"Topic4\", \"Topic4\", \"Topic4\", \"Topic4\", \"Topic4\", \"Topic4\", \"Topic4\", \"Topic4\", \"Topic4\", \"Topic4\", \"Topic4\", \"Topic4\", \"Topic5\", \"Topic5\", \"Topic5\", \"Topic5\", \"Topic5\", \"Topic5\", \"Topic5\", \"Topic5\", \"Topic5\", \"Topic5\", \"Topic5\", \"Topic5\", \"Topic5\", \"Topic5\", \"Topic5\", \"Topic5\", \"Topic5\", \"Topic5\", \"Topic5\", \"Topic5\", \"Topic5\", \"Topic5\", \"Topic5\", \"Topic5\", \"Topic5\", \"Topic5\", \"Topic5\", \"Topic5\", \"Topic5\", \"Topic5\", \"Topic5\"], \"Freq\": [69.0, 53.0, 56.0, 60.0, 61.0, 85.0, 27.0, 48.0, 58.0, 54.0, 38.0, 37.0, 23.0, 50.0, 33.0, 37.0, 36.0, 19.0, 50.0, 26.0, 30.0, 29.0, 36.0, 28.0, 35.0, 22.0, 15.0, 14.0, 27.0, 24.0, 39.71370315551758, 38.13075637817383, 37.11258316040039, 36.44602966308594, 36.04642105102539, 34.916507720947266, 33.67738342285156, 33.41992950439453, 32.628841400146484, 32.339515686035156, 31.912065505981445, 30.029964447021484, 29.78264045715332, 28.750993728637695, 28.361053466796875, 28.400087356567383, 27.493328094482422, 27.449796676635742, 27.44943618774414, 26.553409576416016, 26.1784610748291, 25.85251235961914, 25.021114349365234, 21.144691467285156, 21.077970504760742, 20.80052375793457, 20.691967010498047, 20.325069427490234, 20.217103958129883, 20.3273868560791, 46.928688049316406, 38.29958724975586, 44.95751190185547, 35.475502014160156, 51.07954788208008, 48.60582733154297, 41.24376678466797, 31.790531158447266, 28.05609130859375, 27.08568572998047, 60.97461700439453, 50.354461669921875, 34.67439270019531, 35.57740020751953, 29.612096786499023, 29.08258819580078, 28.314437866210938, 25.97709846496582, 25.159469604492188, 27.11846160888672, 24.771663665771484, 24.036121368408203, 23.52330780029297, 23.584890365600586, 21.853771209716797, 20.501401901245117, 20.384376525878906, 19.371074676513672, 19.004161834716797, 19.012937545776367, 18.905406951904297, 18.59287452697754, 18.130773544311523, 18.21489715576172, 17.879793167114258, 17.96417236328125, 17.920452117919922, 17.12706184387207, 17.057056427001953, 16.28915786743164, 22.040681838989258, 46.94869613647461, 30.018220901489258, 70.56742858886719, 21.708261489868164, 22.03580665588379, 21.16878318786621, 47.45173645019531, 68.26773834228516, 36.458492279052734, 36.31942367553711, 30.177175521850586, 28.74673843383789, 27.997533798217773, 24.30457878112793, 24.204246520996094, 24.085954666137695, 23.496597290039062, 18.102041244506836, 17.887619018554688, 16.897140502929688, 16.384857177734375, 15.92461109161377, 15.633596420288086, 54.081787109375, 15.323843955993652, 15.131985664367676, 14.817453384399414, 14.76091480255127, 14.348893165588379, 13.42532730102539, 13.320321083068848, 13.189797401428223, 13.125402450561523, 13.134182929992676, 13.205879211425781, 12.89630126953125, 25.483539581298828, 53.99475860595703, 48.69684982299805, 51.24031066894531, 18.238283157348633, 18.84757423400879, 14.892004013061523, 52.69773864746094, 38.18717575073242, 36.581790924072266, 32.559329986572266, 25.94060707092285, 22.339866638183594, 19.175508499145508, 18.294836044311523, 17.98813247680664, 17.38794708251953, 16.98929786682129, 16.31315040588379, 16.118349075317383, 16.10516929626465, 15.554039001464844, 15.706714630126953, 14.281445503234863, 14.86506175994873, 14.035810470581055, 12.334348678588867, 11.986492156982422, 11.868612289428711, 11.96193790435791, 11.800206184387207, 11.540712356567383, 10.479458808898926, 10.50224781036377, 9.954867362976074, 9.756821632385254, 9.52182388305664, 9.543839454650879, 15.727679252624512, 15.36933422088623, 27.030071258544922, 23.382253646850586, 18.892051696777344, 14.797255516052246, 14.068126678466797, 12.433392524719238, 10.081599235534668, 9.66932201385498, 9.703133583068848, 9.421676635742188, 8.844298362731934, 8.576115608215332, 8.727071762084961, 8.265271186828613, 8.069028854370117, 8.313726425170898, 7.997410297393799, 7.648507595062256, 7.357459545135498, 6.984841823577881, 6.8954057693481445, 6.584793567657471, 6.61115837097168, 6.613174915313721, 6.660001754760742, 5.958572864532471, 5.978783130645752, 5.927248954772949, 5.92818021774292, 5.553852558135986, 5.996980667114258], \"Term\": [\"microsoft\", \"great\", \"natur\", \"comfort\", \"like\", \"key\", \"mous\", \"love\", \"ergonom\", \"good\", \"best\", \"spacebar\", \"board\", \"button\", \"product\", \"replac\", \"nice\", \"perfect\", \"feel\", \"issu\", \"model\", \"come\", \"design\", \"standard\", \"need\", \"qualiti\", \"driver\", \"experi\", \"easi\", \"long\", \"ergo\", \"think\", \"right\", \"home\", \"go\", \"better\", \"get\", \"littl\", \"pain\", \"take\", \"layout\", \"hard\", \"recommend\", \"differ\", \"featur\", \"tri\", \"want\", \"rest\", \"review\", \"purchas\", \"make\", \"softwar\", \"finger\", \"price\", \"week\", \"stiff\", \"control\", \"stop\", \"star\", \"previous\", \"time\", \"problem\", \"wrist\", \"press\", \"work\", \"type\", \"space\", \"year\", \"buy\", \"hand\", \"like\", \"button\", \"need\", \"design\", \"split\", \"month\", \"zoom\", \"letter\", \"wear\", \"wireless\", \"quiet\", \"hour\", \"extra\", \"window\", \"posit\", \"actual\", \"lock\", \"desk\", \"leav\", \"stick\", \"user\", \"pretti\", \"favorit\", \"especi\", \"style\", \"happi\", \"number\", \"final\", \"volum\", \"spend\", \"start\", \"feel\", \"thing\", \"key\", \"function\", \"type\", \"space\", \"love\", \"microsoft\", \"replac\", \"nice\", \"model\", \"come\", \"standard\", \"long\", \"touch\", \"version\", \"excel\", \"easier\", \"sure\", \"annoy\", \"use\", \"origin\", \"read\", \"natur\", \"typist\", \"abl\", \"support\", \"center\", \"wife\", \"unit\", \"difficult\", \"kind\", \"one\", \"respons\", \"word\", \"hop\", \"easi\", \"comfort\", \"good\", \"ergonom\", \"peopl\", \"know\", \"buy\", \"great\", \"best\", \"spacebar\", \"product\", \"issu\", \"qualiti\", \"quick\", \"angl\", \"normal\", \"switch\", \"overal\", \"order\", \"fine\", \"correct\", \"own\", \"forc\", \"logitech\", \"tilt\", \"allow\", \"larg\", \"away\", \"enjoy\", \"disappoint\", \"extrem\", \"media\", \"couldn\", \"particular\", \"usual\", \"reach\", \"place\", \"hardwar\", \"look\", \"function\", \"mous\", \"board\", \"perfect\", \"driver\", \"experi\", \"shortcut\", \"lot\", \"item\", \"calcul\", \"ship\", \"send\", \"hold\", \"regist\", \"provid\", \"awesom\", \"includ\", \"real\", \"thank\", \"track\", \"receiv\", \"smooth\", \"reliabl\", \"feet\", \"keypad\", \"useless\", \"shoulder\", \"pay\", \"devic\", \"trackbal\", \"everyday\", \"activ\"], \"Total\": [69.0, 53.0, 56.0, 60.0, 61.0, 85.0, 27.0, 48.0, 58.0, 54.0, 38.0, 37.0, 23.0, 50.0, 33.0, 37.0, 36.0, 19.0, 50.0, 26.0, 30.0, 29.0, 36.0, 28.0, 35.0, 22.0, 15.0, 14.0, 27.0, 24.0, 40.32663345336914, 38.73493194580078, 37.71742248535156, 37.04734802246094, 36.65070724487305, 35.51927185058594, 34.277156829833984, 34.02172088623047, 33.22849655151367, 32.93791198730469, 32.52128601074219, 30.63210678100586, 30.384111404418945, 29.355937957763672, 28.965974807739258, 29.005855560302734, 28.095643997192383, 28.05276107788086, 28.054563522338867, 27.15397834777832, 26.78011703491211, 26.46158790588379, 25.624164581298828, 21.741416931152344, 21.68088150024414, 21.410268783569336, 21.304630279541016, 20.928815841674805, 20.819061279296875, 20.939619064331055, 48.474735260009766, 40.0158576965332, 52.76837921142578, 42.876853942871094, 69.22730255126953, 71.10633850097656, 62.86351013183594, 49.93269348144531, 43.3900032043457, 41.7179069519043, 61.57412338256836, 50.96086120605469, 35.27641677856445, 36.24260330200195, 30.214387893676758, 29.68637466430664, 28.926448822021484, 26.5748233795166, 25.757423400878906, 27.767486572265625, 25.377941131591797, 24.63617515563965, 24.126665115356445, 24.19171142578125, 22.456939697265625, 21.108505249023438, 20.995634078979492, 19.97121810913086, 19.606212615966797, 19.617250442504883, 19.51206398010254, 19.19641876220703, 18.729406356811523, 18.820341110229492, 18.47930335998535, 18.567729949951172, 18.522991180419922, 17.734010696411133, 17.666452407836914, 16.89197540283203, 22.945322036743164, 50.13692855834961, 32.21298599243164, 85.5235824584961, 37.532203674316406, 71.10633850097656, 62.86351013183594, 48.037960052490234, 69.21920013427734, 37.05131149291992, 36.912593841552734, 30.773601531982422, 29.3417911529541, 28.593225479125977, 24.89638328552246, 24.802217483520508, 24.682050704956055, 24.08840560913086, 18.699277877807617, 18.480167388916016, 17.497079849243164, 16.984371185302734, 16.523860931396484, 16.236125946044922, 56.18769073486328, 15.92255973815918, 15.730576515197754, 15.41133975982666, 15.358692169189453, 14.941709518432617, 14.022668838500977, 13.917431831359863, 13.78520679473877, 13.720800399780273, 13.730558395385742, 13.806779861450195, 13.503534317016602, 27.291723251342773, 60.53671646118164, 54.40718078613281, 58.3139533996582, 20.393606185913086, 24.740617752075195, 43.3900032043457, 53.29658126831055, 38.7907829284668, 37.194698333740234, 33.166893005371094, 26.544748306274414, 22.94427490234375, 19.782493591308594, 18.906326293945312, 18.596397399902344, 17.993120193481445, 17.59804344177246, 16.91677474975586, 16.721147537231445, 16.72658920288086, 16.163095474243164, 16.325580596923828, 14.886773109436035, 15.496251106262207, 14.649968147277832, 12.93696117401123, 12.588981628417969, 12.474830627441406, 12.576383590698242, 12.407661437988281, 12.160014152526855, 11.085060119628906, 11.12689208984375, 10.563126564025879, 10.36446475982666, 10.12925910949707, 10.161602020263672, 35.32612991333008, 37.532203674316406, 27.65386390686035, 23.997365951538086, 19.50375747680664, 15.428750038146973, 14.690319061279297, 13.054039001464844, 10.70059585571289, 10.280235290527344, 10.323486328125, 10.04392147064209, 9.460723876953125, 9.19262981414795, 9.35473918914795, 8.887139320373535, 8.678174018859863, 8.942617416381836, 8.62348747253418, 8.25429630279541, 7.98296594619751, 7.59722900390625, 7.510946273803711, 7.203958988189697, 7.242210865020752, 7.251046657562256, 7.30455207824707, 6.576310157775879, 6.601553916931152, 6.5513787269592285, 6.5524702072143555, 6.171171188354492, 6.668060302734375], \"loglift\": [30.0, 29.0, 28.0, 27.0, 26.0, 25.0, 24.0, 23.0, 22.0, 21.0, 20.0, 19.0, 18.0, 17.0, 16.0, 15.0, 14.0, 13.0, 12.0, 11.0, 10.0, 9.0, 8.0, 7.0, 6.0, 5.0, 4.0, 3.0, 2.0, 1.0, 1.0110000371932983, 1.010599970817566, 1.010200023651123, 1.0099999904632568, 1.0096999406814575, 1.0091999769210815, 1.0087000131607056, 1.0084999799728394, 1.0081000328063965, 1.0080000162124634, 1.0074000358581543, 1.006500005722046, 1.0063999891281128, 1.0054999589920044, 1.0053000450134277, 1.0053000450134277, 1.004699945449829, 1.0046000480651855, 1.0046000480651855, 1.003999948501587, 1.003600001335144, 1.003100037574768, 1.002500057220459, 0.9984999895095825, 0.998199999332428, 0.9975000023841858, 0.9972000122070312, 0.9970999956130981, 0.996999979019165, 0.9966999888420105, 0.9939000010490417, 0.9825000166893005, 0.8661999702453613, 0.836899995803833, 0.7222999930381775, 0.6459000110626221, 0.6049000024795532, 0.5748999714851379, 0.5903000235557556, 0.5943999886512756, 1.3696000576019287, 1.367400050163269, 1.3622000217437744, 1.36080002784729, 1.3592000007629395, 1.3588000535964966, 1.3580000400543213, 1.356600046157837, 1.3559000492095947, 1.3557000160217285, 1.3552000522613525, 1.354699969291687, 1.3539999723434448, 1.3539999723434448, 1.3521000146865845, 1.3502000570297241, 1.3497999906539917, 1.3488999605178833, 1.3481999635696411, 1.348099946975708, 1.3478000164031982, 1.3473999500274658, 1.3468999862670898, 1.3466999530792236, 1.3464000225067139, 1.3463000059127808, 1.3463000059127808, 1.344499945640564, 1.3443000316619873, 1.343000054359436, 1.3391000032424927, 1.3136999607086182, 1.3087999820709229, 1.1871000528335571, 0.8319000005722046, 0.2079000025987625, 0.29089999198913574, 1.6539000272750854, 1.6523000001907349, 1.649999976158142, 1.649899959564209, 1.6466000080108643, 1.6456999778747559, 1.6450999975204468, 1.6420999765396118, 1.641700029373169, 1.641700029373169, 1.6412999629974365, 1.6337000131607056, 1.6335999965667725, 1.6312999725341797, 1.6302000284194946, 1.6291999816894531, 1.6282999515533447, 1.6279000043869019, 1.6277999877929688, 1.6274000406265259, 1.6268999576568604, 1.6265000104904175, 1.6256999969482422, 1.6225999593734741, 1.6223000288009644, 1.621999979019165, 1.6217999458312988, 1.6217000484466553, 1.6217000484466553, 1.6201000213623047, 1.597599983215332, 1.551800012588501, 1.555299997329712, 1.5368000268936157, 1.5544999837875366, 1.3940999507904053, 0.5967000126838684, 1.9559999704360962, 1.95169997215271, 1.950700044631958, 1.948799967765808, 1.9443000555038452, 1.940600037574768, 1.9362000226974487, 1.934499979019165, 1.9341000318527222, 1.9330999851226807, 1.9321000576019287, 1.930999994277954, 1.9306000471115112, 1.9294999837875366, 1.9289000034332275, 1.9286999702453613, 1.9257999658584595, 1.9257999658584595, 1.9244999885559082, 1.919600009918213, 1.9183000326156616, 1.9175000190734863, 1.917199969291687, 1.917099952697754, 1.9150999784469604, 1.9112000465393066, 1.909600019454956, 1.9079999923706055, 1.9069000482559204, 1.905500054359436, 1.9046000242233276, 1.1581000089645386, 1.0744999647140503, 2.7716000080108643, 2.768399953842163, 2.762500047683716, 2.7525999546051025, 2.7511000633239746, 2.745699882507324, 2.734800100326538, 2.733099937438965, 2.7323999404907227, 2.7304999828338623, 2.7269999980926514, 2.7249999046325684, 2.7249999046325684, 2.72189998626709, 2.72160005569458, 2.7214999198913574, 2.7190001010894775, 2.7181999683380127, 2.7128000259399414, 2.710400104522705, 2.708899974822998, 2.7044999599456787, 2.703200101852417, 2.7023000717163086, 2.7019999027252197, 2.6958000659942627, 2.6953001022338867, 2.6942999362945557, 2.6942999362945557, 2.688999891281128, 2.6882998943328857], \"logprob\": [30.0, 29.0, 28.0, 27.0, 26.0, 25.0, 24.0, 23.0, 22.0, 21.0, 20.0, 19.0, 18.0, 17.0, 16.0, 15.0, 14.0, 13.0, 12.0, 11.0, 10.0, 9.0, 8.0, 7.0, 6.0, 5.0, 4.0, 3.0, 2.0, 1.0, -4.4319000244140625, -4.472599983215332, -4.49970006942749, -4.5177998542785645, -4.528800010681152, -4.560699939727783, -4.596799850463867, -4.604499816894531, -4.628399848937988, -4.63730001449585, -4.650599956512451, -4.711400032043457, -4.719699859619141, -4.754899978637695, -4.768599987030029, -4.767199993133545, -4.799699783325195, -4.801300048828125, -4.801300048828125, -4.834499835968018, -4.848700046539307, -4.861199855804443, -4.893899917602539, -5.06220006942749, -5.065400123596191, -5.07859992980957, -5.083899974822998, -5.101799964904785, -5.107100009918213, -5.101600170135498, -4.264999866485596, -4.468200206756592, -4.3078999519348145, -4.5447998046875, -4.180200099945068, -4.229899883270264, -4.394100189208984, -4.654399871826172, -4.779399871826172, -4.814599990844727, -3.6501998901367188, -3.8415000438690186, -4.214600086212158, -4.188899993896484, -4.372399806976318, -4.390500068664551, -4.417200088500977, -4.503399848937988, -4.535399913787842, -4.460400104522705, -4.550899982452393, -4.581099987030029, -4.60260009765625, -4.599999904632568, -4.676199913024902, -4.740099906921387, -4.745800018310547, -4.796800136566162, -4.815999984741211, -4.815499782562256, -4.821199893951416, -4.837800025939941, -4.86299991607666, -4.858399868011475, -4.8769001960754395, -4.872200012207031, -4.87470006942749, -4.920000076293945, -4.923999786376953, -4.970099925994873, -4.667699813842773, -3.911600112915039, -4.358799934387207, -3.503999948501587, -4.6828999519348145, -4.667900085449219, -4.708099842071533, -3.6140999794006348, -3.2504000663757324, -3.877700090408325, -3.881500005722046, -4.066699981689453, -4.115300178527832, -4.14169979095459, -4.283199787139893, -4.287300109863281, -4.292200088500977, -4.316999912261963, -4.5777997970581055, -4.589700222015381, -4.646699905395508, -4.677499771118164, -4.705999851226807, -4.724400043487549, -3.483299970626831, -4.7444000244140625, -4.756999969482422, -4.7779998779296875, -4.781799793243408, -4.810200214385986, -4.876699924468994, -4.884500026702881, -4.894400119781494, -4.8993000984191895, -4.898600101470947, -4.893199920654297, -4.916900157928467, -4.235799789428711, -3.4848999977111816, -3.588200092315674, -3.5373001098632812, -4.570300102233887, -4.537399768829346, -4.7729997634887695, -3.2081000804901123, -3.530100107192993, -3.5731000900268555, -3.6895999908447266, -3.916800022125244, -4.066299915313721, -4.218999862670898, -4.265999794006348, -4.282899856567383, -4.31689977645874, -4.340099811553955, -4.38070011138916, -4.3927001953125, -4.393499851226807, -4.428299903869629, -4.418600082397461, -4.513700008392334, -4.473599910736084, -4.531000137329102, -4.660200119018555, -4.688899993896484, -4.698699951171875, -4.690899848937988, -4.704500198364258, -4.726799964904785, -4.823200225830078, -4.821000099182129, -4.874599933624268, -4.894700050354004, -4.919099807739258, -4.9166998863220215, -4.417200088500977, -4.440299987792969, -3.0485999584198, -3.1935999393463135, -3.4068000316619873, -3.651099920272827, -3.70169997215271, -3.825200080871582, -4.034900188446045, -4.076600074768066, -4.0731000900268555, -4.10260009765625, -4.165800094604492, -4.196599960327148, -4.179100036621094, -4.233500003814697, -4.257500171661377, -4.227700233459473, -4.26639986038208, -4.311100006103516, -4.349800109863281, -4.401800155639648, -4.414700031280518, -4.4608001708984375, -4.4567999839782715, -4.456500053405762, -4.449399948120117, -4.560699939727783, -4.557300090789795, -4.565999984741211, -4.565800189971924, -4.631100177764893, -4.554299831390381]}, \"token.table\": {\"Topic\": [3, 5, 2, 4, 4, 3, 4, 5, 4, 1, 5, 2, 1, 3, 5, 3, 3, 1, 3, 1, 4, 4, 2, 2, 5, 1, 3, 4, 5, 1, 3, 3, 4, 1, 2, 3, 2, 5, 3, 5, 2, 4, 2, 1, 2, 3, 5, 2, 4, 1, 4, 2, 4, 1, 1, 3, 5, 4, 1, 2, 2, 1, 4, 5, 1, 3, 2, 5, 4, 5, 1, 2, 5, 3, 2, 3, 4, 1, 2, 2, 2, 1, 2, 4, 3, 1, 4, 5, 3, 1, 4, 3, 4, 3, 2, 5, 2, 3, 2, 3, 4, 2, 3, 4, 3, 4, 4, 1, 4, 5, 1, 3, 5, 4, 2, 1, 2, 2, 1, 1, 1, 3, 4, 5, 1, 4, 4, 2, 4, 3, 5, 5, 1, 5, 5, 3, 3, 1, 1, 1, 5, 5, 5, 5, 5, 1, 1, 2, 4, 2, 2, 3, 1, 2, 2, 1, 1, 2, 3, 3, 4, 1, 5, 1, 2, 1, 4, 1, 3, 3, 5, 5, 1, 1, 2, 3, 3, 3, 5, 2, 4, 3, 2, 1, 2, 1, 3, 2, 2, 3, 1, 2, 3, 4, 1, 3, 1, 2, 3, 2], \"Freq\": [0.9535568952560425, 0.8998119235038757, 0.9948596358299255, 0.9556334614753723, 0.9520622491836548, 0.9715906977653503, 0.9532145261764526, 0.9218528866767883, 0.9796141386032104, 0.9853805899620056, 0.958438515663147, 0.9811451435089111, 0.6453099250793457, 0.34570175409317017, 0.9686650037765503, 0.9766456484794617, 0.9883514046669006, 0.09911340475082397, 0.8920206427574158, 0.9857012033462524, 0.9565608501434326, 0.9021151065826416, 0.9933061003684998, 0.9513691067695618, 0.9158377647399902, 0.9878751039505005, 0.9340803623199463, 0.9541693925857544, 0.9722109436988831, 0.03664114698767662, 0.916028618812561, 0.9626040458679199, 0.961936891078949, 0.9919003248214722, 0.12003988027572632, 0.8745762705802917, 0.9564120173454285, 0.9722627997398376, 0.9548162221908569, 0.9530085921287537, 0.9947500228881836, 0.9671443700790405, 0.9610555768013, 0.9666513800621033, 0.9374327659606934, 0.05983613431453705, 0.966555655002594, 0.9586099982261658, 0.9568721055984497, 0.9756415486335754, 0.9800570011138916, 0.5861632823944092, 0.3996568024158478, 0.9919142127037048, 0.982245683670044, 0.9006164073944092, 0.09189963340759277, 0.9944352507591248, 0.6472041010856628, 0.3355872929096222, 0.9694238305091858, 0.9793645739555359, 0.9840968251228333, 0.9790452122688293, 0.9717294573783875, 0.9627109169960022, 0.9741771817207336, 0.8945926427841187, 0.979478120803833, 0.9727403521537781, 0.17539021372795105, 0.8301804065704346, 0.9653778672218323, 0.9430398941040039, 0.2020968198776245, 0.7679678797721863, 0.927574872970581, 0.9839709401130676, 0.9690805673599243, 0.9783696532249451, 0.9906759262084961, 0.9699685573577881, 0.9525790214538574, 0.9404321312904358, 0.9639954566955566, 0.5378454923629761, 0.452922523021698, 0.9345273971557617, 0.9783928990364075, 0.9708695411682129, 0.9868409633636475, 0.9823864102363586, 0.014446858316659927, 0.9748615026473999, 0.9768791198730469, 0.9763554334640503, 0.03559498488903046, 0.9610645771026611, 0.9921642541885376, 0.9752768874168396, 0.9679294228553772, 0.9717652797698975, 0.9474666118621826, 0.9458067417144775, 0.9682967066764832, 0.9660164713859558, 0.9899094104766846, 0.993123471736908, 0.9885959029197693, 0.908876895904541, 0.09806995093822479, 0.8826295733451843, 0.9741712808609009, 0.9872390627861023, 0.9796526432037354, 0.8162912130355835, 0.16325823962688446, 0.9897679686546326, 0.9551272392272949, 0.9658983945846558, 0.9496235251426697, 0.02499009296298027, 0.994968056678772, 0.9001771807670593, 0.9943294525146484, 0.9588448405265808, 0.9604451656341553, 0.9851074814796448, 0.9648351669311523, 0.9854567646980286, 0.9276989102363586, 0.921388566493988, 0.9873581528663635, 0.9620792269706726, 0.971687912940979, 0.9716255068778992, 0.946793258190155, 0.9624720811843872, 0.9624102711677551, 0.9809790253639221, 0.9513013958930969, 0.8960643410682678, 0.9192557334899902, 0.912365734577179, 0.9319730997085571, 0.9825562834739685, 0.6522066593170166, 0.3340570628643036, 0.9947654008865356, 0.947195291519165, 0.9929044246673584, 0.9792529344558716, 0.9606581330299377, 0.9588010907173157, 0.968535304069519, 0.9808377623558044, 0.9556202292442322, 0.9740626811981201, 0.9733092784881592, 0.9740171432495117, 0.9448055624961853, 0.9715248346328735, 0.9691922664642334, 0.06208676099777222, 0.9313014149665833, 0.9810266494750977, 0.9679760336875916, 0.9695772528648376, 0.02062930352985859, 0.9676554203033447, 0.8768670558929443, 0.9156851768493652, 0.9653223156929016, 0.6891087293624878, 0.30939576029777527, 0.9420595765113831, 0.9270703196525574, 0.9420425295829773, 0.9583065509796143, 0.9737565517425537, 0.9466894268989563, 0.9723665118217468, 0.9622758030891418, 0.9610030651092529, 0.9705939888954163, 0.9685953259468079, 0.9369744658470154, 0.9920753240585327, 0.9723602533340454, 0.9415664076805115, 0.7367035746574402, 0.08667100965976715, 0.115561343729496, 0.057780671864748, 0.8527834415435791, 0.13265520334243774, 0.6408627033233643, 0.10013479739427567, 0.26035046577453613, 0.9679722785949707], \"Term\": [\"abl\", \"activ\", \"actual\", \"allow\", \"angl\", \"annoy\", \"away\", \"awesom\", \"best\", \"better\", \"board\", \"button\", \"buy\", \"buy\", \"calcul\", \"center\", \"come\", \"comfort\", \"comfort\", \"control\", \"correct\", \"couldn\", \"design\", \"desk\", \"devic\", \"differ\", \"difficult\", \"disappoint\", \"driver\", \"easi\", \"easi\", \"easier\", \"enjoy\", \"ergo\", \"ergonom\", \"ergonom\", \"especi\", \"everyday\", \"excel\", \"experi\", \"extra\", \"extrem\", \"favorit\", \"featur\", \"feel\", \"feel\", \"feet\", \"final\", \"fine\", \"finger\", \"forc\", \"function\", \"function\", \"get\", \"go\", \"good\", \"good\", \"great\", \"hand\", \"hand\", \"happi\", \"hard\", \"hardwar\", \"hold\", \"home\", \"hop\", \"hour\", \"includ\", \"issu\", \"item\", \"key\", \"key\", \"keypad\", \"kind\", \"know\", \"know\", \"larg\", \"layout\", \"leav\", \"letter\", \"like\", \"littl\", \"lock\", \"logitech\", \"long\", \"look\", \"look\", \"lot\", \"love\", \"make\", \"media\", \"microsoft\", \"microsoft\", \"model\", \"month\", \"mous\", \"natur\", \"natur\", \"need\", \"nice\", \"normal\", \"number\", \"one\", \"order\", \"origin\", \"overal\", \"own\", \"pain\", \"particular\", \"pay\", \"peopl\", \"peopl\", \"perfect\", \"place\", \"posit\", \"press\", \"press\", \"pretti\", \"previous\", \"price\", \"problem\", \"problem\", \"product\", \"provid\", \"purchas\", \"qualiti\", \"quick\", \"quiet\", \"reach\", \"read\", \"real\", \"receiv\", \"recommend\", \"regist\", \"reliabl\", \"replac\", \"respons\", \"rest\", \"review\", \"right\", \"send\", \"ship\", \"shortcut\", \"shoulder\", \"smooth\", \"softwar\", \"space\", \"space\", \"spacebar\", \"spend\", \"split\", \"standard\", \"star\", \"start\", \"stick\", \"stiff\", \"stop\", \"style\", \"support\", \"sure\", \"switch\", \"take\", \"thank\", \"thing\", \"thing\", \"think\", \"tilt\", \"time\", \"time\", \"touch\", \"track\", \"trackbal\", \"tri\", \"type\", \"type\", \"typist\", \"unit\", \"use\", \"useless\", \"user\", \"usual\", \"version\", \"volum\", \"want\", \"wear\", \"week\", \"wife\", \"window\", \"wireless\", \"word\", \"work\", \"work\", \"work\", \"work\", \"wrist\", \"wrist\", \"year\", \"year\", \"year\", \"zoom\"]}, \"R\": 30, \"lambda.step\": 0.01, \"plot.opts\": {\"xlab\": \"PC1\", \"ylab\": \"PC2\"}, \"topic.order\": [5, 3, 1, 2, 4]};\n",
       "\n",
       "function LDAvis_load_lib(url, callback){\n",
       "  var s = document.createElement('script');\n",
       "  s.src = url;\n",
       "  s.async = true;\n",
       "  s.onreadystatechange = s.onload = callback;\n",
       "  s.onerror = function(){console.warn(\"failed to load library \" + url);};\n",
       "  document.getElementsByTagName(\"head\")[0].appendChild(s);\n",
       "}\n",
       "\n",
       "if(typeof(LDAvis) !== \"undefined\"){\n",
       "   // already loaded: just create the visualization\n",
       "   !function(LDAvis){\n",
       "       new LDAvis(\"#\" + \"ldavis_el1842821655663855129680231178\", ldavis_el1842821655663855129680231178_data);\n",
       "   }(LDAvis);\n",
       "}else if(typeof define === \"function\" && define.amd){\n",
       "   // require.js is available: use it to load d3/LDAvis\n",
       "   require.config({paths: {d3: \"https://cdnjs.cloudflare.com/ajax/libs/d3/3.5.5/d3.min\"}});\n",
       "   require([\"d3\"], function(d3){\n",
       "      window.d3 = d3;\n",
       "      LDAvis_load_lib(\"https://cdn.rawgit.com/bmabey/pyLDAvis/files/ldavis.v1.0.0.js\", function(){\n",
       "        new LDAvis(\"#\" + \"ldavis_el1842821655663855129680231178\", ldavis_el1842821655663855129680231178_data);\n",
       "      });\n",
       "    });\n",
       "}else{\n",
       "    // require.js not available: dynamically load d3 & LDAvis\n",
       "    LDAvis_load_lib(\"https://cdnjs.cloudflare.com/ajax/libs/d3/3.5.5/d3.min.js\", function(){\n",
       "         LDAvis_load_lib(\"https://cdn.rawgit.com/bmabey/pyLDAvis/files/ldavis.v1.0.0.js\", function(){\n",
       "                 new LDAvis(\"#\" + \"ldavis_el1842821655663855129680231178\", ldavis_el1842821655663855129680231178_data);\n",
       "            })\n",
       "         });\n",
       "}\n",
       "</script>"
      ],
      "text/plain": [
       "PreparedData(topic_coordinates=              x         y  topics  cluster       Freq\n",
       "topic                                                \n",
       "4      0.163372  0.244203       1        1  35.830872\n",
       "2     -0.149517  0.155547       2        1  25.173834\n",
       "0      0.240733 -0.225853       3        1  18.897326\n",
       "1     -0.236189 -0.158556       4        1  13.982876\n",
       "3     -0.018398 -0.015341       5        1   6.115089, topic_info=    Category       Freq       Term      Total  loglift  logprob\n",
       "78   Default  69.000000  microsoft  69.000000  30.0000  30.0000\n",
       "237  Default  53.000000      great  53.000000  29.0000  29.0000\n",
       "82   Default  56.000000      natur  56.000000  28.0000  28.0000\n",
       "15   Default  60.000000    comfort  60.000000  27.0000  27.0000\n",
       "187  Default  61.000000       like  61.000000  26.0000  26.0000\n",
       "..       ...        ...        ...        ...      ...      ...\n",
       "690   Topic5   5.978783        pay   6.601554   2.6953  -4.5573\n",
       "392   Topic5   5.927249      devic   6.551379   2.6943  -4.5660\n",
       "655   Topic5   5.928180   trackbal   6.552470   2.6943  -4.5658\n",
       "608   Topic5   5.553853   everyday   6.171171   2.6890  -4.6311\n",
       "714   Topic5   5.996981      activ   6.668060   2.6883  -4.5543\n",
       "\n",
       "[208 rows x 6 columns], token_table=      Topic      Freq    Term\n",
       "term                         \n",
       "0         3  0.953557     abl\n",
       "714       5  0.899812   activ\n",
       "1         2  0.994860  actual\n",
       "207       4  0.955633   allow\n",
       "384       4  0.952062    angl\n",
       "...     ...       ...     ...\n",
       "161       3  0.132655   wrist\n",
       "162       1  0.640863    year\n",
       "162       2  0.100135    year\n",
       "162       3  0.260350    year\n",
       "163       2  0.967972    zoom\n",
       "\n",
       "[200 rows x 3 columns], R=30, lambda_step=0.01, plot_opts={'xlab': 'PC1', 'ylab': 'PC2'}, topic_order=[5, 3, 1, 2, 4])"
      ]
     },
     "execution_count": 1191,
     "metadata": {},
     "output_type": "execute_result"
    }
   ],
   "source": [
    "pyLDAvis.enable_notebook()\n",
    "vis = pyLDAvis.gensim.prepare(lda_model_5, corpus, dictionary)\n",
    "vis"
   ]
  },
  {
   "cell_type": "markdown",
   "metadata": {},
   "source": [
    "Topic 1: functionality (work, type, time)\n",
    "    \n",
    "Topic 2: user experience (key, like, button, feel, design)\n",
    "\n",
    "Topic 3: brand and product name (microsoft, nature, comfort, ergonomic)\n",
    "\n",
    "Topic 4: subjective (great, best, spacebar)\n",
    "\n",
    "Topic 5: compatibility (mouse, board, perfect, driver, experience)\n",
    "    "
   ]
  },
  {
   "cell_type": "markdown",
   "metadata": {},
   "source": [
    "### Features engineering"
   ]
  },
  {
   "cell_type": "markdown",
   "metadata": {},
   "source": [
    "Som epossible features from literature: `length`, `reviewer identity`, `foreign brand`, `product type`, `extremity (low/high ratings)`,`writing style`, `timeliness`, `spelling errors`, `readability`, `subjectivity`, `rating scores`, ``"
   ]
  },
  {
   "cell_type": "markdown",
   "metadata": {},
   "source": [
    "#### Convert vote variable to float type"
   ]
  },
  {
   "cell_type": "code",
   "execution_count": 1192,
   "metadata": {},
   "outputs": [],
   "source": [
    "def cleanvote(df):\n",
    "    \"\"\"\n",
    "    Outputs the votes as numerical values \n",
    "    \"\"\"\n",
    "    try:\n",
    "        return float(df['vote'])\n",
    "    except ValueError:\n",
    "        return float(df['vote'].replace(',', ''))\n",
    "    \n",
    "df['vote'] = df.apply(cleanvote, axis=1)"
   ]
  },
  {
   "cell_type": "markdown",
   "metadata": {},
   "source": [
    "#### Get the number of associated images"
   ]
  },
  {
   "cell_type": "code",
   "execution_count": 1193,
   "metadata": {},
   "outputs": [],
   "source": [
    "def imagenum(df):\n",
    "    \"\"\"\n",
    "    Outputs the number of images from the `image` column\n",
    "    \"\"\"\n",
    "    if type(df['image']) == float:\n",
    "        return 0\n",
    "    else:\n",
    "        return len(df['image'])\n",
    "\n",
    "df['imagenum'] = df.apply(imagenum, axis=1)"
   ]
  },
  {
   "cell_type": "markdown",
   "metadata": {},
   "source": [
    "#### Get the indicator of being verified or not"
   ]
  },
  {
   "cell_type": "code",
   "execution_count": 1194,
   "metadata": {},
   "outputs": [],
   "source": [
    "def verified(df):\n",
    "    \"\"\"\n",
    "    Outputs the indicator (1/0) from the `verified` column\n",
    "    \"\"\"\n",
    "    if df['verified'] == True:\n",
    "        return 1\n",
    "    else:\n",
    "        return 0\n",
    "    \n",
    "df['verified'] = df.apply(verified, axis=1)"
   ]
  },
  {
   "cell_type": "markdown",
   "metadata": {},
   "source": [
    "#### Get the indicator of using a real name\n",
    "\n",
    "One tried approach: named entities extraction\n",
    "\n",
    "Pbm: cannot tell the real or seemingly-real names\n",
    "\n",
    "https://towardsdatascience.com/custom-named-entity-recognition-using-spacy-7140ebbb3718\n",
    "\n",
    "https://spacy.io/usage/linguistic-features#named-entities\n",
    "\n",
    "Approach: return true if the `revierName` has verfied first names by gender guesser (not unknown in the name database), (middle name), and last name \n",
    "\n",
    "https://pypi.org/project/gender-guesser/"
   ]
  },
  {
   "cell_type": "code",
   "execution_count": 1195,
   "metadata": {},
   "outputs": [],
   "source": [
    "def nameverified(df):\n",
    "    \"\"\"\n",
    "    Output the indicator (1/0) from the `reviewerName` column \n",
    "    \"\"\"\n",
    "    try:\n",
    "        parts = df['reviewerName'].split(' ')\n",
    "        if len(parts) > 2:\n",
    "            if gender.Detector().get_gender(parts[0]) != 'unknown': \n",
    "                return 1\n",
    "        else:\n",
    "            return 0\n",
    "    except AttributeError:\n",
    "        return 0\n",
    "\n",
    "df['nameverified'] = df.apply(nameverified, axis=1)\n",
    "df['nameverified'] = df['nameverified'].fillna(0)"
   ]
  },
  {
   "cell_type": "markdown",
   "metadata": {},
   "source": [
    "#### Sentiment"
   ]
  },
  {
   "cell_type": "code",
   "execution_count": 1196,
   "metadata": {},
   "outputs": [],
   "source": [
    "def sentiment(df):\n",
    "    \"\"\"\n",
    "    Outputs the sentiment score for each review\n",
    "    \"\"\"\n",
    "    return analyser.polarity_scores(df['reviewText'])['compound']\n",
    "\n",
    "df['Sentiment'] = df.apply(sentiment, axis=1)"
   ]
  },
  {
   "cell_type": "code",
   "execution_count": 1197,
   "metadata": {},
   "outputs": [
    {
     "data": {
      "text/plain": [
       "0.376"
      ]
     },
     "execution_count": 1197,
     "metadata": {},
     "output_type": "execute_result"
    }
   ],
   "source": [
    "# Sentiment scores are positively correlated with the overall rating, but the correlation is not strong\n",
    "round(np.corrcoef(df['rating'],  df[\"Sentiment\"])[0,1],3)"
   ]
  },
  {
   "cell_type": "code",
   "execution_count": 1198,
   "metadata": {},
   "outputs": [
    {
     "data": {
      "text/plain": [
       "0.033122594194551894"
      ]
     },
     "execution_count": 1198,
     "metadata": {},
     "output_type": "execute_result"
    }
   ],
   "source": [
    "# correlation within the reviews with positive votes\n",
    "dfnotnull = df[df['vote'].isna()==0]\n",
    "np.corrcoef(dfnotnull['vote'],  dfnotnull[\"Sentiment\"])[0,1]"
   ]
  },
  {
   "cell_type": "markdown",
   "metadata": {},
   "source": [
    "#### Length\n",
    "\n",
    "https://pypi.org/project/textstat/"
   ]
  },
  {
   "cell_type": "code",
   "execution_count": 1199,
   "metadata": {},
   "outputs": [],
   "source": [
    "def length(df):\n",
    "    \"\"\"\n",
    "    Output the length for each review\n",
    "    \"\"\"\n",
    "    return textstat.lexicon_count(df['reviewText'], removepunct = True)\n",
    "\n",
    "df['Length'] = df.apply(length, axis=1)"
   ]
  },
  {
   "cell_type": "markdown",
   "metadata": {},
   "source": [
    "#### Sentence count"
   ]
  },
  {
   "cell_type": "code",
   "execution_count": 1200,
   "metadata": {},
   "outputs": [],
   "source": [
    "def sentence_count(df):\n",
    "    \"\"\"\n",
    "    Output the number of sentences for each review\n",
    "    \"\"\"\n",
    "    return textstat.sentence_count(df['reviewText'])\n",
    "\n",
    "df['Sentences'] = df.apply(sentence_count, axis=1)"
   ]
  },
  {
   "cell_type": "markdown",
   "metadata": {},
   "source": [
    "#### Flesch reading ease score"
   ]
  },
  {
   "cell_type": "code",
   "execution_count": 1201,
   "metadata": {},
   "outputs": [],
   "source": [
    "def flesch(df):\n",
    "    \"\"\"\n",
    "    Output the Flesch reading ease score for each review\n",
    "    \"\"\"\n",
    "    return textstat.flesch_reading_ease(df['reviewText'])\n",
    "\n",
    "df['readability'] = df.apply(flesch, axis=1)"
   ]
  },
  {
   "cell_type": "markdown",
   "metadata": {},
   "source": [
    "#### Number of spelling mistakes"
   ]
  },
  {
   "cell_type": "markdown",
   "metadata": {},
   "source": [
    "https://www.analyticsvidhya.com/blog/2018/02/natural-language-processing-for-beginners-using-textblob/"
   ]
  },
  {
   "cell_type": "code",
   "execution_count": 1202,
   "metadata": {},
   "outputs": [
    {
     "name": "stdout",
     "output_type": "stream",
     "text": [
      "Is a software developer, I am literally attached to my keyboard.  In a typical day, I'll spend anywhere between 5-8 hours tying, so it's of critical importance that the keyboard I use is comfortable.  Is most programme and twists can fattest, the Microsoft Go series of keyboard is the best keyboard for prolonged use.\n",
      "\n",
      "Having used the Go keyboard in some form or another for the past 4 years (most recently, the Tireless Elite set), I must say that this keyboard is a step above.\n",
      "\n",
      "To begin with, the construction is very solid.  There is far less flex in the plastic and the keyboard as a whole compared to my Tireless Elite.  The wrist pad is made of a nicely texture faut leather material with a tiny bit of adding.  It feels rather unable (not to mention comfortable).  It's a good addition as one of my main grapes with the of ergot keyboard was that it was hard to fit one of those get wrist rests around the curved base of the keyboard.\n",
      "\n",
      "Compared to previous of keyboard that I've owned, the keys on this keyboard are very well damned in terms of the sound the produce.  It's very mute, even with my hard strokes.  One thing that will take some adjusting to is the increased curvature (along two different planes) between where your pink and index fingers rest (A,F and J,;).  Whereas the older keyboard have a relatively flat incline, this keyboard has a slight curve (concave).  In addition, there is also a very subtle curve across the keyboard as well (a horizontal curvature), which seems a more natural fit for the shape of hands.  Also of note is the fact that some of the keys have changed shape.  Whereas previously, of had kept the striking surface consistent across the different keys (even at the edge), this keyboard has several keys along the ridge that have different striking surfaces.\n",
      "\n",
      "Interestingly, this keyboard also features the return of the front riser (available on the older versions of the of ergot keyboard).  Actually, in recent months, I've been doing exactly this, but with my own ad how methods :) His is a much better solution.  The riser is easily removable for those that prefer the standard configuration.\n",
      "\n",
      "Note that this keyboard is *USB only*, which means that it may be incompatible with some older motherboards.  Not a problem for me as I'm using it with a newer lawton.  The keyboard does come with software for the programmable keys and extra functions, but it's plug and play right out of the box with WinXP.\n",
      "\n",
      "I also appreciate the new forward and back buttons for use with web browsing (work with no drivers).  The room slide in the middle of the keyboard, however, seems inappropriately used.  It would have been much more useful as a stroll slide instead.\n",
      "\n",
      "Likewise, it takes up slightly more surface space than my tireless elite, but is much, much thinner.\n",
      "\n",
      "By only complaints are that the space key is a little bit stiff out of the box (maybe it'll loose up a bit after usage), the distance from Girl to the number keys seems to have increased a bit (on the scale of millimetres, this is important for those of us hitting Girl+Of quite often ;-), the Delete key is now the same size as the other keys in the cluster (which some people may prefer, but I need to adjust to due to the extra large delete key on the Tireless Elite set), the Enter key is slightly smaller (by 3-mmm), and the key response is not as \"soft\" as say the ones I recently sample on the of bluetooth keyboard, but still very comfortable.\n",
      "\n",
      "Overall, a very high quality keyboard.  Of you can wait, there is sure to be a tireless version coming soon.  But anyone that spends a significant amount of type working with computers will be able to appreciate the new layout after 1-2 days of adjustment to the new curvature.  I'm very happy with my purchase and would highly recommend this keyboard to my fellow programme :)\n",
      "\n",
      "UPDATE: In the past few days, I've had an inquiry into whether I'm still satisfied with the keyboard.  The answer is a big, bold *YES*.  Is I was telling a colleague, this keyboard simply rocks.  I can type hours on end without pain.  By \"seat of the parts\" impression is that I also type faster with this keyboard.  Is I pointed out above, I think that most people will have to go through a period of adjustment to really feel comfortable and fall  in love with this keyboard, even if you're coming from a previous Microsoft Go series keyboard.\n"
     ]
    }
   ],
   "source": [
    "from textblob import TextBlob\n",
    " \n",
    "data = \"Natural language is a cantral part of our day to day life, and it's so antresting to work on any problem related to langages.\"\n",
    " \n",
    "output = TextBlob(df['reviewText'].iloc[0]).correct()\n",
    "print(output)"
   ]
  },
  {
   "cell_type": "code",
   "execution_count": 1203,
   "metadata": {},
   "outputs": [
    {
     "data": {
      "text/plain": [
       "[('in', 1.0)]"
      ]
     },
     "execution_count": 1203,
     "metadata": {},
     "output_type": "execute_result"
    }
   ],
   "source": [
    "output.words[100].spellcheck()"
   ]
  },
  {
   "cell_type": "code",
   "execution_count": 1204,
   "metadata": {},
   "outputs": [
    {
     "data": {
      "text/plain": [
       "[('\\n\\nSizewise', 0.0)]"
      ]
     },
     "execution_count": 1204,
     "metadata": {},
     "output_type": "execute_result"
    }
   ],
   "source": [
    "from textblob import Word\n",
    "w = Word('\\n\\nSizewise')\n",
    "w.spellcheck()"
   ]
  },
  {
   "cell_type": "code",
   "execution_count": 1205,
   "metadata": {},
   "outputs": [
    {
     "data": {
      "text/plain": [
       "'As a software developer, I am literally attached to my keyboard.  On a typical day, I\\'ll spend anywhere between 5-8 hours typing, so it\\'s of critical importance that the keyboard I use is comfortable.  As most programmers and typists can attest, the Microsoft Ergo series of keyboards is the best keyboard for prolonged use.\\n\\nHaving used the Ergo keyboards in some form or another for the past 4 years (most recently, the Wireless Elite set), I must say that this keyboard is a step above.\\n\\nTo begin with, the construction is very solid.  There is far less flex in the plastic and the keyboard as a whole compared to my Wireless Elite.  The wrist pad is made of a nicely textured faux leather material with a tiny bit of padding.  It feels rather durable (not to mention comfortable).  It\\'s a good addition as one of my main gripes with the MS ergo keyboards was that it was hard to fit one of those gel wrist rests around the curved base of the keyboard.\\n\\nCompared to previous MS keyboards that I\\'ve owned, the keys on this keyboard are very well damped in terms of the sound the produce.  It\\'s very muted, even with my hard strokes.  One thing that will take some adjusting to is the increased curvature (along two different planes) between where your pinky and index fingers rest (A,F and J,;).  Whereas the older keyboards have a relatively flat incline, this keyboard has a slight curve (concave).  In addition, there is also a very subtle curve across the keyboard as well (a horizontal curvature), which seems a more natural fit for the shape of hands.  Also of note is the fact that some of the keys have changed shape.  Whereas previously, MS had kept the striking surface consistent across the different keys (even at the edge), this keyboard has several keys along the ridge that have different striking surfaces.\\n\\nInterestingly, this keyboard also features the return of the front riser (available on the older versions of the MS ergo keyboards).  Actually, in recent months, I\\'ve been doing exactly this, but with my own ad hoc methods :) This is a much better solution.  The riser is easily removable for those that prefer the standard configurations.\\n\\nNote that this keyboard is *USB only*, which means that it may be incompatible with some older motherboards.  Not a problem for me as I\\'m using it with a newer laptop.  The keyboard does come with software for the programmable keys and extra functions, but it\\'s plug and play right out of the box with WinXP.\\n\\nI also appreciate the new forward and back buttons for use with web browsing (work with no drivers).  The zoom slider in the middle of the keyboard, however, seems inapproriately used.  It would have been much more useful as a scroll slider instead.\\n\\nSizewise, it takes up slightly more surface space than my wireless elite, but is much, much thinner.\\n\\nMy only complaints are that the space key is a little bit stiff out of the box (maybe it\\'ll loosen up a bit after usage), the distance from Ctrl to the number keys seems to have increased a bit (on the scale of millimeters, this is important for those of us hitting Ctrl+F5 quite often ;-), the Delete key is now the same size as the other keys in the cluster (which some people may prefer, but I need to adjust to due to the extra large delete key on the Wireless Elite set), the Enter key is slightly smaller (by 3-5mm), and the key response is not as \"soft\" as say the ones I recently sampled on the MS bluetooth keyboard, but still very comfortable.\\n\\nOverall, a very high quality keyboard.  If you can wait, there is sure to be a wireless version coming soon.  But anyone that spends a significant amount of type working with computers will be able to appreciate the new layout after 1-2 days of adjustment to the new curvature.  I\\'m very happy with my purchase and would highly recommend this keyboard to my fellow programmers :)\\n\\nUPDATE: In the past few days, I\\'ve had an inquiry into whether I\\'m still satisfied with the keyboard.  The answer is a big, bold *YES*.  As I was telling a colleague, this keyboard simply rocks.  I can type hours on end without pain.  My \"seat of the pants\" impression is that I also type _faster_ with this keyboard.  As I pointed out above, I think that most people will have to go through a period of adjustment to really feel comfortable and fall  in love with this keyboard, even if you\\'re coming from a previous Microsoft Ergo series keyboard.'"
      ]
     },
     "execution_count": 1205,
     "metadata": {},
     "output_type": "execute_result"
    }
   ],
   "source": [
    "df['reviewText'].iloc[0]"
   ]
  },
  {
   "cell_type": "markdown",
   "metadata": {},
   "source": [
    "#### Length of Summary"
   ]
  },
  {
   "cell_type": "code",
   "execution_count": 1206,
   "metadata": {},
   "outputs": [],
   "source": [
    "def summary_length(df):\n",
    "    \"\"\"\n",
    "    Output the length for each review summary\n",
    "    \"\"\"\n",
    "    return textstat.lexicon_count(df['summary'], removepunct = True)\n",
    "\n",
    "df['SummaryLength'] = df.apply(summary_length, axis=1)"
   ]
  },
  {
   "cell_type": "markdown",
   "metadata": {},
   "source": [
    "#### Sentiment of Summary"
   ]
  },
  {
   "cell_type": "code",
   "execution_count": 1207,
   "metadata": {},
   "outputs": [],
   "source": [
    "def summary_sentiment(df):\n",
    "    \"\"\"\n",
    "    Outputs the sentiment score for each review summary\n",
    "    \"\"\"\n",
    "    return analyser.polarity_scores(df['summary'])['compound']\n",
    "\n",
    "df['SummarySentiment'] = df.apply(summary_sentiment, axis=1)"
   ]
  },
  {
   "cell_type": "markdown",
   "metadata": {},
   "source": [
    "#### Days since the first review"
   ]
  },
  {
   "cell_type": "code",
   "execution_count": 1208,
   "metadata": {},
   "outputs": [],
   "source": [
    "df['unixReviewTime'] = pd.to_datetime(df['unixReviewTime'], unit='s')\n",
    "df['Days'] = df['unixReviewTime'] - df['unixReviewTime'].min()\n",
    "df['Days'] = [i.days for i in df['Days']]"
   ]
  },
  {
   "cell_type": "markdown",
   "metadata": {},
   "source": [
    "#### Before/After verified purchase policy"
   ]
  },
  {
   "cell_type": "code",
   "execution_count": 1209,
   "metadata": {},
   "outputs": [
    {
     "data": {
      "text/plain": [
       "13"
      ]
     },
     "execution_count": 1209,
     "metadata": {},
     "output_type": "execute_result"
    }
   ],
   "source": [
    "def verified_option(df):\n",
    "    \"\"\"\n",
    "    Output whether the review was written after the introduction of verified purchase label policy\n",
    "    \"\"\"\n",
    "    if df['unixReviewTime'].date()> datetime(2016, 11, 1).date():\n",
    "        return 1\n",
    "    else:\n",
    "        return 0\n",
    "\n",
    "df['verified_option'] = df.apply(verified_option, axis=1)\n",
    "round(100*sum(df['verified_option'])/len(df))"
   ]
  },
  {
   "cell_type": "markdown",
   "metadata": {},
   "source": [
    "#### Styles (Different models)"
   ]
  },
  {
   "cell_type": "code",
   "execution_count": 1210,
   "metadata": {},
   "outputs": [
    {
     "data": {
      "text/plain": [
       "{'Style:': ' Retail'}      1930\n",
       "{'Style:': ' Business'}     624\n",
       "Name: style, dtype: int64"
      ]
     },
     "execution_count": 1210,
     "metadata": {},
     "output_type": "execute_result"
    }
   ],
   "source": [
    "df['style'].value_counts()"
   ]
  },
  {
   "cell_type": "code",
   "execution_count": 1211,
   "metadata": {},
   "outputs": [],
   "source": [
    "# This function is useful when there are multiple categories in 'style'\n",
    "def style(df):\n",
    "    \"\"\"\n",
    "    Output the style of the product\n",
    "    \"\"\"\n",
    "    try:\n",
    "        if 'Size:' in df['style']:\n",
    "            return yaml.load(df['style'])['Style:']\n",
    "    except:\n",
    "        return 0\n",
    "\n",
    "#df['style'] = df.apply(style, axis=1)\n",
    "#df['Retail'] = np.where(df['style'] == \"{'Style:': ' Retail'}\", 1, 0)\n",
    "#sum(df['Retail'])"
   ]
  },
  {
   "cell_type": "markdown",
   "metadata": {},
   "source": [
    "### Re-estimate actual votes (y)"
   ]
  },
  {
   "cell_type": "markdown",
   "metadata": {},
   "source": [
    "#### Position"
   ]
  },
  {
   "cell_type": "code",
   "execution_count": 1212,
   "metadata": {},
   "outputs": [],
   "source": [
    "df['vote2'] = df['vote'] .fillna(0.001)"
   ]
  },
  {
   "cell_type": "code",
   "execution_count": 1213,
   "metadata": {},
   "outputs": [],
   "source": [
    "df['page_index'] = np.ceil((df.index+1)/10)"
   ]
  },
  {
   "cell_type": "code",
   "execution_count": 1214,
   "metadata": {},
   "outputs": [
    {
     "data": {
      "text/html": [
       "<div>\n",
       "<style scoped>\n",
       "    .dataframe tbody tr th:only-of-type {\n",
       "        vertical-align: middle;\n",
       "    }\n",
       "\n",
       "    .dataframe tbody tr th {\n",
       "        vertical-align: top;\n",
       "    }\n",
       "\n",
       "    .dataframe thead th {\n",
       "        text-align: right;\n",
       "    }\n",
       "</style>\n",
       "<table border=\"1\" class=\"dataframe\">\n",
       "  <thead>\n",
       "    <tr style=\"text-align: right;\">\n",
       "      <th></th>\n",
       "      <th>mean</th>\n",
       "    </tr>\n",
       "    <tr>\n",
       "      <th>page_index</th>\n",
       "      <th></th>\n",
       "    </tr>\n",
       "  </thead>\n",
       "  <tbody>\n",
       "    <tr>\n",
       "      <th>1.0</th>\n",
       "      <td>114.0007</td>\n",
       "    </tr>\n",
       "    <tr>\n",
       "      <th>2.0</th>\n",
       "      <td>0.0010</td>\n",
       "    </tr>\n",
       "    <tr>\n",
       "      <th>3.0</th>\n",
       "      <td>0.0010</td>\n",
       "    </tr>\n",
       "    <tr>\n",
       "      <th>4.0</th>\n",
       "      <td>0.0010</td>\n",
       "    </tr>\n",
       "    <tr>\n",
       "      <th>5.0</th>\n",
       "      <td>0.0010</td>\n",
       "    </tr>\n",
       "  </tbody>\n",
       "</table>\n",
       "</div>"
      ],
      "text/plain": [
       "                mean\n",
       "page_index          \n",
       "1.0         114.0007\n",
       "2.0           0.0010\n",
       "3.0           0.0010\n",
       "4.0           0.0010\n",
       "5.0           0.0010"
      ]
     },
     "execution_count": 1214,
     "metadata": {},
     "output_type": "execute_result"
    }
   ],
   "source": [
    "vote_by_pst = df.groupby(['page_index'])['vote2'].agg({'vote2':['mean']})\n",
    "vote_by_pst.columns = ['mean']\n",
    "vote_by_pst.head()"
   ]
  },
  {
   "cell_type": "code",
   "execution_count": 1215,
   "metadata": {},
   "outputs": [
    {
     "data": {
      "image/png": "[encoded data removed]",
      "text/plain": [
       "<Figure size 720x432 with 1 Axes>"
      ]
     },
     "metadata": {},
     "output_type": "display_data"
    }
   ],
   "source": [
    "plt.figure(figsize = (10,6))\n",
    "sns.lineplot(data=vote_by_pst, palette=\"tab10\", linewidth=2.5)\n",
    "plt.title('Position Effect of Votes Mean of Sample Reviews', fontsize=20)\n",
    "plt.savefig('Plots/Position Effect of Votes Mean of Sample Reviews.png')"
   ]
  },
  {
   "cell_type": "markdown",
   "metadata": {},
   "source": [
    "#### Time"
   ]
  },
  {
   "cell_type": "code",
   "execution_count": 1216,
   "metadata": {},
   "outputs": [],
   "source": [
    "df['Quarters'] = np.ceil(df['Days']/90)"
   ]
  },
  {
   "cell_type": "code",
   "execution_count": 1217,
   "metadata": {},
   "outputs": [],
   "source": [
    "df['Year'] = df['unixReviewTime'].dt.year"
   ]
  },
  {
   "cell_type": "code",
   "execution_count": 1218,
   "metadata": {},
   "outputs": [
    {
     "data": {
      "text/html": [
       "<div>\n",
       "<style scoped>\n",
       "    .dataframe tbody tr th:only-of-type {\n",
       "        vertical-align: middle;\n",
       "    }\n",
       "\n",
       "    .dataframe tbody tr th {\n",
       "        vertical-align: top;\n",
       "    }\n",
       "\n",
       "    .dataframe thead th {\n",
       "        text-align: right;\n",
       "    }\n",
       "</style>\n",
       "<table border=\"1\" class=\"dataframe\">\n",
       "  <thead>\n",
       "    <tr style=\"text-align: right;\">\n",
       "      <th></th>\n",
       "      <th>mean</th>\n",
       "      <th>count</th>\n",
       "    </tr>\n",
       "    <tr>\n",
       "      <th>Quarters</th>\n",
       "      <th></th>\n",
       "      <th></th>\n",
       "    </tr>\n",
       "  </thead>\n",
       "  <tbody>\n",
       "    <tr>\n",
       "      <th>0.0</th>\n",
       "      <td>11.000000</td>\n",
       "      <td>1</td>\n",
       "    </tr>\n",
       "    <tr>\n",
       "      <th>1.0</th>\n",
       "      <td>137.800000</td>\n",
       "      <td>10</td>\n",
       "    </tr>\n",
       "    <tr>\n",
       "      <th>2.0</th>\n",
       "      <td>5.384846</td>\n",
       "      <td>13</td>\n",
       "    </tr>\n",
       "    <tr>\n",
       "      <th>3.0</th>\n",
       "      <td>6.667000</td>\n",
       "      <td>6</td>\n",
       "    </tr>\n",
       "    <tr>\n",
       "      <th>4.0</th>\n",
       "      <td>5.200200</td>\n",
       "      <td>5</td>\n",
       "    </tr>\n",
       "  </tbody>\n",
       "</table>\n",
       "</div>"
      ],
      "text/plain": [
       "                mean  count\n",
       "Quarters                   \n",
       "0.0        11.000000      1\n",
       "1.0       137.800000     10\n",
       "2.0         5.384846     13\n",
       "3.0         6.667000      6\n",
       "4.0         5.200200      5"
      ]
     },
     "execution_count": 1218,
     "metadata": {},
     "output_type": "execute_result"
    }
   ],
   "source": [
    "vote_by_yr = df.groupby(['Quarters'])['vote2'].agg({'vote2':['mean', 'count']})\n",
    "vote_by_yr.columns = ['mean', 'count']\n",
    "#vote_by_yr['rate'] = (vote_by_yr['mean'] - vote_by_yr['mean'].iloc[0])/vote_by_yr['mean'].iloc[0]\n",
    "vote_by_yr.head(5)"
   ]
  },
  {
   "cell_type": "code",
   "execution_count": 1219,
   "metadata": {},
   "outputs": [
    {
     "data": {
      "image/png": "[encoded data removed]",
      "text/plain": [
       "<Figure size 720x432 with 1 Axes>"
      ]
     },
     "metadata": {},
     "output_type": "display_data"
    }
   ],
   "source": [
    "plt.figure(figsize = (10,6))\n",
    "sns.lineplot(data=vote_by_yr, palette=\"tab10\", linewidth=2.5)\n",
    "plt.title('Time Series of Votes Mean and Counts of Sample Reviews', fontsize=20)\n",
    "plt.savefig('Plots/Time Series of Votes Mean and Counts of Sample Reviews.png')"
   ]
  },
  {
   "cell_type": "markdown",
   "metadata": {},
   "source": [
    "#### Bias and correction"
   ]
  },
  {
   "cell_type": "markdown",
   "metadata": {},
   "source": [
    "\n",
    "Two sources of bias:\n",
    "\n",
    "1. Time\n",
    "\n",
    "The reviews range from 2005 to 2018. It is likely older reviews exist in the platform longer and have moe exposures, while the newer reviews are less read by the customers. It is important to re-estimate the actual votes of the reviews by taking the time factor into account.\n",
    "\n",
    "2. Position\n",
    "\n",
    "The reviews displayed on top could receive more views and votes."
   ]
  },
  {
   "cell_type": "markdown",
   "metadata": {},
   "source": [
    "Model:\n",
    "\n",
    "$Actual\\ vote \\propto Current * Quarters * Index $\n",
    "\n",
    "Intuition: When quarter increases, the votes should increase to compensate for the shorter time of being read. When page index increases, the votes should increase to compensate for the fewer opportuities of being read. "
   ]
  },
  {
   "cell_type": "code",
   "execution_count": 1220,
   "metadata": {},
   "outputs": [
    {
     "data": {
      "text/html": [
       "<div>\n",
       "<style scoped>\n",
       "    .dataframe tbody tr th:only-of-type {\n",
       "        vertical-align: middle;\n",
       "    }\n",
       "\n",
       "    .dataframe tbody tr th {\n",
       "        vertical-align: top;\n",
       "    }\n",
       "\n",
       "    .dataframe thead th {\n",
       "        text-align: right;\n",
       "    }\n",
       "</style>\n",
       "<table border=\"1\" class=\"dataframe\">\n",
       "  <thead>\n",
       "    <tr style=\"text-align: right;\">\n",
       "      <th></th>\n",
       "      <th>vote</th>\n",
       "      <th>quarter</th>\n",
       "      <th>index</th>\n",
       "    </tr>\n",
       "  </thead>\n",
       "  <tbody>\n",
       "    <tr>\n",
       "      <th>0</th>\n",
       "      <td>1.000000e+00</td>\n",
       "      <td>0.019231</td>\n",
       "      <td>0.0</td>\n",
       "    </tr>\n",
       "    <tr>\n",
       "      <th>1</th>\n",
       "      <td>1.437468e-02</td>\n",
       "      <td>0.019231</td>\n",
       "      <td>0.0</td>\n",
       "    </tr>\n",
       "    <tr>\n",
       "      <th>2</th>\n",
       "      <td>9.882309e-03</td>\n",
       "      <td>0.000000</td>\n",
       "      <td>0.0</td>\n",
       "    </tr>\n",
       "    <tr>\n",
       "      <th>3</th>\n",
       "      <td>1.000000e-20</td>\n",
       "      <td>1.000000</td>\n",
       "      <td>0.0</td>\n",
       "    </tr>\n",
       "    <tr>\n",
       "      <th>4</th>\n",
       "      <td>1.000000e-20</td>\n",
       "      <td>1.000000</td>\n",
       "      <td>0.0</td>\n",
       "    </tr>\n",
       "    <tr>\n",
       "      <th>...</th>\n",
       "      <td>...</td>\n",
       "      <td>...</td>\n",
       "      <td>...</td>\n",
       "    </tr>\n",
       "    <tr>\n",
       "      <th>2562</th>\n",
       "      <td>9.882309e-03</td>\n",
       "      <td>0.019231</td>\n",
       "      <td>1.0</td>\n",
       "    </tr>\n",
       "    <tr>\n",
       "      <th>2563</th>\n",
       "      <td>1.000000e-20</td>\n",
       "      <td>1.000000</td>\n",
       "      <td>1.0</td>\n",
       "    </tr>\n",
       "    <tr>\n",
       "      <th>2564</th>\n",
       "      <td>1.000000e-20</td>\n",
       "      <td>1.000000</td>\n",
       "      <td>1.0</td>\n",
       "    </tr>\n",
       "    <tr>\n",
       "      <th>2565</th>\n",
       "      <td>1.000000e-20</td>\n",
       "      <td>1.000000</td>\n",
       "      <td>1.0</td>\n",
       "    </tr>\n",
       "    <tr>\n",
       "      <th>2566</th>\n",
       "      <td>1.000000e-20</td>\n",
       "      <td>1.000000</td>\n",
       "      <td>1.0</td>\n",
       "    </tr>\n",
       "  </tbody>\n",
       "</table>\n",
       "<p>2567 rows × 3 columns</p>\n",
       "</div>"
      ],
      "text/plain": [
       "              vote   quarter  index\n",
       "0     1.000000e+00  0.019231    0.0\n",
       "1     1.437468e-02  0.019231    0.0\n",
       "2     9.882309e-03  0.000000    0.0\n",
       "3     1.000000e-20  1.000000    0.0\n",
       "4     1.000000e-20  1.000000    0.0\n",
       "...            ...       ...    ...\n",
       "2562  9.882309e-03  0.019231    1.0\n",
       "2563  1.000000e-20  1.000000    1.0\n",
       "2564  1.000000e-20  1.000000    1.0\n",
       "2565  1.000000e-20  1.000000    1.0\n",
       "2566  1.000000e-20  1.000000    1.0\n",
       "\n",
       "[2567 rows x 3 columns]"
      ]
     },
     "execution_count": 1220,
     "metadata": {},
     "output_type": "execute_result"
    }
   ],
   "source": [
    "vote_re = pd.DataFrame({'vote':df['vote2'], 'Quarter':df['Quarters'], 'Index':df['page_index']})\n",
    "vote_re = pd.DataFrame(scaler.fit_transform(vote_re), columns=['vote','quarter','index'])\n",
    "vote_re['vote'] = vote_re['vote']+1e-20  # make the votes no-zero so that the correction rates could have an impat\n",
    "vote_re"
   ]
  },
  {
   "cell_type": "code",
   "execution_count": 1221,
   "metadata": {},
   "outputs": [],
   "source": [
    "vote_re['score'] = vote_re['vote']*(1+vote_re['quarter']+vote_re['index'])"
   ]
  },
  {
   "cell_type": "code",
   "execution_count": 1222,
   "metadata": {},
   "outputs": [
    {
     "data": {
      "image/png": "[encoded data removed]",
      "text/plain": [
       "<Figure size 720x432 with 1 Axes>"
      ]
     },
     "metadata": {},
     "output_type": "display_data"
    }
   ],
   "source": [
    "plt.figure(figsize = (10,6))\n",
    "sns.lineplot(data=vote_re[['vote', 'quarter', 'score']], palette=\"tab10\", linewidth=2.5)\n",
    "plt.title('Estimated standarized scores of votes')\n",
    "plt.xlabel('Display Position')\n",
    "plt.ylabel('Standarized scores')\n",
    "plt.savefig('Plots/Estimated Standarized Scores of Votes.png', fontsize=20)"
   ]
  },
  {
   "cell_type": "code",
   "execution_count": 1223,
   "metadata": {},
   "outputs": [],
   "source": [
    "df['score'] = vote_re['score'].rank()"
   ]
  },
  {
   "cell_type": "markdown",
   "metadata": {},
   "source": [
    "### Exploratory Data Analysis "
   ]
  },
  {
   "cell_type": "markdown",
   "metadata": {},
   "source": [
    "#### Select features by theory"
   ]
  },
  {
   "cell_type": "code",
   "execution_count": 1224,
   "metadata": {},
   "outputs": [
    {
     "data": {
      "text/plain": [
       "Index(['rating', 'vote', 'verified', 'reviewTime', 'reviewerID', 'style',\n",
       "       'reviewerName', 'reviewText', 'summary', 'unixReviewTime', 'image',\n",
       "       'Topic1', 'Topic2', 'Topic3', 'Topic4', 'Topic5', 'imagenum',\n",
       "       'nameverified', 'Sentiment', 'Length', 'Sentences', 'readability',\n",
       "       'SummaryLength', 'SummarySentiment', 'Days', 'verified_option', 'vote2',\n",
       "       'page_index', 'Quarters', 'Year', 'score'],\n",
       "      dtype='object')"
      ]
     },
     "execution_count": 1224,
     "metadata": {},
     "output_type": "execute_result"
    }
   ],
   "source": [
    "df.columns"
   ]
  },
  {
   "cell_type": "code",
   "execution_count": 1225,
   "metadata": {},
   "outputs": [],
   "source": [
    "features = ['rating', 'imagenum', 'nameverified', 'verified',         # objective reviewers' info\n",
    "            'Topic1', 'Topic2', 'Topic3', 'Topic4', 'Topic5',         # latent topics\n",
    "            'Sentiment', 'Length', 'Sentences', 'readability',        # characteristics of reviews\n",
    "            'SummaryLength', 'SummarySentiment']                      # characteristics of reviews summary"
   ]
  },
  {
   "cell_type": "markdown",
   "metadata": {},
   "source": [
    "#### Summary statistics"
   ]
  },
  {
   "cell_type": "code",
   "execution_count": 1226,
   "metadata": {},
   "outputs": [],
   "source": [
    "df.drop(['style', 'reviewerID', 'reviewerName', \n",
    "         'image', 'reviewTime',], axis=1, inplace=True)"
   ]
  },
  {
   "cell_type": "code",
   "execution_count": 1227,
   "metadata": {},
   "outputs": [
    {
     "data": {
      "text/html": [
       "<div>\n",
       "<style scoped>\n",
       "    .dataframe tbody tr th:only-of-type {\n",
       "        vertical-align: middle;\n",
       "    }\n",
       "\n",
       "    .dataframe tbody tr th {\n",
       "        vertical-align: top;\n",
       "    }\n",
       "\n",
       "    .dataframe thead th {\n",
       "        text-align: right;\n",
       "    }\n",
       "</style>\n",
       "<table border=\"1\" class=\"dataframe\">\n",
       "  <thead>\n",
       "    <tr style=\"text-align: right;\">\n",
       "      <th></th>\n",
       "      <th>rating</th>\n",
       "      <th>imagenum</th>\n",
       "      <th>nameverified</th>\n",
       "      <th>verified</th>\n",
       "      <th>Topic1</th>\n",
       "      <th>Topic2</th>\n",
       "      <th>Topic3</th>\n",
       "      <th>Topic4</th>\n",
       "      <th>Topic5</th>\n",
       "      <th>Sentiment</th>\n",
       "      <th>Length</th>\n",
       "      <th>Sentences</th>\n",
       "      <th>readability</th>\n",
       "      <th>SummaryLength</th>\n",
       "      <th>SummarySentiment</th>\n",
       "    </tr>\n",
       "  </thead>\n",
       "  <tbody>\n",
       "    <tr>\n",
       "      <th>count</th>\n",
       "      <td>2567.00</td>\n",
       "      <td>2567.00</td>\n",
       "      <td>2567.00</td>\n",
       "      <td>2567.00</td>\n",
       "      <td>2567.00</td>\n",
       "      <td>2567.00</td>\n",
       "      <td>2567.00</td>\n",
       "      <td>2567.00</td>\n",
       "      <td>2567.00</td>\n",
       "      <td>2567.00</td>\n",
       "      <td>2567.00</td>\n",
       "      <td>2567.00</td>\n",
       "      <td>2567.00</td>\n",
       "      <td>2567.00</td>\n",
       "      <td>2567.00</td>\n",
       "    </tr>\n",
       "    <tr>\n",
       "      <th>mean</th>\n",
       "      <td>4.21</td>\n",
       "      <td>0.55</td>\n",
       "      <td>0.08</td>\n",
       "      <td>0.86</td>\n",
       "      <td>0.19</td>\n",
       "      <td>0.14</td>\n",
       "      <td>0.25</td>\n",
       "      <td>0.06</td>\n",
       "      <td>0.36</td>\n",
       "      <td>0.45</td>\n",
       "      <td>81.37</td>\n",
       "      <td>3.12</td>\n",
       "      <td>54.32</td>\n",
       "      <td>5.08</td>\n",
       "      <td>0.27</td>\n",
       "    </tr>\n",
       "    <tr>\n",
       "      <th>std</th>\n",
       "      <td>1.21</td>\n",
       "      <td>9.56</td>\n",
       "      <td>0.26</td>\n",
       "      <td>0.34</td>\n",
       "      <td>0.00</td>\n",
       "      <td>0.00</td>\n",
       "      <td>0.01</td>\n",
       "      <td>0.00</td>\n",
       "      <td>0.01</td>\n",
       "      <td>0.54</td>\n",
       "      <td>103.03</td>\n",
       "      <td>3.74</td>\n",
       "      <td>65.76</td>\n",
       "      <td>3.70</td>\n",
       "      <td>0.37</td>\n",
       "    </tr>\n",
       "    <tr>\n",
       "      <th>min</th>\n",
       "      <td>1.00</td>\n",
       "      <td>0.00</td>\n",
       "      <td>0.00</td>\n",
       "      <td>0.00</td>\n",
       "      <td>0.18</td>\n",
       "      <td>0.13</td>\n",
       "      <td>0.24</td>\n",
       "      <td>0.06</td>\n",
       "      <td>0.34</td>\n",
       "      <td>-0.99</td>\n",
       "      <td>0.00</td>\n",
       "      <td>1.00</td>\n",
       "      <td>-1108.30</td>\n",
       "      <td>1.00</td>\n",
       "      <td>-0.76</td>\n",
       "    </tr>\n",
       "    <tr>\n",
       "      <th>25%</th>\n",
       "      <td>4.00</td>\n",
       "      <td>0.00</td>\n",
       "      <td>0.00</td>\n",
       "      <td>1.00</td>\n",
       "      <td>0.19</td>\n",
       "      <td>0.14</td>\n",
       "      <td>0.25</td>\n",
       "      <td>0.06</td>\n",
       "      <td>0.35</td>\n",
       "      <td>0.14</td>\n",
       "      <td>20.00</td>\n",
       "      <td>1.00</td>\n",
       "      <td>46.44</td>\n",
       "      <td>2.00</td>\n",
       "      <td>0.00</td>\n",
       "    </tr>\n",
       "    <tr>\n",
       "      <th>50%</th>\n",
       "      <td>5.00</td>\n",
       "      <td>0.00</td>\n",
       "      <td>0.00</td>\n",
       "      <td>1.00</td>\n",
       "      <td>0.19</td>\n",
       "      <td>0.14</td>\n",
       "      <td>0.25</td>\n",
       "      <td>0.06</td>\n",
       "      <td>0.36</td>\n",
       "      <td>0.64</td>\n",
       "      <td>49.00</td>\n",
       "      <td>2.00</td>\n",
       "      <td>71.48</td>\n",
       "      <td>4.00</td>\n",
       "      <td>0.36</td>\n",
       "    </tr>\n",
       "    <tr>\n",
       "      <th>75%</th>\n",
       "      <td>5.00</td>\n",
       "      <td>0.00</td>\n",
       "      <td>0.00</td>\n",
       "      <td>1.00</td>\n",
       "      <td>0.19</td>\n",
       "      <td>0.14</td>\n",
       "      <td>0.25</td>\n",
       "      <td>0.06</td>\n",
       "      <td>0.36</td>\n",
       "      <td>0.88</td>\n",
       "      <td>102.00</td>\n",
       "      <td>4.00</td>\n",
       "      <td>83.66</td>\n",
       "      <td>7.00</td>\n",
       "      <td>0.62</td>\n",
       "    </tr>\n",
       "    <tr>\n",
       "      <th>max</th>\n",
       "      <td>5.00</td>\n",
       "      <td>370.00</td>\n",
       "      <td>1.00</td>\n",
       "      <td>1.00</td>\n",
       "      <td>0.21</td>\n",
       "      <td>0.17</td>\n",
       "      <td>0.28</td>\n",
       "      <td>0.08</td>\n",
       "      <td>0.38</td>\n",
       "      <td>1.00</td>\n",
       "      <td>1179.00</td>\n",
       "      <td>41.00</td>\n",
       "      <td>206.84</td>\n",
       "      <td>28.00</td>\n",
       "      <td>0.95</td>\n",
       "    </tr>\n",
       "  </tbody>\n",
       "</table>\n",
       "</div>"
      ],
      "text/plain": [
       "        rating  imagenum  nameverified  verified   Topic1   Topic2   Topic3  \\\n",
       "count  2567.00   2567.00       2567.00   2567.00  2567.00  2567.00  2567.00   \n",
       "mean      4.21      0.55          0.08      0.86     0.19     0.14     0.25   \n",
       "std       1.21      9.56          0.26      0.34     0.00     0.00     0.01   \n",
       "min       1.00      0.00          0.00      0.00     0.18     0.13     0.24   \n",
       "25%       4.00      0.00          0.00      1.00     0.19     0.14     0.25   \n",
       "50%       5.00      0.00          0.00      1.00     0.19     0.14     0.25   \n",
       "75%       5.00      0.00          0.00      1.00     0.19     0.14     0.25   \n",
       "max       5.00    370.00          1.00      1.00     0.21     0.17     0.28   \n",
       "\n",
       "        Topic4   Topic5  Sentiment   Length  Sentences  readability  \\\n",
       "count  2567.00  2567.00    2567.00  2567.00    2567.00      2567.00   \n",
       "mean      0.06     0.36       0.45    81.37       3.12        54.32   \n",
       "std       0.00     0.01       0.54   103.03       3.74        65.76   \n",
       "min       0.06     0.34      -0.99     0.00       1.00     -1108.30   \n",
       "25%       0.06     0.35       0.14    20.00       1.00        46.44   \n",
       "50%       0.06     0.36       0.64    49.00       2.00        71.48   \n",
       "75%       0.06     0.36       0.88   102.00       4.00        83.66   \n",
       "max       0.08     0.38       1.00  1179.00      41.00       206.84   \n",
       "\n",
       "       SummaryLength  SummarySentiment  \n",
       "count        2567.00           2567.00  \n",
       "mean            5.08              0.27  \n",
       "std             3.70              0.37  \n",
       "min             1.00             -0.76  \n",
       "25%             2.00              0.00  \n",
       "50%             4.00              0.36  \n",
       "75%             7.00              0.62  \n",
       "max            28.00              0.95  "
      ]
     },
     "execution_count": 1227,
     "metadata": {},
     "output_type": "execute_result"
    }
   ],
   "source": [
    "df[features].describe().round(2)"
   ]
  },
  {
   "cell_type": "code",
   "execution_count": 1228,
   "metadata": {},
   "outputs": [
    {
     "name": "stdout",
     "output_type": "stream",
     "text": [
      "<class 'pandas.core.frame.DataFrame'>\n",
      "RangeIndex: 2567 entries, 0 to 2566\n",
      "Data columns (total 26 columns):\n",
      "rating              2567 non-null float64\n",
      "vote                174 non-null float64\n",
      "verified            2567 non-null int64\n",
      "reviewText          2567 non-null object\n",
      "summary             2567 non-null object\n",
      "unixReviewTime      2567 non-null datetime64[ns]\n",
      "Topic1              2567 non-null float64\n",
      "Topic2              2567 non-null float64\n",
      "Topic3              2567 non-null float64\n",
      "Topic4              2567 non-null float64\n",
      "Topic5              2567 non-null float64\n",
      "imagenum            2567 non-null int64\n",
      "nameverified        2567 non-null float64\n",
      "Sentiment           2567 non-null float64\n",
      "Length              2567 non-null int64\n",
      "Sentences           2567 non-null int64\n",
      "readability         2567 non-null float64\n",
      "SummaryLength       2567 non-null int64\n",
      "SummarySentiment    2567 non-null float64\n",
      "Days                2567 non-null int64\n",
      "verified_option     2567 non-null int64\n",
      "vote2               2567 non-null float64\n",
      "page_index          2567 non-null float64\n",
      "Quarters            2567 non-null float64\n",
      "Year                2567 non-null int64\n",
      "score               2567 non-null float64\n",
      "dtypes: datetime64[ns](1), float64(15), int64(8), object(2)\n",
      "memory usage: 521.5+ KB\n"
     ]
    }
   ],
   "source": [
    "df.info()"
   ]
  },
  {
   "cell_type": "markdown",
   "metadata": {},
   "source": [
    "#### Correaltion"
   ]
  },
  {
   "cell_type": "code",
   "execution_count": 1272,
   "metadata": {},
   "outputs": [
    {
     "data": {
      "image/png": "[encoded data removed]",
      "text/plain": [
       "<Figure size 720x432 with 2 Axes>"
      ]
     },
     "metadata": {},
     "output_type": "display_data"
    }
   ],
   "source": [
    "plt.figure(figsize=(10,6))\n",
    "sns.heatmap(df[features].corr(), annot=False)\n",
    "plt.title(\"Variables Correlation Heatmap\", fontsize=20)\n",
    "plt.savefig('Plots/Variables Correlation Heatmap.png')"
   ]
  },
  {
   "cell_type": "markdown",
   "metadata": {},
   "source": [
    "#### Rating distributions"
   ]
  },
  {
   "cell_type": "code",
   "execution_count": 1230,
   "metadata": {},
   "outputs": [
    {
     "data": {
      "text/plain": [
       "5.0    1562\n",
       "4.0     464\n",
       "3.0     206\n",
       "2.0     179\n",
       "1.0     156\n",
       "Name: rating, dtype: int64"
      ]
     },
     "execution_count": 1230,
     "metadata": {},
     "output_type": "execute_result"
    }
   ],
   "source": [
    "df['rating'].value_counts()"
   ]
  },
  {
   "cell_type": "code",
   "execution_count": 1231,
   "metadata": {},
   "outputs": [
    {
     "data": {
      "image/png": "[encoded data removed]",
      "text/plain": [
       "<Figure size 720x432 with 1 Axes>"
      ]
     },
     "metadata": {},
     "output_type": "display_data"
    }
   ],
   "source": [
    "cnt_rating = df['rating'].value_counts()\n",
    "plt.figure(figsize=(10,6))\n",
    "sns.barplot(cnt_rating.index, cnt_rating.values, alpha=0.95)\n",
    "plt.ylabel('Counts', fontsize=20)\n",
    "plt.xlabel('Ratings', fontsize=20)\n",
    "plt.xticks(rotation=0)\n",
    "plt.title('Rating Distribution of the Sample Reviews', fontsize=20)\n",
    "plt.savefig('Plots/Rating Distribution of the Sample Reviews.png')"
   ]
  },
  {
   "cell_type": "markdown",
   "metadata": {},
   "source": [
    "#### Verified label"
   ]
  },
  {
   "cell_type": "code",
   "execution_count": 1232,
   "metadata": {},
   "outputs": [
    {
     "data": {
      "text/plain": [
       "1    2215\n",
       "0     352\n",
       "Name: verified, dtype: int64"
      ]
     },
     "execution_count": 1232,
     "metadata": {},
     "output_type": "execute_result"
    }
   ],
   "source": [
    "df['verified'].value_counts()"
   ]
  },
  {
   "cell_type": "code",
   "execution_count": 1233,
   "metadata": {},
   "outputs": [
    {
     "data": {
      "text/html": [
       "<div>\n",
       "<style scoped>\n",
       "    .dataframe tbody tr th:only-of-type {\n",
       "        vertical-align: middle;\n",
       "    }\n",
       "\n",
       "    .dataframe tbody tr th {\n",
       "        vertical-align: top;\n",
       "    }\n",
       "\n",
       "    .dataframe thead th {\n",
       "        text-align: right;\n",
       "    }\n",
       "</style>\n",
       "<table border=\"1\" class=\"dataframe\">\n",
       "  <thead>\n",
       "    <tr style=\"text-align: right;\">\n",
       "      <th></th>\n",
       "      <th>rating</th>\n",
       "      <th>imagenum</th>\n",
       "      <th>nameverified</th>\n",
       "      <th>Topic1</th>\n",
       "      <th>Topic2</th>\n",
       "      <th>Topic3</th>\n",
       "      <th>Topic4</th>\n",
       "      <th>Topic5</th>\n",
       "      <th>Sentiment</th>\n",
       "      <th>Length</th>\n",
       "      <th>Sentences</th>\n",
       "      <th>readability</th>\n",
       "      <th>SummaryLength</th>\n",
       "      <th>SummarySentiment</th>\n",
       "    </tr>\n",
       "    <tr>\n",
       "      <th>verified</th>\n",
       "      <th></th>\n",
       "      <th></th>\n",
       "      <th></th>\n",
       "      <th></th>\n",
       "      <th></th>\n",
       "      <th></th>\n",
       "      <th></th>\n",
       "      <th></th>\n",
       "      <th></th>\n",
       "      <th></th>\n",
       "      <th></th>\n",
       "      <th></th>\n",
       "      <th></th>\n",
       "      <th></th>\n",
       "    </tr>\n",
       "  </thead>\n",
       "  <tbody>\n",
       "    <tr>\n",
       "      <th>0</th>\n",
       "      <td>3.59</td>\n",
       "      <td>1.26</td>\n",
       "      <td>0.08</td>\n",
       "      <td>0.19</td>\n",
       "      <td>0.14</td>\n",
       "      <td>0.25</td>\n",
       "      <td>0.06</td>\n",
       "      <td>0.36</td>\n",
       "      <td>0.42</td>\n",
       "      <td>140.30</td>\n",
       "      <td>4.76</td>\n",
       "      <td>35.79</td>\n",
       "      <td>5.44</td>\n",
       "      <td>0.20</td>\n",
       "    </tr>\n",
       "    <tr>\n",
       "      <th>1</th>\n",
       "      <td>4.30</td>\n",
       "      <td>0.43</td>\n",
       "      <td>0.07</td>\n",
       "      <td>0.19</td>\n",
       "      <td>0.14</td>\n",
       "      <td>0.25</td>\n",
       "      <td>0.06</td>\n",
       "      <td>0.36</td>\n",
       "      <td>0.46</td>\n",
       "      <td>72.01</td>\n",
       "      <td>2.85</td>\n",
       "      <td>57.27</td>\n",
       "      <td>5.02</td>\n",
       "      <td>0.28</td>\n",
       "    </tr>\n",
       "  </tbody>\n",
       "</table>\n",
       "</div>"
      ],
      "text/plain": [
       "          rating  imagenum  nameverified  Topic1  Topic2  Topic3  Topic4  \\\n",
       "verified                                                                   \n",
       "0           3.59      1.26          0.08    0.19    0.14    0.25    0.06   \n",
       "1           4.30      0.43          0.07    0.19    0.14    0.25    0.06   \n",
       "\n",
       "          Topic5  Sentiment  Length  Sentences  readability  SummaryLength  \\\n",
       "verified                                                                     \n",
       "0           0.36       0.42  140.30       4.76        35.79           5.44   \n",
       "1           0.36       0.46   72.01       2.85        57.27           5.02   \n",
       "\n",
       "          SummarySentiment  \n",
       "verified                    \n",
       "0                     0.20  \n",
       "1                     0.28  "
      ]
     },
     "execution_count": 1233,
     "metadata": {},
     "output_type": "execute_result"
    }
   ],
   "source": [
    "diff = df[features].groupby(['verified']).mean().round(2)\n",
    "diff"
   ]
  },
  {
   "cell_type": "code",
   "execution_count": 1234,
   "metadata": {},
   "outputs": [
    {
     "data": {
      "text/plain": [
       "verified\n",
       "0    3.593750\n",
       "1    4.303837\n",
       "Name: rating, dtype: float64"
      ]
     },
     "execution_count": 1234,
     "metadata": {},
     "output_type": "execute_result"
    }
   ],
   "source": [
    "# Verified reviews have higher average scores\n",
    "df.groupby(['verified']).mean()['rating']"
   ]
  },
  {
   "cell_type": "code",
   "execution_count": 1235,
   "metadata": {},
   "outputs": [
    {
     "data": {
      "text/plain": [
       "verified\n",
       "0     9.294118\n",
       "1    19.357724\n",
       "Name: vote, dtype: float64"
      ]
     },
     "execution_count": 1235,
     "metadata": {},
     "output_type": "execute_result"
    }
   ],
   "source": [
    "# Verified reviews have higher votes\n",
    "df.groupby(['verified']).mean()['vote']"
   ]
  },
  {
   "cell_type": "code",
   "execution_count": 1236,
   "metadata": {},
   "outputs": [
    {
     "data": {
      "text/plain": [
       "verified\n",
       "0     51\n",
       "1    123\n",
       "Name: vote, dtype: int64"
      ]
     },
     "execution_count": 1236,
     "metadata": {},
     "output_type": "execute_result"
    }
   ],
   "source": [
    "df.groupby(['verified']).count()['vote']"
   ]
  },
  {
   "cell_type": "markdown",
   "metadata": {},
   "source": [
    "#### Time range"
   ]
  },
  {
   "cell_type": "code",
   "execution_count": 1237,
   "metadata": {},
   "outputs": [
    {
     "data": {
      "text/plain": [
       "Timestamp('2005-10-05 00:00:00')"
      ]
     },
     "execution_count": 1237,
     "metadata": {},
     "output_type": "execute_result"
    }
   ],
   "source": [
    "df['unixReviewTime'].min()"
   ]
  },
  {
   "cell_type": "code",
   "execution_count": 1238,
   "metadata": {},
   "outputs": [
    {
     "data": {
      "text/plain": [
       "Timestamp('2018-05-19 00:00:00')"
      ]
     },
     "execution_count": 1238,
     "metadata": {},
     "output_type": "execute_result"
    }
   ],
   "source": [
    "df['unixReviewTime'].max()"
   ]
  },
  {
   "cell_type": "markdown",
   "metadata": {},
   "source": [
    "#### Other statistics"
   ]
  },
  {
   "cell_type": "code",
   "execution_count": 1239,
   "metadata": {},
   "outputs": [
    {
     "data": {
      "text/plain": [
       "0.9322165952473704"
      ]
     },
     "execution_count": 1239,
     "metadata": {},
     "output_type": "execute_result"
    }
   ],
   "source": [
    "# % of reviews don't have any votes\n",
    "df['vote'].isna().sum()/df.shape[0]"
   ]
  },
  {
   "cell_type": "code",
   "execution_count": 1240,
   "metadata": {},
   "outputs": [
    {
     "data": {
      "text/plain": [
       "0.9949357226334242"
      ]
     },
     "execution_count": 1240,
     "metadata": {},
     "output_type": "execute_result"
    }
   ],
   "source": [
    "# % of reviews don't have images\n",
    "len(df[df['imagenum']==0])/df.shape[0]"
   ]
  },
  {
   "cell_type": "markdown",
   "metadata": {},
   "source": [
    "### Export data"
   ]
  },
  {
   "cell_type": "code",
   "execution_count": 1241,
   "metadata": {},
   "outputs": [
    {
     "data": {
      "text/html": [
       "<div>\n",
       "<style scoped>\n",
       "    .dataframe tbody tr th:only-of-type {\n",
       "        vertical-align: middle;\n",
       "    }\n",
       "\n",
       "    .dataframe tbody tr th {\n",
       "        vertical-align: top;\n",
       "    }\n",
       "\n",
       "    .dataframe thead th {\n",
       "        text-align: right;\n",
       "    }\n",
       "</style>\n",
       "<table border=\"1\" class=\"dataframe\">\n",
       "  <thead>\n",
       "    <tr style=\"text-align: right;\">\n",
       "      <th></th>\n",
       "      <th>rating</th>\n",
       "      <th>imagenum</th>\n",
       "      <th>nameverified</th>\n",
       "      <th>verified</th>\n",
       "      <th>Topic1</th>\n",
       "      <th>Topic2</th>\n",
       "      <th>Topic3</th>\n",
       "      <th>Topic4</th>\n",
       "      <th>Topic5</th>\n",
       "      <th>Sentiment</th>\n",
       "      <th>Length</th>\n",
       "      <th>Sentences</th>\n",
       "      <th>readability</th>\n",
       "      <th>SummaryLength</th>\n",
       "      <th>SummarySentiment</th>\n",
       "    </tr>\n",
       "  </thead>\n",
       "  <tbody>\n",
       "    <tr>\n",
       "      <th>0</th>\n",
       "      <td>5.0</td>\n",
       "      <td>0</td>\n",
       "      <td>0.0</td>\n",
       "      <td>1</td>\n",
       "      <td>0.18152</td>\n",
       "      <td>0.13299</td>\n",
       "      <td>0.25247</td>\n",
       "      <td>0.05626</td>\n",
       "      <td>0.37677</td>\n",
       "      <td>0.9981</td>\n",
       "      <td>780</td>\n",
       "      <td>1</td>\n",
       "      <td>-703.31</td>\n",
       "      <td>5</td>\n",
       "      <td>0.6369</td>\n",
       "    </tr>\n",
       "    <tr>\n",
       "      <th>1</th>\n",
       "      <td>5.0</td>\n",
       "      <td>0</td>\n",
       "      <td>0.0</td>\n",
       "      <td>1</td>\n",
       "      <td>0.21474</td>\n",
       "      <td>0.13793</td>\n",
       "      <td>0.24374</td>\n",
       "      <td>0.05937</td>\n",
       "      <td>0.34421</td>\n",
       "      <td>0.8232</td>\n",
       "      <td>267</td>\n",
       "      <td>1</td>\n",
       "      <td>-182.62</td>\n",
       "      <td>4</td>\n",
       "      <td>0.6369</td>\n",
       "    </tr>\n",
       "    <tr>\n",
       "      <th>2</th>\n",
       "      <td>4.0</td>\n",
       "      <td>0</td>\n",
       "      <td>0.0</td>\n",
       "      <td>1</td>\n",
       "      <td>0.17763</td>\n",
       "      <td>0.16719</td>\n",
       "      <td>0.24718</td>\n",
       "      <td>0.05738</td>\n",
       "      <td>0.35063</td>\n",
       "      <td>0.9947</td>\n",
       "      <td>917</td>\n",
       "      <td>15</td>\n",
       "      <td>34.84</td>\n",
       "      <td>4</td>\n",
       "      <td>0.2500</td>\n",
       "    </tr>\n",
       "    <tr>\n",
       "      <th>3</th>\n",
       "      <td>5.0</td>\n",
       "      <td>0</td>\n",
       "      <td>0.0</td>\n",
       "      <td>1</td>\n",
       "      <td>0.19793</td>\n",
       "      <td>0.13864</td>\n",
       "      <td>0.24873</td>\n",
       "      <td>0.06086</td>\n",
       "      <td>0.35384</td>\n",
       "      <td>0.6369</td>\n",
       "      <td>2</td>\n",
       "      <td>1</td>\n",
       "      <td>120.21</td>\n",
       "      <td>2</td>\n",
       "      <td>0.0000</td>\n",
       "    </tr>\n",
       "    <tr>\n",
       "      <th>4</th>\n",
       "      <td>5.0</td>\n",
       "      <td>0</td>\n",
       "      <td>0.0</td>\n",
       "      <td>1</td>\n",
       "      <td>0.20037</td>\n",
       "      <td>0.13743</td>\n",
       "      <td>0.24683</td>\n",
       "      <td>0.06033</td>\n",
       "      <td>0.35505</td>\n",
       "      <td>0.4753</td>\n",
       "      <td>16</td>\n",
       "      <td>1</td>\n",
       "      <td>80.62</td>\n",
       "      <td>2</td>\n",
       "      <td>0.0000</td>\n",
       "    </tr>\n",
       "    <tr>\n",
       "      <th>...</th>\n",
       "      <td>...</td>\n",
       "      <td>...</td>\n",
       "      <td>...</td>\n",
       "      <td>...</td>\n",
       "      <td>...</td>\n",
       "      <td>...</td>\n",
       "      <td>...</td>\n",
       "      <td>...</td>\n",
       "      <td>...</td>\n",
       "      <td>...</td>\n",
       "      <td>...</td>\n",
       "      <td>...</td>\n",
       "      <td>...</td>\n",
       "      <td>...</td>\n",
       "      <td>...</td>\n",
       "    </tr>\n",
       "    <tr>\n",
       "      <th>2562</th>\n",
       "      <td>1.0</td>\n",
       "      <td>0</td>\n",
       "      <td>0.0</td>\n",
       "      <td>0</td>\n",
       "      <td>0.18759</td>\n",
       "      <td>0.14428</td>\n",
       "      <td>0.24900</td>\n",
       "      <td>0.06230</td>\n",
       "      <td>0.35683</td>\n",
       "      <td>0.9287</td>\n",
       "      <td>213</td>\n",
       "      <td>4</td>\n",
       "      <td>42.76</td>\n",
       "      <td>10</td>\n",
       "      <td>-0.4767</td>\n",
       "    </tr>\n",
       "    <tr>\n",
       "      <th>2563</th>\n",
       "      <td>5.0</td>\n",
       "      <td>0</td>\n",
       "      <td>0.0</td>\n",
       "      <td>1</td>\n",
       "      <td>0.19704</td>\n",
       "      <td>0.13864</td>\n",
       "      <td>0.24873</td>\n",
       "      <td>0.06174</td>\n",
       "      <td>0.35384</td>\n",
       "      <td>0.4404</td>\n",
       "      <td>1</td>\n",
       "      <td>1</td>\n",
       "      <td>121.22</td>\n",
       "      <td>2</td>\n",
       "      <td>0.0000</td>\n",
       "    </tr>\n",
       "    <tr>\n",
       "      <th>2564</th>\n",
       "      <td>5.0</td>\n",
       "      <td>0</td>\n",
       "      <td>0.0</td>\n",
       "      <td>1</td>\n",
       "      <td>0.19064</td>\n",
       "      <td>0.13708</td>\n",
       "      <td>0.24595</td>\n",
       "      <td>0.05860</td>\n",
       "      <td>0.36773</td>\n",
       "      <td>0.4325</td>\n",
       "      <td>82</td>\n",
       "      <td>4</td>\n",
       "      <td>67.59</td>\n",
       "      <td>28</td>\n",
       "      <td>0.8795</td>\n",
       "    </tr>\n",
       "    <tr>\n",
       "      <th>2565</th>\n",
       "      <td>5.0</td>\n",
       "      <td>0</td>\n",
       "      <td>0.0</td>\n",
       "      <td>1</td>\n",
       "      <td>0.18627</td>\n",
       "      <td>0.14087</td>\n",
       "      <td>0.26606</td>\n",
       "      <td>0.05957</td>\n",
       "      <td>0.34722</td>\n",
       "      <td>0.2500</td>\n",
       "      <td>32</td>\n",
       "      <td>2</td>\n",
       "      <td>80.62</td>\n",
       "      <td>2</td>\n",
       "      <td>0.5719</td>\n",
       "    </tr>\n",
       "    <tr>\n",
       "      <th>2566</th>\n",
       "      <td>1.0</td>\n",
       "      <td>0</td>\n",
       "      <td>0.0</td>\n",
       "      <td>1</td>\n",
       "      <td>0.18584</td>\n",
       "      <td>0.14273</td>\n",
       "      <td>0.25573</td>\n",
       "      <td>0.06320</td>\n",
       "      <td>0.35250</td>\n",
       "      <td>-0.8266</td>\n",
       "      <td>42</td>\n",
       "      <td>1</td>\n",
       "      <td>54.23</td>\n",
       "      <td>11</td>\n",
       "      <td>-0.2960</td>\n",
       "    </tr>\n",
       "  </tbody>\n",
       "</table>\n",
       "<p>2567 rows × 15 columns</p>\n",
       "</div>"
      ],
      "text/plain": [
       "      rating  imagenum  nameverified  verified   Topic1   Topic2   Topic3  \\\n",
       "0        5.0         0           0.0         1  0.18152  0.13299  0.25247   \n",
       "1        5.0         0           0.0         1  0.21474  0.13793  0.24374   \n",
       "2        4.0         0           0.0         1  0.17763  0.16719  0.24718   \n",
       "3        5.0         0           0.0         1  0.19793  0.13864  0.24873   \n",
       "4        5.0         0           0.0         1  0.20037  0.13743  0.24683   \n",
       "...      ...       ...           ...       ...      ...      ...      ...   \n",
       "2562     1.0         0           0.0         0  0.18759  0.14428  0.24900   \n",
       "2563     5.0         0           0.0         1  0.19704  0.13864  0.24873   \n",
       "2564     5.0         0           0.0         1  0.19064  0.13708  0.24595   \n",
       "2565     5.0         0           0.0         1  0.18627  0.14087  0.26606   \n",
       "2566     1.0         0           0.0         1  0.18584  0.14273  0.25573   \n",
       "\n",
       "       Topic4   Topic5  Sentiment  Length  Sentences  readability  \\\n",
       "0     0.05626  0.37677     0.9981     780          1      -703.31   \n",
       "1     0.05937  0.34421     0.8232     267          1      -182.62   \n",
       "2     0.05738  0.35063     0.9947     917         15        34.84   \n",
       "3     0.06086  0.35384     0.6369       2          1       120.21   \n",
       "4     0.06033  0.35505     0.4753      16          1        80.62   \n",
       "...       ...      ...        ...     ...        ...          ...   \n",
       "2562  0.06230  0.35683     0.9287     213          4        42.76   \n",
       "2563  0.06174  0.35384     0.4404       1          1       121.22   \n",
       "2564  0.05860  0.36773     0.4325      82          4        67.59   \n",
       "2565  0.05957  0.34722     0.2500      32          2        80.62   \n",
       "2566  0.06320  0.35250    -0.8266      42          1        54.23   \n",
       "\n",
       "      SummaryLength  SummarySentiment  \n",
       "0                 5            0.6369  \n",
       "1                 4            0.6369  \n",
       "2                 4            0.2500  \n",
       "3                 2            0.0000  \n",
       "4                 2            0.0000  \n",
       "...             ...               ...  \n",
       "2562             10           -0.4767  \n",
       "2563              2            0.0000  \n",
       "2564             28            0.8795  \n",
       "2565              2            0.5719  \n",
       "2566             11           -0.2960  \n",
       "\n",
       "[2567 rows x 15 columns]"
      ]
     },
     "execution_count": 1241,
     "metadata": {},
     "output_type": "execute_result"
    }
   ],
   "source": [
    "df[features]"
   ]
  },
  {
   "cell_type": "code",
   "execution_count": 1242,
   "metadata": {},
   "outputs": [],
   "source": [
    "subdf = df[features]\n",
    "subdf['score'] = df['score']\n",
    "subdf.to_csv('keyboard_data.csv', index = False)"
   ]
  },
  {
   "cell_type": "markdown",
   "metadata": {},
   "source": [
    "### Model"
   ]
  },
  {
   "cell_type": "code",
   "execution_count": 1243,
   "metadata": {},
   "outputs": [],
   "source": [
    "df = pd.read_csv('keyboard_data.csv')"
   ]
  },
  {
   "cell_type": "markdown",
   "metadata": {},
   "source": [
    "#### Model Class"
   ]
  },
  {
   "cell_type": "code",
   "execution_count": 1244,
   "metadata": {
    "scrolled": true
   },
   "outputs": [
    {
     "data": {
      "text/plain": [
       "Index(['rating', 'imagenum', 'nameverified', 'verified', 'Topic1', 'Topic2',\n",
       "       'Topic3', 'Topic4', 'Topic5', 'Sentiment', 'Length', 'Sentences',\n",
       "       'readability', 'SummaryLength', 'SummarySentiment', 'score'],\n",
       "      dtype='object')"
      ]
     },
     "execution_count": 1244,
     "metadata": {},
     "output_type": "execute_result"
    }
   ],
   "source": [
    "df.columns"
   ]
  },
  {
   "cell_type": "code",
   "execution_count": 1245,
   "metadata": {},
   "outputs": [],
   "source": [
    "def render_table(data, col_width = 3.0, row_height = 0.625, font_size = 14,\n",
    "                     header_color = '#40466e', row_colors = ['#f1f1f2', 'w'], edge_color = 'w',\n",
    "                     bbox = [0, 0, 1, 1], header_columns = 0, ax = None, **kwargs):\n",
    "    \n",
    "    if ax is None:\n",
    "        size = (np.array(data.shape[::-1]) + np.array([0, 1])) * np.array([col_width, row_height])\n",
    "        fig, ax = plt.subplots(figsize=size)\n",
    "        ax.axis('off')\n",
    "\n",
    "    mpl_table = ax.table(cellText = data.values, bbox = bbox, colLabels = data.columns, **kwargs)\n",
    "\n",
    "    mpl_table.auto_set_font_size(False)\n",
    "    mpl_table.set_fontsize(font_size)\n",
    "\n",
    "    for k, cell in  six.iteritems(mpl_table._cells):\n",
    "        cell.set_edgecolor(edge_color)\n",
    "        if k[0] == 0 or k[1] < header_columns:\n",
    "            cell.set_text_props(weight = 'bold', color = 'w')\n",
    "            cell.set_facecolor(header_color)\n",
    "        else:\n",
    "            cell.set_facecolor(row_colors[k[0]%len(row_colors) ])\n",
    "    return ax"
   ]
  },
  {
   "cell_type": "code",
   "execution_count": 1246,
   "metadata": {},
   "outputs": [
    {
     "data": {
      "text/html": [
       "<div>\n",
       "<style scoped>\n",
       "    .dataframe tbody tr th:only-of-type {\n",
       "        vertical-align: middle;\n",
       "    }\n",
       "\n",
       "    .dataframe tbody tr th {\n",
       "        vertical-align: top;\n",
       "    }\n",
       "\n",
       "    .dataframe thead th {\n",
       "        text-align: right;\n",
       "    }\n",
       "</style>\n",
       "<table border=\"1\" class=\"dataframe\">\n",
       "  <thead>\n",
       "    <tr style=\"text-align: right;\">\n",
       "      <th></th>\n",
       "      <th>rating</th>\n",
       "      <th>imagenum</th>\n",
       "      <th>nameverified</th>\n",
       "      <th>verified</th>\n",
       "      <th>Topic1</th>\n",
       "      <th>Topic2</th>\n",
       "      <th>Topic3</th>\n",
       "      <th>Topic4</th>\n",
       "      <th>Topic5</th>\n",
       "      <th>Sentiment</th>\n",
       "      <th>Length</th>\n",
       "      <th>Sentences</th>\n",
       "      <th>readability</th>\n",
       "      <th>SummaryLength</th>\n",
       "      <th>SummarySentiment</th>\n",
       "    </tr>\n",
       "  </thead>\n",
       "  <tbody>\n",
       "    <tr>\n",
       "      <th>0</th>\n",
       "      <td>5.0</td>\n",
       "      <td>0</td>\n",
       "      <td>0.0</td>\n",
       "      <td>1</td>\n",
       "      <td>0.18152</td>\n",
       "      <td>0.13299</td>\n",
       "      <td>0.25247</td>\n",
       "      <td>0.05626</td>\n",
       "      <td>0.37677</td>\n",
       "      <td>0.9981</td>\n",
       "      <td>780</td>\n",
       "      <td>1</td>\n",
       "      <td>-703.31</td>\n",
       "      <td>5</td>\n",
       "      <td>0.6369</td>\n",
       "    </tr>\n",
       "    <tr>\n",
       "      <th>1</th>\n",
       "      <td>5.0</td>\n",
       "      <td>0</td>\n",
       "      <td>0.0</td>\n",
       "      <td>1</td>\n",
       "      <td>0.21474</td>\n",
       "      <td>0.13793</td>\n",
       "      <td>0.24374</td>\n",
       "      <td>0.05937</td>\n",
       "      <td>0.34421</td>\n",
       "      <td>0.8232</td>\n",
       "      <td>267</td>\n",
       "      <td>1</td>\n",
       "      <td>-182.62</td>\n",
       "      <td>4</td>\n",
       "      <td>0.6369</td>\n",
       "    </tr>\n",
       "    <tr>\n",
       "      <th>2</th>\n",
       "      <td>4.0</td>\n",
       "      <td>0</td>\n",
       "      <td>0.0</td>\n",
       "      <td>1</td>\n",
       "      <td>0.17763</td>\n",
       "      <td>0.16719</td>\n",
       "      <td>0.24718</td>\n",
       "      <td>0.05738</td>\n",
       "      <td>0.35063</td>\n",
       "      <td>0.9947</td>\n",
       "      <td>917</td>\n",
       "      <td>15</td>\n",
       "      <td>34.84</td>\n",
       "      <td>4</td>\n",
       "      <td>0.2500</td>\n",
       "    </tr>\n",
       "    <tr>\n",
       "      <th>3</th>\n",
       "      <td>5.0</td>\n",
       "      <td>0</td>\n",
       "      <td>0.0</td>\n",
       "      <td>1</td>\n",
       "      <td>0.19793</td>\n",
       "      <td>0.13864</td>\n",
       "      <td>0.24873</td>\n",
       "      <td>0.06086</td>\n",
       "      <td>0.35384</td>\n",
       "      <td>0.6369</td>\n",
       "      <td>2</td>\n",
       "      <td>1</td>\n",
       "      <td>120.21</td>\n",
       "      <td>2</td>\n",
       "      <td>0.0000</td>\n",
       "    </tr>\n",
       "    <tr>\n",
       "      <th>4</th>\n",
       "      <td>5.0</td>\n",
       "      <td>0</td>\n",
       "      <td>0.0</td>\n",
       "      <td>1</td>\n",
       "      <td>0.20037</td>\n",
       "      <td>0.13743</td>\n",
       "      <td>0.24683</td>\n",
       "      <td>0.06033</td>\n",
       "      <td>0.35505</td>\n",
       "      <td>0.4753</td>\n",
       "      <td>16</td>\n",
       "      <td>1</td>\n",
       "      <td>80.62</td>\n",
       "      <td>2</td>\n",
       "      <td>0.0000</td>\n",
       "    </tr>\n",
       "    <tr>\n",
       "      <th>...</th>\n",
       "      <td>...</td>\n",
       "      <td>...</td>\n",
       "      <td>...</td>\n",
       "      <td>...</td>\n",
       "      <td>...</td>\n",
       "      <td>...</td>\n",
       "      <td>...</td>\n",
       "      <td>...</td>\n",
       "      <td>...</td>\n",
       "      <td>...</td>\n",
       "      <td>...</td>\n",
       "      <td>...</td>\n",
       "      <td>...</td>\n",
       "      <td>...</td>\n",
       "      <td>...</td>\n",
       "    </tr>\n",
       "    <tr>\n",
       "      <th>2562</th>\n",
       "      <td>1.0</td>\n",
       "      <td>0</td>\n",
       "      <td>0.0</td>\n",
       "      <td>0</td>\n",
       "      <td>0.18759</td>\n",
       "      <td>0.14428</td>\n",
       "      <td>0.24900</td>\n",
       "      <td>0.06230</td>\n",
       "      <td>0.35683</td>\n",
       "      <td>0.9287</td>\n",
       "      <td>213</td>\n",
       "      <td>4</td>\n",
       "      <td>42.76</td>\n",
       "      <td>10</td>\n",
       "      <td>-0.4767</td>\n",
       "    </tr>\n",
       "    <tr>\n",
       "      <th>2563</th>\n",
       "      <td>5.0</td>\n",
       "      <td>0</td>\n",
       "      <td>0.0</td>\n",
       "      <td>1</td>\n",
       "      <td>0.19704</td>\n",
       "      <td>0.13864</td>\n",
       "      <td>0.24873</td>\n",
       "      <td>0.06174</td>\n",
       "      <td>0.35384</td>\n",
       "      <td>0.4404</td>\n",
       "      <td>1</td>\n",
       "      <td>1</td>\n",
       "      <td>121.22</td>\n",
       "      <td>2</td>\n",
       "      <td>0.0000</td>\n",
       "    </tr>\n",
       "    <tr>\n",
       "      <th>2564</th>\n",
       "      <td>5.0</td>\n",
       "      <td>0</td>\n",
       "      <td>0.0</td>\n",
       "      <td>1</td>\n",
       "      <td>0.19064</td>\n",
       "      <td>0.13708</td>\n",
       "      <td>0.24595</td>\n",
       "      <td>0.05860</td>\n",
       "      <td>0.36773</td>\n",
       "      <td>0.4325</td>\n",
       "      <td>82</td>\n",
       "      <td>4</td>\n",
       "      <td>67.59</td>\n",
       "      <td>28</td>\n",
       "      <td>0.8795</td>\n",
       "    </tr>\n",
       "    <tr>\n",
       "      <th>2565</th>\n",
       "      <td>5.0</td>\n",
       "      <td>0</td>\n",
       "      <td>0.0</td>\n",
       "      <td>1</td>\n",
       "      <td>0.18627</td>\n",
       "      <td>0.14087</td>\n",
       "      <td>0.26606</td>\n",
       "      <td>0.05957</td>\n",
       "      <td>0.34722</td>\n",
       "      <td>0.2500</td>\n",
       "      <td>32</td>\n",
       "      <td>2</td>\n",
       "      <td>80.62</td>\n",
       "      <td>2</td>\n",
       "      <td>0.5719</td>\n",
       "    </tr>\n",
       "    <tr>\n",
       "      <th>2566</th>\n",
       "      <td>1.0</td>\n",
       "      <td>0</td>\n",
       "      <td>0.0</td>\n",
       "      <td>1</td>\n",
       "      <td>0.18584</td>\n",
       "      <td>0.14273</td>\n",
       "      <td>0.25573</td>\n",
       "      <td>0.06320</td>\n",
       "      <td>0.35250</td>\n",
       "      <td>-0.8266</td>\n",
       "      <td>42</td>\n",
       "      <td>1</td>\n",
       "      <td>54.23</td>\n",
       "      <td>11</td>\n",
       "      <td>-0.2960</td>\n",
       "    </tr>\n",
       "  </tbody>\n",
       "</table>\n",
       "<p>2567 rows × 15 columns</p>\n",
       "</div>"
      ],
      "text/plain": [
       "      rating  imagenum  nameverified  verified   Topic1   Topic2   Topic3  \\\n",
       "0        5.0         0           0.0         1  0.18152  0.13299  0.25247   \n",
       "1        5.0         0           0.0         1  0.21474  0.13793  0.24374   \n",
       "2        4.0         0           0.0         1  0.17763  0.16719  0.24718   \n",
       "3        5.0         0           0.0         1  0.19793  0.13864  0.24873   \n",
       "4        5.0         0           0.0         1  0.20037  0.13743  0.24683   \n",
       "...      ...       ...           ...       ...      ...      ...      ...   \n",
       "2562     1.0         0           0.0         0  0.18759  0.14428  0.24900   \n",
       "2563     5.0         0           0.0         1  0.19704  0.13864  0.24873   \n",
       "2564     5.0         0           0.0         1  0.19064  0.13708  0.24595   \n",
       "2565     5.0         0           0.0         1  0.18627  0.14087  0.26606   \n",
       "2566     1.0         0           0.0         1  0.18584  0.14273  0.25573   \n",
       "\n",
       "       Topic4   Topic5  Sentiment  Length  Sentences  readability  \\\n",
       "0     0.05626  0.37677     0.9981     780          1      -703.31   \n",
       "1     0.05937  0.34421     0.8232     267          1      -182.62   \n",
       "2     0.05738  0.35063     0.9947     917         15        34.84   \n",
       "3     0.06086  0.35384     0.6369       2          1       120.21   \n",
       "4     0.06033  0.35505     0.4753      16          1        80.62   \n",
       "...       ...      ...        ...     ...        ...          ...   \n",
       "2562  0.06230  0.35683     0.9287     213          4        42.76   \n",
       "2563  0.06174  0.35384     0.4404       1          1       121.22   \n",
       "2564  0.05860  0.36773     0.4325      82          4        67.59   \n",
       "2565  0.05957  0.34722     0.2500      32          2        80.62   \n",
       "2566  0.06320  0.35250    -0.8266      42          1        54.23   \n",
       "\n",
       "      SummaryLength  SummarySentiment  \n",
       "0                 5            0.6369  \n",
       "1                 4            0.6369  \n",
       "2                 4            0.2500  \n",
       "3                 2            0.0000  \n",
       "4                 2            0.0000  \n",
       "...             ...               ...  \n",
       "2562             10           -0.4767  \n",
       "2563              2            0.0000  \n",
       "2564             28            0.8795  \n",
       "2565              2            0.5719  \n",
       "2566             11           -0.2960  \n",
       "\n",
       "[2567 rows x 15 columns]"
      ]
     },
     "execution_count": 1246,
     "metadata": {},
     "output_type": "execute_result"
    }
   ],
   "source": [
    "df[features]"
   ]
  },
  {
   "cell_type": "code",
   "execution_count": 1266,
   "metadata": {},
   "outputs": [],
   "source": [
    "class features_selection:\n",
    "    '''\n",
    "    This class takes the cleaned review data and apply three ways (random forest, linear regression, lasso regression) for selecting predictive features.\n",
    "    '''\n",
    "    def __init__(self, df, rating = 'all'):\n",
    "        \n",
    "        self.rating = rating\n",
    "        self.df = df\n",
    "        self.out = pd.DataFrame()\n",
    " \n",
    "    def data_preprocessing(self):\n",
    "        if self.rating == 'all':\n",
    "            self.df = df\n",
    "        elif self.rating == 'pos':\n",
    "            self.df = df[df['rating']>3]\n",
    "        elif self.rating == 'neg':\n",
    "            self.df = df[df['rating']<3]\n",
    "        elif self.rating == 'neu':\n",
    "            self.df = df[df['rating']==3]\n",
    "        else:\n",
    "            print('wrong input')\n",
    "         \n",
    "                \n",
    "        # Select features that capture information that customers would see when reading reviews\n",
    "        self.X = self.df[features]\n",
    "        self.y = self.df['score']\n",
    "        \n",
    "        #print(self.X.shape, self.y.shape)\n",
    "        \n",
    "        # Divide the data into training and test set, with ratio 3:1 (test=20%).\n",
    "        self.X_train, self.X_test, self.y_train, self.y_test = train_test_split(self.X, self.y, random_state = 0)\n",
    "        # Standarization\n",
    "        self.X_train = scaler.fit_transform(self.X_train)\n",
    "        self.X_test = scaler.fit_transform(self.X_test)\n",
    "        \n",
    "        self.out[\"features\"] = self.X.columns\n",
    "        \n",
    "    def label(self):\n",
    "        '''\n",
    "        Return full name for plotting graphs\n",
    "        '''\n",
    "        if self.rating == 'all':\n",
    "            return \"for All Reviews in the Sample\"\n",
    "        elif self.rating == 'pos':\n",
    "            return \"for Positive Reviews in the Sample\"\n",
    "        elif self.rating == 'neg':\n",
    "            return \"for Negative Reviews in the Sample\"\n",
    "        elif self.rating == 'neu':\n",
    "            return \"for Neutral Reviews in the Sample\"\n",
    "        else:\n",
    "            return None\n",
    "        \n",
    "    def random_forest(self):\n",
    "        '''\n",
    "        Feature importance using Random Forest\n",
    "        '''\n",
    "        self.data_preprocessing()\n",
    "        rfr = RandomForestRegressor(n_estimators = 100, n_jobs = 4).fit(self.X_train, self.y_train)\n",
    "        imp = pd.DataFrame({\"features\": self.X.columns, \"rfr_select\": rfr.feature_importances_})\n",
    "        imp = imp.sort_values(by='rfr_select', ascending=False)\n",
    "        imp = imp.round(2)\n",
    "        \n",
    "        render_table(imp)\n",
    "        rfr_title = \"Random Forest Feature Importance Results \" + self.label()\n",
    "        plt.title(rfr_title, fontsize=12)\n",
    "        #plt.savefig(\"Plots/\"+rfr_title)\n",
    "        plt.close()\n",
    "        \n",
    "        self.out['rfr_select'] = rfr.feature_importances_\n",
    "        self.out['rfr_imp'] = np.where(rankdata(rfr.feature_importances_)>10, 1, 0)\n",
    "        \n",
    "        plt.figure(figsize = (12,8))\n",
    "        plt.hlines(y = imp[\"features\"], xmin = 0, xmax = imp['rfr_select'],\n",
    "           linestyles = 'dashed', color = 'maroon')\n",
    "\n",
    "        plt.plot(imp['rfr_select'], imp[\"features\"], \">\", color = 'maroon')\n",
    "\n",
    "        plt.yticks(imp[\"features\"])\n",
    "        title = \"Relative Features Importance by Random Forest \" + self.label()\n",
    "        plt.title(title, loc = 'center', fontsize = 20)\n",
    "        plt.xlabel('scores')\n",
    "        plt.savefig(\"Plots/\"+title + '.png')\n",
    "        plt.close()\n",
    "        \n",
    "        \n",
    "        \n",
    "    def linear(self):\n",
    "        '''\n",
    "        Fit the linear model with Ordinary Least Square\n",
    "        '''\n",
    "        self.data_preprocessing()\n",
    "        lin = LinearRegression().fit(self.X_train, self.y_train)\n",
    "        linkf = cross_val_score(lin, self.X_train, self.y_train, cv=5, scoring=\"neg_mean_squared_error\")\n",
    "        #print(\"Mean:\",round(-linkf.mean(),2))\n",
    "        #print(\"Standard deviation:\",round(linkf.std(),2))\n",
    "        \n",
    "        self.X2 = sm.add_constant(self.X_train)\n",
    "        model = sm.OLS(self.y_train, self.X2).fit()\n",
    "        #predictions = model.predict(X) \n",
    "        print_model = model.summary()\n",
    "        #print(print_model)\n",
    "        \n",
    "        Xcols = [i for i in self.X.columns]\n",
    "        Xcols.insert(0, 'Intercept')\n",
    "        output = pd.DataFrame({'Columns':Xcols, 'Coefficients':model.params, 'Std': model.bse, 'p_value':model.pvalues,\n",
    "                             'Significant at 95% level':np.where(model.pvalues<0.05,1,0)}).round(2)\n",
    "        \n",
    "        self.out['linear_select'] = [i for i in model.params[1:]]\n",
    "        self.out['linear_imp'] = np.where(model.pvalues[1:]<0.05,1,0)\n",
    "        \n",
    "        render_table(output)\n",
    "        linear_title = \"Linear Regression Results \" + self.label()\n",
    "        plt.title(linear_title, fontsize=20)\n",
    "        plt.savefig(\"Plots/\"+linear_title)\n",
    "        plt.close()\n",
    "        \n",
    "        #return [(Xcols[i], model.params[i].round(2))  for i in range(len(Xcols)) if np.where(model.pvalues<0.05,1,0)[i]==1]\n",
    "    \n",
    "        \n",
    "    def lasso(self):\n",
    "        '''\n",
    "        Fit the lasso model\n",
    "        '''\n",
    "        self.data_preprocessing()\n",
    "        las = Lasso().fit(self.X_train, self.y_train)\n",
    "        alpha_grid = {\"alpha\": np.linspace(0,10,50)}\n",
    "        grid_search_las = GridSearchCV(las, param_grid = alpha_grid, n_jobs = 4, cv = 5,\n",
    "                               scoring='neg_mean_squared_error').fit(self.X_train, self.y_train)\n",
    "\n",
    "        #print('GridBestEstimatorLasso=', grid_search_las.best_estimator_)\n",
    "        #print('GridBestParamsLasso=', grid_search_las.best_params_)\n",
    "        #print('GridBestScoreLasso=', -grid_search_las.best_score_)\n",
    "        \n",
    "        las = Lasso(alpha = grid_search_las.best_params_['alpha']).fit(self.X_train, self.y_train)\n",
    "        laskf = cross_val_score(las, self.X_train, self.y_train, cv = 5, \n",
    "                              scoring=\"neg_mean_squared_error\")\n",
    "        #print(\"Mean:\", round(-laskf.mean(),2))\n",
    "        #print(\"Standard deviation:\",round(laskf.std(),2))\n",
    "        lasso_output = pd.DataFrame({\"features\": self.X.columns, \"Coefficients\": las.coef_}).round(2)\n",
    "        \n",
    "        self.out['lasso_select'] = las.coef_\n",
    "        self.out['lasso_imp'] = np.where(rankdata(np.abs(las.coef_))>10, 1, 0)\n",
    "        \n",
    "        render_table(lasso_output)\n",
    "        lasso_title = \"Lasso Regression Results \" + self.label()\n",
    "        plt.title(lasso_title, fontsize=12)\n",
    "        #plt.savefig(\"Plots/\"+lasso_title)\n",
    "        plt.close()\n",
    "        \n",
    "        ## print lasso path\n",
    "        ### https://scikit-learn.org/stable/modules/generated/sklearn.linear_model.lasso_path.html\n",
    "        \n",
    "        self.nrows, self.ncols = self.X.shape\n",
    "\n",
    "        eps = 5e-8  # the smaller it is the longer is the path eps = alpha_min / alpha_max = 1e-3\n",
    "\n",
    "        self.alphas_lasso, self.coefs_lasso, _ = linear_model.lasso_path(self.X_train, self.y_train, eps, fit_intercept=True)\n",
    "\n",
    "        # Display results\n",
    "        plt.figure(figsize = (12,8))\n",
    "        #neg_log_alphas_lasso = -np.log10(alphas_lasso)\n",
    "\n",
    "        for i in range(self.ncols):\n",
    "            plt.plot(self.alphas_lasso, self.coefs_lasso[i], label = [i for i in self.X.columns][i])\n",
    "\n",
    "        plt.xscale('log')\n",
    "        plt.xlabel('Log($\\\\lambda$)')\n",
    "        plt.ylabel('coefficients')\n",
    "        path_title = \"Lasso Path at Different Lambda \" + self.label()\n",
    "        plt.title(path_title, fontsize=20)\n",
    "        plt.legend()\n",
    "        plt.axis('tight')  \n",
    "        plt.savefig(\"Plots/\"+path_title + '.png')\n",
    "        plt.close()\n",
    "        \n",
    "    def output(self):\n",
    "        self.random_forest()\n",
    "        self.linear()\n",
    "        self.lasso()\n",
    "        self.out['imp_agg'] = self.out['rfr_imp']+self.out['linear_imp']+self.out['lasso_imp']\n",
    "        self.out = self.out.sort_values(by='imp_agg', ascending=False).round(2)\n",
    "        \n",
    "        # correlation (which method correlates most with the majority vote)\n",
    "        rfr_corr = np.corrcoef(self.out['imp_agg'], self.out['rfr_imp'])[0,1].round(2)\n",
    "        linear_corr = np.corrcoef(self.out['imp_agg'], self.out['linear_imp'])[0,1].round(2)\n",
    "        lasso_corr = np.corrcoef(self.out['imp_agg'], self.out['lasso_imp'])[0,1].round(2)\n",
    "        print(\"Random Forest:\", rfr_corr, \"Linear:\", linear_corr, \"Lasso:\", lasso_corr)\n",
    "    \n",
    "        return self.out\n",
    "                          \n"
   ]
  },
  {
   "cell_type": "markdown",
   "metadata": {},
   "source": [
    "#### Full data"
   ]
  },
  {
   "cell_type": "code",
   "execution_count": 1267,
   "metadata": {},
   "outputs": [
    {
     "name": "stdout",
     "output_type": "stream",
     "text": [
      "Random Forest: 0.41 Linear: 0.67 Lasso: 0.86\n"
     ]
    },
    {
     "data": {
      "text/html": [
       "<div>\n",
       "<style scoped>\n",
       "    .dataframe tbody tr th:only-of-type {\n",
       "        vertical-align: middle;\n",
       "    }\n",
       "\n",
       "    .dataframe tbody tr th {\n",
       "        vertical-align: top;\n",
       "    }\n",
       "\n",
       "    .dataframe thead th {\n",
       "        text-align: right;\n",
       "    }\n",
       "</style>\n",
       "<table border=\"1\" class=\"dataframe\">\n",
       "  <thead>\n",
       "    <tr style=\"text-align: right;\">\n",
       "      <th></th>\n",
       "      <th>features</th>\n",
       "      <th>rfr_select</th>\n",
       "      <th>rfr_imp</th>\n",
       "      <th>linear_select</th>\n",
       "      <th>linear_imp</th>\n",
       "      <th>lasso_select</th>\n",
       "      <th>lasso_imp</th>\n",
       "      <th>imp_agg</th>\n",
       "    </tr>\n",
       "  </thead>\n",
       "  <tbody>\n",
       "    <tr>\n",
       "      <th>10</th>\n",
       "      <td>Length</td>\n",
       "      <td>0.25</td>\n",
       "      <td>1</td>\n",
       "      <td>1291.75</td>\n",
       "      <td>1</td>\n",
       "      <td>2027.14</td>\n",
       "      <td>1</td>\n",
       "      <td>3</td>\n",
       "    </tr>\n",
       "    <tr>\n",
       "      <th>0</th>\n",
       "      <td>rating</td>\n",
       "      <td>0.02</td>\n",
       "      <td>0</td>\n",
       "      <td>-284.61</td>\n",
       "      <td>1</td>\n",
       "      <td>-245.21</td>\n",
       "      <td>1</td>\n",
       "      <td>2</td>\n",
       "    </tr>\n",
       "    <tr>\n",
       "      <th>8</th>\n",
       "      <td>Topic5</td>\n",
       "      <td>0.09</td>\n",
       "      <td>1</td>\n",
       "      <td>17142.50</td>\n",
       "      <td>0</td>\n",
       "      <td>103.39</td>\n",
       "      <td>1</td>\n",
       "      <td>2</td>\n",
       "    </tr>\n",
       "    <tr>\n",
       "      <th>13</th>\n",
       "      <td>SummaryLength</td>\n",
       "      <td>0.07</td>\n",
       "      <td>0</td>\n",
       "      <td>-555.07</td>\n",
       "      <td>1</td>\n",
       "      <td>-333.23</td>\n",
       "      <td>1</td>\n",
       "      <td>2</td>\n",
       "    </tr>\n",
       "    <tr>\n",
       "      <th>14</th>\n",
       "      <td>SummarySentiment</td>\n",
       "      <td>0.06</td>\n",
       "      <td>0</td>\n",
       "      <td>240.01</td>\n",
       "      <td>1</td>\n",
       "      <td>176.95</td>\n",
       "      <td>1</td>\n",
       "      <td>2</td>\n",
       "    </tr>\n",
       "    <tr>\n",
       "      <th>4</th>\n",
       "      <td>Topic1</td>\n",
       "      <td>0.08</td>\n",
       "      <td>1</td>\n",
       "      <td>14009.33</td>\n",
       "      <td>0</td>\n",
       "      <td>-64.73</td>\n",
       "      <td>0</td>\n",
       "      <td>1</td>\n",
       "    </tr>\n",
       "    <tr>\n",
       "      <th>5</th>\n",
       "      <td>Topic2</td>\n",
       "      <td>0.08</td>\n",
       "      <td>1</td>\n",
       "      <td>16028.49</td>\n",
       "      <td>0</td>\n",
       "      <td>-0.00</td>\n",
       "      <td>0</td>\n",
       "      <td>1</td>\n",
       "    </tr>\n",
       "    <tr>\n",
       "      <th>6</th>\n",
       "      <td>Topic3</td>\n",
       "      <td>0.09</td>\n",
       "      <td>1</td>\n",
       "      <td>20932.88</td>\n",
       "      <td>0</td>\n",
       "      <td>0.00</td>\n",
       "      <td>0</td>\n",
       "      <td>1</td>\n",
       "    </tr>\n",
       "    <tr>\n",
       "      <th>11</th>\n",
       "      <td>Sentences</td>\n",
       "      <td>0.02</td>\n",
       "      <td>0</td>\n",
       "      <td>922.58</td>\n",
       "      <td>1</td>\n",
       "      <td>89.30</td>\n",
       "      <td>0</td>\n",
       "      <td>1</td>\n",
       "    </tr>\n",
       "    <tr>\n",
       "      <th>12</th>\n",
       "      <td>readability</td>\n",
       "      <td>0.07</td>\n",
       "      <td>0</td>\n",
       "      <td>-1543.34</td>\n",
       "      <td>1</td>\n",
       "      <td>-0.00</td>\n",
       "      <td>0</td>\n",
       "      <td>1</td>\n",
       "    </tr>\n",
       "    <tr>\n",
       "      <th>1</th>\n",
       "      <td>imagenum</td>\n",
       "      <td>0.00</td>\n",
       "      <td>0</td>\n",
       "      <td>-214.71</td>\n",
       "      <td>0</td>\n",
       "      <td>-0.00</td>\n",
       "      <td>0</td>\n",
       "      <td>0</td>\n",
       "    </tr>\n",
       "    <tr>\n",
       "      <th>2</th>\n",
       "      <td>nameverified</td>\n",
       "      <td>0.01</td>\n",
       "      <td>0</td>\n",
       "      <td>90.69</td>\n",
       "      <td>0</td>\n",
       "      <td>51.15</td>\n",
       "      <td>0</td>\n",
       "      <td>0</td>\n",
       "    </tr>\n",
       "    <tr>\n",
       "      <th>3</th>\n",
       "      <td>verified</td>\n",
       "      <td>0.01</td>\n",
       "      <td>0</td>\n",
       "      <td>-59.71</td>\n",
       "      <td>0</td>\n",
       "      <td>-68.77</td>\n",
       "      <td>0</td>\n",
       "      <td>0</td>\n",
       "    </tr>\n",
       "    <tr>\n",
       "      <th>7</th>\n",
       "      <td>Topic4</td>\n",
       "      <td>0.07</td>\n",
       "      <td>0</td>\n",
       "      <td>10858.85</td>\n",
       "      <td>0</td>\n",
       "      <td>-0.00</td>\n",
       "      <td>0</td>\n",
       "      <td>0</td>\n",
       "    </tr>\n",
       "    <tr>\n",
       "      <th>9</th>\n",
       "      <td>Sentiment</td>\n",
       "      <td>0.08</td>\n",
       "      <td>0</td>\n",
       "      <td>33.59</td>\n",
       "      <td>0</td>\n",
       "      <td>3.24</td>\n",
       "      <td>0</td>\n",
       "      <td>0</td>\n",
       "    </tr>\n",
       "  </tbody>\n",
       "</table>\n",
       "</div>"
      ],
      "text/plain": [
       "            features  rfr_select  rfr_imp  linear_select  linear_imp  \\\n",
       "10            Length        0.25        1        1291.75           1   \n",
       "0             rating        0.02        0        -284.61           1   \n",
       "8             Topic5        0.09        1       17142.50           0   \n",
       "13     SummaryLength        0.07        0        -555.07           1   \n",
       "14  SummarySentiment        0.06        0         240.01           1   \n",
       "4             Topic1        0.08        1       14009.33           0   \n",
       "5             Topic2        0.08        1       16028.49           0   \n",
       "6             Topic3        0.09        1       20932.88           0   \n",
       "11         Sentences        0.02        0         922.58           1   \n",
       "12       readability        0.07        0       -1543.34           1   \n",
       "1           imagenum        0.00        0        -214.71           0   \n",
       "2       nameverified        0.01        0          90.69           0   \n",
       "3           verified        0.01        0         -59.71           0   \n",
       "7             Topic4        0.07        0       10858.85           0   \n",
       "9          Sentiment        0.08        0          33.59           0   \n",
       "\n",
       "    lasso_select  lasso_imp  imp_agg  \n",
       "10       2027.14          1        3  \n",
       "0        -245.21          1        2  \n",
       "8         103.39          1        2  \n",
       "13       -333.23          1        2  \n",
       "14        176.95          1        2  \n",
       "4         -64.73          0        1  \n",
       "5          -0.00          0        1  \n",
       "6           0.00          0        1  \n",
       "11         89.30          0        1  \n",
       "12         -0.00          0        1  \n",
       "1          -0.00          0        0  \n",
       "2          51.15          0        0  \n",
       "3         -68.77          0        0  \n",
       "7          -0.00          0        0  \n",
       "9           3.24          0        0  "
      ]
     },
     "execution_count": 1267,
     "metadata": {},
     "output_type": "execute_result"
    }
   ],
   "source": [
    "df_full = features_selection(df, 'all')\n",
    "df_full.output()"
   ]
  },
  {
   "cell_type": "markdown",
   "metadata": {},
   "source": [
    "#### Subset: Positive Reviews"
   ]
  },
  {
   "cell_type": "code",
   "execution_count": 1268,
   "metadata": {},
   "outputs": [
    {
     "name": "stdout",
     "output_type": "stream",
     "text": [
      "Random Forest: 0.44 Linear: 0.73 Lasso: 0.88\n"
     ]
    },
    {
     "data": {
      "text/html": [
       "<div>\n",
       "<style scoped>\n",
       "    .dataframe tbody tr th:only-of-type {\n",
       "        vertical-align: middle;\n",
       "    }\n",
       "\n",
       "    .dataframe tbody tr th {\n",
       "        vertical-align: top;\n",
       "    }\n",
       "\n",
       "    .dataframe thead th {\n",
       "        text-align: right;\n",
       "    }\n",
       "</style>\n",
       "<table border=\"1\" class=\"dataframe\">\n",
       "  <thead>\n",
       "    <tr style=\"text-align: right;\">\n",
       "      <th></th>\n",
       "      <th>features</th>\n",
       "      <th>rfr_select</th>\n",
       "      <th>rfr_imp</th>\n",
       "      <th>linear_select</th>\n",
       "      <th>linear_imp</th>\n",
       "      <th>lasso_select</th>\n",
       "      <th>lasso_imp</th>\n",
       "      <th>imp_agg</th>\n",
       "    </tr>\n",
       "  </thead>\n",
       "  <tbody>\n",
       "    <tr>\n",
       "      <th>10</th>\n",
       "      <td>Length</td>\n",
       "      <td>0.26</td>\n",
       "      <td>1</td>\n",
       "      <td>1077.44</td>\n",
       "      <td>1</td>\n",
       "      <td>1312.93</td>\n",
       "      <td>1</td>\n",
       "      <td>3</td>\n",
       "    </tr>\n",
       "    <tr>\n",
       "      <th>8</th>\n",
       "      <td>Topic5</td>\n",
       "      <td>0.09</td>\n",
       "      <td>1</td>\n",
       "      <td>-121669.29</td>\n",
       "      <td>0</td>\n",
       "      <td>325.32</td>\n",
       "      <td>1</td>\n",
       "      <td>2</td>\n",
       "    </tr>\n",
       "    <tr>\n",
       "      <th>11</th>\n",
       "      <td>Sentences</td>\n",
       "      <td>0.03</td>\n",
       "      <td>0</td>\n",
       "      <td>892.31</td>\n",
       "      <td>1</td>\n",
       "      <td>594.55</td>\n",
       "      <td>1</td>\n",
       "      <td>2</td>\n",
       "    </tr>\n",
       "    <tr>\n",
       "      <th>12</th>\n",
       "      <td>readability</td>\n",
       "      <td>0.07</td>\n",
       "      <td>0</td>\n",
       "      <td>-1322.12</td>\n",
       "      <td>1</td>\n",
       "      <td>-1012.02</td>\n",
       "      <td>1</td>\n",
       "      <td>2</td>\n",
       "    </tr>\n",
       "    <tr>\n",
       "      <th>13</th>\n",
       "      <td>SummaryLength</td>\n",
       "      <td>0.08</td>\n",
       "      <td>0</td>\n",
       "      <td>-592.27</td>\n",
       "      <td>1</td>\n",
       "      <td>-546.63</td>\n",
       "      <td>1</td>\n",
       "      <td>2</td>\n",
       "    </tr>\n",
       "    <tr>\n",
       "      <th>0</th>\n",
       "      <td>rating</td>\n",
       "      <td>0.01</td>\n",
       "      <td>0</td>\n",
       "      <td>-103.76</td>\n",
       "      <td>1</td>\n",
       "      <td>-101.82</td>\n",
       "      <td>0</td>\n",
       "      <td>1</td>\n",
       "    </tr>\n",
       "    <tr>\n",
       "      <th>4</th>\n",
       "      <td>Topic1</td>\n",
       "      <td>0.08</td>\n",
       "      <td>1</td>\n",
       "      <td>-91923.09</td>\n",
       "      <td>0</td>\n",
       "      <td>-95.49</td>\n",
       "      <td>0</td>\n",
       "      <td>1</td>\n",
       "    </tr>\n",
       "    <tr>\n",
       "      <th>5</th>\n",
       "      <td>Topic2</td>\n",
       "      <td>0.08</td>\n",
       "      <td>1</td>\n",
       "      <td>-114365.13</td>\n",
       "      <td>0</td>\n",
       "      <td>-5.94</td>\n",
       "      <td>0</td>\n",
       "      <td>1</td>\n",
       "    </tr>\n",
       "    <tr>\n",
       "      <th>6</th>\n",
       "      <td>Topic3</td>\n",
       "      <td>0.09</td>\n",
       "      <td>1</td>\n",
       "      <td>-116718.98</td>\n",
       "      <td>0</td>\n",
       "      <td>268.78</td>\n",
       "      <td>0</td>\n",
       "      <td>1</td>\n",
       "    </tr>\n",
       "    <tr>\n",
       "      <th>1</th>\n",
       "      <td>imagenum</td>\n",
       "      <td>0.00</td>\n",
       "      <td>0</td>\n",
       "      <td>491.45</td>\n",
       "      <td>0</td>\n",
       "      <td>0.00</td>\n",
       "      <td>0</td>\n",
       "      <td>0</td>\n",
       "    </tr>\n",
       "    <tr>\n",
       "      <th>2</th>\n",
       "      <td>nameverified</td>\n",
       "      <td>0.00</td>\n",
       "      <td>0</td>\n",
       "      <td>85.92</td>\n",
       "      <td>0</td>\n",
       "      <td>75.53</td>\n",
       "      <td>0</td>\n",
       "      <td>0</td>\n",
       "    </tr>\n",
       "    <tr>\n",
       "      <th>3</th>\n",
       "      <td>verified</td>\n",
       "      <td>0.01</td>\n",
       "      <td>0</td>\n",
       "      <td>23.06</td>\n",
       "      <td>0</td>\n",
       "      <td>7.16</td>\n",
       "      <td>0</td>\n",
       "      <td>0</td>\n",
       "    </tr>\n",
       "    <tr>\n",
       "      <th>7</th>\n",
       "      <td>Topic4</td>\n",
       "      <td>0.07</td>\n",
       "      <td>0</td>\n",
       "      <td>-70624.63</td>\n",
       "      <td>0</td>\n",
       "      <td>-0.00</td>\n",
       "      <td>0</td>\n",
       "      <td>0</td>\n",
       "    </tr>\n",
       "    <tr>\n",
       "      <th>9</th>\n",
       "      <td>Sentiment</td>\n",
       "      <td>0.07</td>\n",
       "      <td>0</td>\n",
       "      <td>20.26</td>\n",
       "      <td>0</td>\n",
       "      <td>14.12</td>\n",
       "      <td>0</td>\n",
       "      <td>0</td>\n",
       "    </tr>\n",
       "    <tr>\n",
       "      <th>14</th>\n",
       "      <td>SummarySentiment</td>\n",
       "      <td>0.06</td>\n",
       "      <td>0</td>\n",
       "      <td>92.20</td>\n",
       "      <td>0</td>\n",
       "      <td>88.31</td>\n",
       "      <td>0</td>\n",
       "      <td>0</td>\n",
       "    </tr>\n",
       "  </tbody>\n",
       "</table>\n",
       "</div>"
      ],
      "text/plain": [
       "            features  rfr_select  rfr_imp  linear_select  linear_imp  \\\n",
       "10            Length        0.26        1        1077.44           1   \n",
       "8             Topic5        0.09        1     -121669.29           0   \n",
       "11         Sentences        0.03        0         892.31           1   \n",
       "12       readability        0.07        0       -1322.12           1   \n",
       "13     SummaryLength        0.08        0        -592.27           1   \n",
       "0             rating        0.01        0        -103.76           1   \n",
       "4             Topic1        0.08        1      -91923.09           0   \n",
       "5             Topic2        0.08        1     -114365.13           0   \n",
       "6             Topic3        0.09        1     -116718.98           0   \n",
       "1           imagenum        0.00        0         491.45           0   \n",
       "2       nameverified        0.00        0          85.92           0   \n",
       "3           verified        0.01        0          23.06           0   \n",
       "7             Topic4        0.07        0      -70624.63           0   \n",
       "9          Sentiment        0.07        0          20.26           0   \n",
       "14  SummarySentiment        0.06        0          92.20           0   \n",
       "\n",
       "    lasso_select  lasso_imp  imp_agg  \n",
       "10       1312.93          1        3  \n",
       "8         325.32          1        2  \n",
       "11        594.55          1        2  \n",
       "12      -1012.02          1        2  \n",
       "13       -546.63          1        2  \n",
       "0        -101.82          0        1  \n",
       "4         -95.49          0        1  \n",
       "5          -5.94          0        1  \n",
       "6         268.78          0        1  \n",
       "1           0.00          0        0  \n",
       "2          75.53          0        0  \n",
       "3           7.16          0        0  \n",
       "7          -0.00          0        0  \n",
       "9          14.12          0        0  \n",
       "14         88.31          0        0  "
      ]
     },
     "execution_count": 1268,
     "metadata": {},
     "output_type": "execute_result"
    }
   ],
   "source": [
    "df_positive = features_selection(df, 'pos')\n",
    "df_positive.output()"
   ]
  },
  {
   "cell_type": "markdown",
   "metadata": {},
   "source": [
    "#### Subset: Negative Reviews"
   ]
  },
  {
   "cell_type": "code",
   "execution_count": 1269,
   "metadata": {},
   "outputs": [
    {
     "name": "stdout",
     "output_type": "stream",
     "text": [
      "Random Forest: 0.59 Linear: 0.45 Lasso: 0.91\n"
     ]
    },
    {
     "data": {
      "text/html": [
       "<div>\n",
       "<style scoped>\n",
       "    .dataframe tbody tr th:only-of-type {\n",
       "        vertical-align: middle;\n",
       "    }\n",
       "\n",
       "    .dataframe tbody tr th {\n",
       "        vertical-align: top;\n",
       "    }\n",
       "\n",
       "    .dataframe thead th {\n",
       "        text-align: right;\n",
       "    }\n",
       "</style>\n",
       "<table border=\"1\" class=\"dataframe\">\n",
       "  <thead>\n",
       "    <tr style=\"text-align: right;\">\n",
       "      <th></th>\n",
       "      <th>features</th>\n",
       "      <th>rfr_select</th>\n",
       "      <th>rfr_imp</th>\n",
       "      <th>linear_select</th>\n",
       "      <th>linear_imp</th>\n",
       "      <th>lasso_select</th>\n",
       "      <th>lasso_imp</th>\n",
       "      <th>imp_agg</th>\n",
       "    </tr>\n",
       "  </thead>\n",
       "  <tbody>\n",
       "    <tr>\n",
       "      <th>1</th>\n",
       "      <td>imagenum</td>\n",
       "      <td>0.00</td>\n",
       "      <td>0</td>\n",
       "      <td>1190.32</td>\n",
       "      <td>1</td>\n",
       "      <td>726.48</td>\n",
       "      <td>1</td>\n",
       "      <td>2</td>\n",
       "    </tr>\n",
       "    <tr>\n",
       "      <th>5</th>\n",
       "      <td>Topic2</td>\n",
       "      <td>0.09</td>\n",
       "      <td>1</td>\n",
       "      <td>-198110.24</td>\n",
       "      <td>0</td>\n",
       "      <td>437.40</td>\n",
       "      <td>1</td>\n",
       "      <td>2</td>\n",
       "    </tr>\n",
       "    <tr>\n",
       "      <th>10</th>\n",
       "      <td>Length</td>\n",
       "      <td>0.25</td>\n",
       "      <td>1</td>\n",
       "      <td>447.24</td>\n",
       "      <td>0</td>\n",
       "      <td>895.60</td>\n",
       "      <td>1</td>\n",
       "      <td>2</td>\n",
       "    </tr>\n",
       "    <tr>\n",
       "      <th>12</th>\n",
       "      <td>readability</td>\n",
       "      <td>0.08</td>\n",
       "      <td>1</td>\n",
       "      <td>-1094.81</td>\n",
       "      <td>0</td>\n",
       "      <td>-515.38</td>\n",
       "      <td>1</td>\n",
       "      <td>2</td>\n",
       "    </tr>\n",
       "    <tr>\n",
       "      <th>14</th>\n",
       "      <td>SummarySentiment</td>\n",
       "      <td>0.05</td>\n",
       "      <td>0</td>\n",
       "      <td>491.73</td>\n",
       "      <td>1</td>\n",
       "      <td>396.99</td>\n",
       "      <td>1</td>\n",
       "      <td>2</td>\n",
       "    </tr>\n",
       "    <tr>\n",
       "      <th>3</th>\n",
       "      <td>verified</td>\n",
       "      <td>0.01</td>\n",
       "      <td>0</td>\n",
       "      <td>-239.21</td>\n",
       "      <td>1</td>\n",
       "      <td>-235.16</td>\n",
       "      <td>0</td>\n",
       "      <td>1</td>\n",
       "    </tr>\n",
       "    <tr>\n",
       "      <th>4</th>\n",
       "      <td>Topic1</td>\n",
       "      <td>0.10</td>\n",
       "      <td>1</td>\n",
       "      <td>-180026.46</td>\n",
       "      <td>0</td>\n",
       "      <td>-84.94</td>\n",
       "      <td>0</td>\n",
       "      <td>1</td>\n",
       "    </tr>\n",
       "    <tr>\n",
       "      <th>8</th>\n",
       "      <td>Topic5</td>\n",
       "      <td>0.10</td>\n",
       "      <td>1</td>\n",
       "      <td>-231675.28</td>\n",
       "      <td>0</td>\n",
       "      <td>0.00</td>\n",
       "      <td>0</td>\n",
       "      <td>1</td>\n",
       "    </tr>\n",
       "    <tr>\n",
       "      <th>0</th>\n",
       "      <td>rating</td>\n",
       "      <td>0.01</td>\n",
       "      <td>0</td>\n",
       "      <td>-47.26</td>\n",
       "      <td>0</td>\n",
       "      <td>-44.67</td>\n",
       "      <td>0</td>\n",
       "      <td>0</td>\n",
       "    </tr>\n",
       "    <tr>\n",
       "      <th>2</th>\n",
       "      <td>nameverified</td>\n",
       "      <td>0.00</td>\n",
       "      <td>0</td>\n",
       "      <td>230.61</td>\n",
       "      <td>0</td>\n",
       "      <td>191.34</td>\n",
       "      <td>0</td>\n",
       "      <td>0</td>\n",
       "    </tr>\n",
       "    <tr>\n",
       "      <th>6</th>\n",
       "      <td>Topic3</td>\n",
       "      <td>0.08</td>\n",
       "      <td>0</td>\n",
       "      <td>-199511.51</td>\n",
       "      <td>0</td>\n",
       "      <td>-138.64</td>\n",
       "      <td>0</td>\n",
       "      <td>0</td>\n",
       "    </tr>\n",
       "    <tr>\n",
       "      <th>7</th>\n",
       "      <td>Topic4</td>\n",
       "      <td>0.07</td>\n",
       "      <td>0</td>\n",
       "      <td>-103868.77</td>\n",
       "      <td>0</td>\n",
       "      <td>112.47</td>\n",
       "      <td>0</td>\n",
       "      <td>0</td>\n",
       "    </tr>\n",
       "    <tr>\n",
       "      <th>9</th>\n",
       "      <td>Sentiment</td>\n",
       "      <td>0.07</td>\n",
       "      <td>0</td>\n",
       "      <td>63.40</td>\n",
       "      <td>0</td>\n",
       "      <td>66.01</td>\n",
       "      <td>0</td>\n",
       "      <td>0</td>\n",
       "    </tr>\n",
       "    <tr>\n",
       "      <th>11</th>\n",
       "      <td>Sentences</td>\n",
       "      <td>0.03</td>\n",
       "      <td>0</td>\n",
       "      <td>911.68</td>\n",
       "      <td>0</td>\n",
       "      <td>174.04</td>\n",
       "      <td>0</td>\n",
       "      <td>0</td>\n",
       "    </tr>\n",
       "    <tr>\n",
       "      <th>13</th>\n",
       "      <td>SummaryLength</td>\n",
       "      <td>0.05</td>\n",
       "      <td>0</td>\n",
       "      <td>-87.59</td>\n",
       "      <td>0</td>\n",
       "      <td>-0.00</td>\n",
       "      <td>0</td>\n",
       "      <td>0</td>\n",
       "    </tr>\n",
       "  </tbody>\n",
       "</table>\n",
       "</div>"
      ],
      "text/plain": [
       "            features  rfr_select  rfr_imp  linear_select  linear_imp  \\\n",
       "1           imagenum        0.00        0        1190.32           1   \n",
       "5             Topic2        0.09        1     -198110.24           0   \n",
       "10            Length        0.25        1         447.24           0   \n",
       "12       readability        0.08        1       -1094.81           0   \n",
       "14  SummarySentiment        0.05        0         491.73           1   \n",
       "3           verified        0.01        0        -239.21           1   \n",
       "4             Topic1        0.10        1     -180026.46           0   \n",
       "8             Topic5        0.10        1     -231675.28           0   \n",
       "0             rating        0.01        0         -47.26           0   \n",
       "2       nameverified        0.00        0         230.61           0   \n",
       "6             Topic3        0.08        0     -199511.51           0   \n",
       "7             Topic4        0.07        0     -103868.77           0   \n",
       "9          Sentiment        0.07        0          63.40           0   \n",
       "11         Sentences        0.03        0         911.68           0   \n",
       "13     SummaryLength        0.05        0         -87.59           0   \n",
       "\n",
       "    lasso_select  lasso_imp  imp_agg  \n",
       "1         726.48          1        2  \n",
       "5         437.40          1        2  \n",
       "10        895.60          1        2  \n",
       "12       -515.38          1        2  \n",
       "14        396.99          1        2  \n",
       "3        -235.16          0        1  \n",
       "4         -84.94          0        1  \n",
       "8           0.00          0        1  \n",
       "0         -44.67          0        0  \n",
       "2         191.34          0        0  \n",
       "6        -138.64          0        0  \n",
       "7         112.47          0        0  \n",
       "9          66.01          0        0  \n",
       "11        174.04          0        0  \n",
       "13         -0.00          0        0  "
      ]
     },
     "execution_count": 1269,
     "metadata": {},
     "output_type": "execute_result"
    }
   ],
   "source": [
    "df_negative = features_selection(df, 'neg')\n",
    "df_negative.output()"
   ]
  },
  {
   "cell_type": "markdown",
   "metadata": {},
   "source": [
    "#### Subset: Moderate Reviews"
   ]
  },
  {
   "cell_type": "code",
   "execution_count": 1270,
   "metadata": {},
   "outputs": [
    {
     "name": "stdout",
     "output_type": "stream",
     "text": [
      "Random Forest: 0.87 Linear: 0.68 Lasso: 0.72\n"
     ]
    },
    {
     "data": {
      "text/html": [
       "<div>\n",
       "<style scoped>\n",
       "    .dataframe tbody tr th:only-of-type {\n",
       "        vertical-align: middle;\n",
       "    }\n",
       "\n",
       "    .dataframe tbody tr th {\n",
       "        vertical-align: top;\n",
       "    }\n",
       "\n",
       "    .dataframe thead th {\n",
       "        text-align: right;\n",
       "    }\n",
       "</style>\n",
       "<table border=\"1\" class=\"dataframe\">\n",
       "  <thead>\n",
       "    <tr style=\"text-align: right;\">\n",
       "      <th></th>\n",
       "      <th>features</th>\n",
       "      <th>rfr_select</th>\n",
       "      <th>rfr_imp</th>\n",
       "      <th>linear_select</th>\n",
       "      <th>linear_imp</th>\n",
       "      <th>lasso_select</th>\n",
       "      <th>lasso_imp</th>\n",
       "      <th>imp_agg</th>\n",
       "    </tr>\n",
       "  </thead>\n",
       "  <tbody>\n",
       "    <tr>\n",
       "      <th>13</th>\n",
       "      <td>SummaryLength</td>\n",
       "      <td>0.09</td>\n",
       "      <td>1</td>\n",
       "      <td>-821.81</td>\n",
       "      <td>1</td>\n",
       "      <td>-265.42</td>\n",
       "      <td>1</td>\n",
       "      <td>3</td>\n",
       "    </tr>\n",
       "    <tr>\n",
       "      <th>8</th>\n",
       "      <td>Topic5</td>\n",
       "      <td>0.09</td>\n",
       "      <td>1</td>\n",
       "      <td>182434.02</td>\n",
       "      <td>0</td>\n",
       "      <td>219.48</td>\n",
       "      <td>1</td>\n",
       "      <td>2</td>\n",
       "    </tr>\n",
       "    <tr>\n",
       "      <th>9</th>\n",
       "      <td>Sentiment</td>\n",
       "      <td>0.10</td>\n",
       "      <td>1</td>\n",
       "      <td>-379.85</td>\n",
       "      <td>1</td>\n",
       "      <td>-160.33</td>\n",
       "      <td>0</td>\n",
       "      <td>2</td>\n",
       "    </tr>\n",
       "    <tr>\n",
       "      <th>10</th>\n",
       "      <td>Length</td>\n",
       "      <td>0.26</td>\n",
       "      <td>1</td>\n",
       "      <td>207.49</td>\n",
       "      <td>0</td>\n",
       "      <td>972.48</td>\n",
       "      <td>1</td>\n",
       "      <td>2</td>\n",
       "    </tr>\n",
       "    <tr>\n",
       "      <th>3</th>\n",
       "      <td>verified</td>\n",
       "      <td>0.01</td>\n",
       "      <td>0</td>\n",
       "      <td>-215.85</td>\n",
       "      <td>0</td>\n",
       "      <td>-220.54</td>\n",
       "      <td>1</td>\n",
       "      <td>1</td>\n",
       "    </tr>\n",
       "    <tr>\n",
       "      <th>7</th>\n",
       "      <td>Topic4</td>\n",
       "      <td>0.09</td>\n",
       "      <td>1</td>\n",
       "      <td>110565.69</td>\n",
       "      <td>0</td>\n",
       "      <td>-125.74</td>\n",
       "      <td>0</td>\n",
       "      <td>1</td>\n",
       "    </tr>\n",
       "    <tr>\n",
       "      <th>14</th>\n",
       "      <td>SummarySentiment</td>\n",
       "      <td>0.06</td>\n",
       "      <td>0</td>\n",
       "      <td>521.42</td>\n",
       "      <td>0</td>\n",
       "      <td>256.60</td>\n",
       "      <td>1</td>\n",
       "      <td>1</td>\n",
       "    </tr>\n",
       "    <tr>\n",
       "      <th>0</th>\n",
       "      <td>rating</td>\n",
       "      <td>0.00</td>\n",
       "      <td>0</td>\n",
       "      <td>-0.00</td>\n",
       "      <td>0</td>\n",
       "      <td>0.00</td>\n",
       "      <td>0</td>\n",
       "      <td>0</td>\n",
       "    </tr>\n",
       "    <tr>\n",
       "      <th>1</th>\n",
       "      <td>imagenum</td>\n",
       "      <td>0.00</td>\n",
       "      <td>0</td>\n",
       "      <td>-0.00</td>\n",
       "      <td>0</td>\n",
       "      <td>0.00</td>\n",
       "      <td>0</td>\n",
       "      <td>0</td>\n",
       "    </tr>\n",
       "    <tr>\n",
       "      <th>2</th>\n",
       "      <td>nameverified</td>\n",
       "      <td>0.00</td>\n",
       "      <td>0</td>\n",
       "      <td>-192.97</td>\n",
       "      <td>0</td>\n",
       "      <td>-0.00</td>\n",
       "      <td>0</td>\n",
       "      <td>0</td>\n",
       "    </tr>\n",
       "    <tr>\n",
       "      <th>4</th>\n",
       "      <td>Topic1</td>\n",
       "      <td>0.08</td>\n",
       "      <td>0</td>\n",
       "      <td>170539.93</td>\n",
       "      <td>0</td>\n",
       "      <td>-0.00</td>\n",
       "      <td>0</td>\n",
       "      <td>0</td>\n",
       "    </tr>\n",
       "    <tr>\n",
       "      <th>5</th>\n",
       "      <td>Topic2</td>\n",
       "      <td>0.07</td>\n",
       "      <td>0</td>\n",
       "      <td>131735.97</td>\n",
       "      <td>0</td>\n",
       "      <td>-0.00</td>\n",
       "      <td>0</td>\n",
       "      <td>0</td>\n",
       "    </tr>\n",
       "    <tr>\n",
       "      <th>6</th>\n",
       "      <td>Topic3</td>\n",
       "      <td>0.07</td>\n",
       "      <td>0</td>\n",
       "      <td>173587.40</td>\n",
       "      <td>0</td>\n",
       "      <td>0.00</td>\n",
       "      <td>0</td>\n",
       "      <td>0</td>\n",
       "    </tr>\n",
       "    <tr>\n",
       "      <th>11</th>\n",
       "      <td>Sentences</td>\n",
       "      <td>0.02</td>\n",
       "      <td>0</td>\n",
       "      <td>1236.01</td>\n",
       "      <td>0</td>\n",
       "      <td>0.00</td>\n",
       "      <td>0</td>\n",
       "      <td>0</td>\n",
       "    </tr>\n",
       "    <tr>\n",
       "      <th>12</th>\n",
       "      <td>readability</td>\n",
       "      <td>0.06</td>\n",
       "      <td>0</td>\n",
       "      <td>-1820.18</td>\n",
       "      <td>0</td>\n",
       "      <td>-0.00</td>\n",
       "      <td>0</td>\n",
       "      <td>0</td>\n",
       "    </tr>\n",
       "  </tbody>\n",
       "</table>\n",
       "</div>"
      ],
      "text/plain": [
       "            features  rfr_select  rfr_imp  linear_select  linear_imp  \\\n",
       "13     SummaryLength        0.09        1        -821.81           1   \n",
       "8             Topic5        0.09        1      182434.02           0   \n",
       "9          Sentiment        0.10        1        -379.85           1   \n",
       "10            Length        0.26        1         207.49           0   \n",
       "3           verified        0.01        0        -215.85           0   \n",
       "7             Topic4        0.09        1      110565.69           0   \n",
       "14  SummarySentiment        0.06        0         521.42           0   \n",
       "0             rating        0.00        0          -0.00           0   \n",
       "1           imagenum        0.00        0          -0.00           0   \n",
       "2       nameverified        0.00        0        -192.97           0   \n",
       "4             Topic1        0.08        0      170539.93           0   \n",
       "5             Topic2        0.07        0      131735.97           0   \n",
       "6             Topic3        0.07        0      173587.40           0   \n",
       "11         Sentences        0.02        0        1236.01           0   \n",
       "12       readability        0.06        0       -1820.18           0   \n",
       "\n",
       "    lasso_select  lasso_imp  imp_agg  \n",
       "13       -265.42          1        3  \n",
       "8         219.48          1        2  \n",
       "9        -160.33          0        2  \n",
       "10        972.48          1        2  \n",
       "3        -220.54          1        1  \n",
       "7        -125.74          0        1  \n",
       "14        256.60          1        1  \n",
       "0           0.00          0        0  \n",
       "1           0.00          0        0  \n",
       "2          -0.00          0        0  \n",
       "4          -0.00          0        0  \n",
       "5          -0.00          0        0  \n",
       "6           0.00          0        0  \n",
       "11          0.00          0        0  \n",
       "12         -0.00          0        0  "
      ]
     },
     "execution_count": 1270,
     "metadata": {},
     "output_type": "execute_result"
    }
   ],
   "source": [
    "df_moderate = features_selection(df, 'neu')\n",
    "df_moderate.output()"
   ]
  },
  {
   "cell_type": "code",
   "execution_count": 1255,
   "metadata": {},
   "outputs": [
    {
     "data": {
      "text/plain": [
       "160.18780899047852"
      ]
     },
     "execution_count": 1255,
     "metadata": {},
     "output_type": "execute_result"
    }
   ],
   "source": [
    "## Running time\n",
    "end = time.time()\n",
    "end - start"
   ]
  }
 ],
 "metadata": {
  "kernelspec": {
   "display_name": "Python 3",
   "language": "python",
   "name": "python3"
  },
  "language_info": {
   "codemirror_mode": {
    "name": "ipython",
    "version": 3
   },
   "file_extension": ".py",
   "mimetype": "text/x-python",
   "name": "python",
   "nbconvert_exporter": "python",
   "pygments_lexer": "ipython3",
   "version": "3.7.2"
  },
  "toc": {
   "base_numbering": 1,
   "nav_menu": {
    "height": "638px",
    "width": "534px"
   },
   "number_sections": true,
   "sideBar": true,
   "skip_h1_title": false,
   "title_cell": "Table of Contents",
   "title_sidebar": "Contents",
   "toc_cell": false,
   "toc_position": {},
   "toc_section_display": true,
   "toc_window_display": false
  }
 },
 "nbformat": 4,
 "nbformat_minor": 2
}
