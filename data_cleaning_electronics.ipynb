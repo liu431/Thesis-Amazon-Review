{
 "cells": [
  {
   "cell_type": "markdown",
   "metadata": {},
   "source": [
    "## Text Mining of the Product Reviews"
   ]
  },
  {
   "cell_type": "markdown",
   "metadata": {},
   "source": [
    "### Preparation"
   ]
  },
  {
   "cell_type": "markdown",
   "metadata": {},
   "source": [
    "#### Read in packages"
   ]
  },
  {
   "cell_type": "code",
   "execution_count": 336,
   "metadata": {},
   "outputs": [],
   "source": [
    "import numpy as np\n",
    "import pandas as pd\n",
    "import matplotlib.pyplot as plt\n",
    "import seaborn as sns\n",
    "%matplotlib inline\n",
    "from wordcloud.wordcloud import WordCloud, STOPWORDS\n",
    "from PIL import Image\n",
    "from vaderSentiment.vaderSentiment import SentimentIntensityAnalyzer\n",
    "analyser = SentimentIntensityAnalyzer()\n",
    "import gender_guesser.detector as gender\n",
    "import warnings\n",
    "warnings.filterwarnings(\"ignore\")\n",
    "from dask import compute, delayed\n",
    "import dask.multiprocessing\n",
    "import multiprocessing\n",
    "import time\n",
    "from datetime import datetime\n",
    "from sklearn.model_selection import train_test_split\n",
    "from sklearn.preprocessing import MinMaxScaler\n",
    "import six\n",
    "import statsmodels.api as sm\n",
    "from sklearn.tree import export_graphviz\n",
    "import graphviz\n",
    "from scipy.stats import randint as sp_randint\n",
    "from scipy.stats import uniform as sp_uniform\n",
    "from sklearn.model_selection import RandomizedSearchCV\n",
    "from scipy import stats\n",
    "from sklearn.tree import DecisionTreeRegressor\n",
    "from sklearn.ensemble import RandomForestRegressor, GradientBoostingRegressor, AdaBoostRegressor\n",
    "from sklearn.linear_model import LinearRegression, Ridge, Lasso, ElasticNet, BayesianRidge\n",
    "from sklearn.model_selection import train_test_split, KFold, cross_val_score, cross_val_predict\n",
    "from sklearn.metrics import mean_squared_error\n",
    "from sklearn.model_selection import RandomizedSearchCV, GridSearchCV\n",
    "from sklearn.preprocessing import StandardScaler\n",
    "import yaml\n",
    "import textstat\n",
    "\n",
    "sns.set_style(\"white\")\n",
    "plt.style.use('seaborn-deep')\n",
    "\n",
    "#pd.set_option('display.max_colwidth', 1)\n",
    "# start=time.time()"
   ]
  },
  {
   "cell_type": "markdown",
   "metadata": {},
   "source": [
    "#### Read in data"
   ]
  },
  {
   "cell_type": "code",
   "execution_count": 337,
   "metadata": {},
   "outputs": [
    {
     "data": {
      "text/html": [
       "<div>\n",
       "<style scoped>\n",
       "    .dataframe tbody tr th:only-of-type {\n",
       "        vertical-align: middle;\n",
       "    }\n",
       "\n",
       "    .dataframe tbody tr th {\n",
       "        vertical-align: top;\n",
       "    }\n",
       "\n",
       "    .dataframe thead th {\n",
       "        text-align: right;\n",
       "    }\n",
       "</style>\n",
       "<table border=\"1\" class=\"dataframe\">\n",
       "  <thead>\n",
       "    <tr style=\"text-align: right;\">\n",
       "      <th></th>\n",
       "      <th>overall</th>\n",
       "      <th>vote</th>\n",
       "      <th>verified</th>\n",
       "      <th>reviewTime</th>\n",
       "      <th>reviewerID</th>\n",
       "      <th>style</th>\n",
       "      <th>reviewerName</th>\n",
       "      <th>reviewText</th>\n",
       "      <th>summary</th>\n",
       "      <th>unixReviewTime</th>\n",
       "      <th>image</th>\n",
       "    </tr>\n",
       "  </thead>\n",
       "  <tbody>\n",
       "    <tr>\n",
       "      <th>0</th>\n",
       "      <td>5.0</td>\n",
       "      <td>1,113</td>\n",
       "      <td>True</td>\n",
       "      <td>10 18, 2005</td>\n",
       "      <td>AILCWT1IIP7ZT</td>\n",
       "      <td>{'Style:': ' Retail'}</td>\n",
       "      <td>Charles Chen</td>\n",
       "      <td>As a software developer, I am literally attach...</td>\n",
       "      <td>Best Overall Keyboard to Date</td>\n",
       "      <td>1129593600</td>\n",
       "      <td>NaN</td>\n",
       "    </tr>\n",
       "    <tr>\n",
       "      <th>1</th>\n",
       "      <td>5.0</td>\n",
       "      <td>16</td>\n",
       "      <td>True</td>\n",
       "      <td>10 12, 2005</td>\n",
       "      <td>A300T403J8526F</td>\n",
       "      <td>{'Style:': ' Retail'}</td>\n",
       "      <td>T. Becker</td>\n",
       "      <td>I've had a Natural Keyboard Pro for years, and...</td>\n",
       "      <td>Best keyboard I've used</td>\n",
       "      <td>1129075200</td>\n",
       "      <td>NaN</td>\n",
       "    </tr>\n",
       "    <tr>\n",
       "      <th>2</th>\n",
       "      <td>4.0</td>\n",
       "      <td>11</td>\n",
       "      <td>True</td>\n",
       "      <td>10 5, 2005</td>\n",
       "      <td>AFPGV3IQ9K691</td>\n",
       "      <td>{'Style:': ' Retail'}</td>\n",
       "      <td>GDC</td>\n",
       "      <td>As with most Microsoft products, great hardwar...</td>\n",
       "      <td>Great keyboard, poor software.</td>\n",
       "      <td>1128470400</td>\n",
       "      <td>NaN</td>\n",
       "    </tr>\n",
       "  </tbody>\n",
       "</table>\n",
       "</div>"
      ],
      "text/plain": [
       "   overall   vote  verified   reviewTime      reviewerID  \\\n",
       "0      5.0  1,113      True  10 18, 2005   AILCWT1IIP7ZT   \n",
       "1      5.0     16      True  10 12, 2005  A300T403J8526F   \n",
       "2      4.0     11      True   10 5, 2005   AFPGV3IQ9K691   \n",
       "\n",
       "                   style  reviewerName  \\\n",
       "0  {'Style:': ' Retail'}  Charles Chen   \n",
       "1  {'Style:': ' Retail'}     T. Becker   \n",
       "2  {'Style:': ' Retail'}           GDC   \n",
       "\n",
       "                                          reviewText  \\\n",
       "0  As a software developer, I am literally attach...   \n",
       "1  I've had a Natural Keyboard Pro for years, and...   \n",
       "2  As with most Microsoft products, great hardwar...   \n",
       "\n",
       "                          summary  unixReviewTime image  \n",
       "0   Best Overall Keyboard to Date      1129593600   NaN  \n",
       "1         Best keyboard I've used      1129075200   NaN  \n",
       "2  Great keyboard, poor software.      1128470400   NaN  "
      ]
     },
     "execution_count": 337,
     "metadata": {},
     "output_type": "execute_result"
    }
   ],
   "source": [
    "df = pd.read_csv(\"sample.csv\")\n",
    "df.drop('Unnamed: 0', axis=1, inplace=True)\n",
    "df.drop(['asin'], axis=1, inplace=True)\n",
    "df.head(3)"
   ]
  },
  {
   "cell_type": "code",
   "execution_count": 338,
   "metadata": {},
   "outputs": [
    {
     "name": "stdout",
     "output_type": "stream",
     "text": [
      "<class 'pandas.core.frame.DataFrame'>\n",
      "RangeIndex: 2567 entries, 0 to 2566\n",
      "Data columns (total 11 columns):\n",
      "overall           2567 non-null float64\n",
      "vote              174 non-null object\n",
      "verified          2567 non-null bool\n",
      "reviewTime        2567 non-null object\n",
      "reviewerID        2567 non-null object\n",
      "style             2554 non-null object\n",
      "reviewerName      2567 non-null object\n",
      "reviewText        2567 non-null object\n",
      "summary           2567 non-null object\n",
      "unixReviewTime    2567 non-null int64\n",
      "image             13 non-null object\n",
      "dtypes: bool(1), float64(1), int64(1), object(8)\n",
      "memory usage: 203.2+ KB\n"
     ]
    }
   ],
   "source": [
    "df.info()"
   ]
  },
  {
   "cell_type": "markdown",
   "metadata": {},
   "source": [
    "#### Text cleaning & pre-processing"
   ]
  },
  {
   "cell_type": "code",
   "execution_count": null,
   "metadata": {},
   "outputs": [],
   "source": []
  },
  {
   "cell_type": "markdown",
   "metadata": {},
   "source": [
    "### Text mining (New features)"
   ]
  },
  {
   "cell_type": "markdown",
   "metadata": {},
   "source": [
    "`length`, `reviewer identity`, `foreign brand`, `product type`, `extremity (low/high ratings)`,`writing style`, `timeliness`, `spelling errors`, `readability`, `subjectivity`, `rating scores`, ``"
   ]
  },
  {
   "cell_type": "markdown",
   "metadata": {},
   "source": [
    "#### Convert vote variable to float type"
   ]
  },
  {
   "cell_type": "code",
   "execution_count": 339,
   "metadata": {},
   "outputs": [],
   "source": [
    "def cleanvote(df):\n",
    "    '''The function takes in the cell of the `vote` column and outputs the votes as numerical values.'''\n",
    "    try:\n",
    "        return float(df['vote'])\n",
    "    except ValueError:\n",
    "        return float(df['vote'].replace(',', ''))\n",
    "    \n",
    "df['vote'] = df.apply(cleanvote, axis=1)"
   ]
  },
  {
   "cell_type": "markdown",
   "metadata": {},
   "source": [
    "#### Get the number of associated images"
   ]
  },
  {
   "cell_type": "code",
   "execution_count": 340,
   "metadata": {},
   "outputs": [],
   "source": [
    "def imagenum(df):\n",
    "    '''The function takes in the cell of the `image` column and outputs the number of images.'''\n",
    "    if type(df['image']) == float:\n",
    "        return 0\n",
    "    else:\n",
    "        return len(df['image'])\n",
    "\n",
    "df['imagenum'] = df.apply(imagenum, axis=1)"
   ]
  },
  {
   "cell_type": "markdown",
   "metadata": {},
   "source": [
    "#### Get the indicator of being verified or not"
   ]
  },
  {
   "cell_type": "code",
   "execution_count": 341,
   "metadata": {},
   "outputs": [],
   "source": [
    "def verified(df):\n",
    "    '''The function takes in the cell of the `verified` column and outputs the indicator (1/0).'''\n",
    "    if df['verified'] == True:\n",
    "        return 1\n",
    "    else:\n",
    "        return 0\n",
    "    \n",
    "df['verified'] = df.apply(verified, axis=1)"
   ]
  },
  {
   "cell_type": "markdown",
   "metadata": {},
   "source": [
    "#### Get the indicator of using a real name\n",
    "\n",
    "One tried approach: named entities extraction\n",
    "\n",
    "Pbm: cannot tell the real or seemingly-real names\n",
    "\n",
    "https://towardsdatascience.com/custom-named-entity-recognition-using-spacy-7140ebbb3718\n",
    "\n",
    "https://spacy.io/usage/linguistic-features#named-entities\n",
    "\n",
    "Approach: return true if the `revierName` has verfied first names by gender guesser (not unknown in the name database), (middle name), and last name \n",
    "\n",
    "https://pypi.org/project/gender-guesser/"
   ]
  },
  {
   "cell_type": "code",
   "execution_count": 342,
   "metadata": {},
   "outputs": [],
   "source": [
    "def nameverified(df):\n",
    "    '''The function takes in the cell of the `reviewerName` column and outputs the indicator (1/0).'''\n",
    "    try:\n",
    "        parts = df['reviewerName'].split(' ')\n",
    "        if len(parts) > 2:\n",
    "            if gender.Detector().get_gender(parts[0]) != 'unknown': \n",
    "                return 1\n",
    "        else:\n",
    "            return 0\n",
    "    except AttributeError:\n",
    "        return 0\n",
    "\n",
    "df['nameverified'] = df.apply(nameverified, axis=1)"
   ]
  },
  {
   "cell_type": "markdown",
   "metadata": {},
   "source": [
    "#### Sentiment"
   ]
  },
  {
   "cell_type": "code",
   "execution_count": 343,
   "metadata": {},
   "outputs": [],
   "source": [
    "def sentiment(df):\n",
    "    '''The function outputs the sentiment score for each review.'''\n",
    "    return analyser.polarity_scores(df['reviewText'])['compound']\n",
    "\n",
    "df['Sentiment'] = df.apply(sentiment, axis=1)"
   ]
  },
  {
   "cell_type": "code",
   "execution_count": 344,
   "metadata": {},
   "outputs": [
    {
     "data": {
      "text/plain": [
       "0.376"
      ]
     },
     "execution_count": 344,
     "metadata": {},
     "output_type": "execute_result"
    }
   ],
   "source": [
    "# Sentiment scores are positively correlated with the overall rating, but the correlation is not strong\n",
    "round(np.corrcoef(df['overall'],  df[\"Sentiment\"])[0,1],3)"
   ]
  },
  {
   "cell_type": "code",
   "execution_count": 345,
   "metadata": {},
   "outputs": [
    {
     "data": {
      "text/plain": [
       "0.033122594194551894"
      ]
     },
     "execution_count": 345,
     "metadata": {},
     "output_type": "execute_result"
    }
   ],
   "source": [
    "dfnotnull = df[df['vote'].isna()==0]\n",
    "np.corrcoef(dfnotnull['vote'],  dfnotnull[\"Sentiment\"])[0,1]"
   ]
  },
  {
   "cell_type": "markdown",
   "metadata": {},
   "source": [
    "#### Length\n",
    "\n",
    "https://pypi.org/project/textstat/"
   ]
  },
  {
   "cell_type": "code",
   "execution_count": 346,
   "metadata": {},
   "outputs": [],
   "source": [
    "def length(df):\n",
    "    '''The function outputs the length for each review.'''\n",
    "    return textstat.lexicon_count(df['reviewText'], removepunct=True)\n",
    "\n",
    "df['Length'] = df.apply(length, axis=1)"
   ]
  },
  {
   "cell_type": "markdown",
   "metadata": {},
   "source": [
    "#### Sentence Count"
   ]
  },
  {
   "cell_type": "code",
   "execution_count": 347,
   "metadata": {},
   "outputs": [],
   "source": [
    "def sentence_count(df):\n",
    "    '''The function outputs the number of sentences for each review.'''\n",
    "    return textstat.sentence_count(df['reviewText'])\n",
    "\n",
    "df['Sentences'] = df.apply(sentence_count, axis=1)"
   ]
  },
  {
   "cell_type": "markdown",
   "metadata": {},
   "source": [
    "#### Flesch reading ease score"
   ]
  },
  {
   "cell_type": "code",
   "execution_count": 348,
   "metadata": {},
   "outputs": [],
   "source": [
    "def flesch(df):\n",
    "    '''The function outputs the Flesch reading ease score for each review.'''\n",
    "    return textstat.flesch_reading_ease(df['reviewText'])\n",
    "\n",
    "df['Flesch'] = df.apply(flesch, axis=1)"
   ]
  },
  {
   "cell_type": "markdown",
   "metadata": {},
   "source": [
    "#### Days since the first review"
   ]
  },
  {
   "cell_type": "code",
   "execution_count": 351,
   "metadata": {},
   "outputs": [],
   "source": [
    "df['unixReviewTime'] = pd.to_datetime(df['unixReviewTime'], unit='s')\n",
    "df['Days'] = df['unixReviewTime'] - df['unixReviewTime'].min()\n",
    "df['Days'] = [i.days for i in df['Days']]"
   ]
  },
  {
   "cell_type": "markdown",
   "metadata": {},
   "source": [
    "#### Before/After verified purchase policy"
   ]
  },
  {
   "cell_type": "code",
   "execution_count": 352,
   "metadata": {},
   "outputs": [
    {
     "data": {
      "text/plain": [
       "13"
      ]
     },
     "execution_count": 352,
     "metadata": {},
     "output_type": "execute_result"
    }
   ],
   "source": [
    "def verified_option(df):\n",
    "    '''The function outputs whether the review was written before the introduction of verified purchase label policy.'''\n",
    "    if df['unixReviewTime'].date()> datetime(2016, 11, 1).date():\n",
    "        return 1\n",
    "    else:\n",
    "        return 0\n",
    "\n",
    "df['verified_option'] = df.apply(verified_option, axis=1)\n",
    "round(100*sum(df['verified_option'])/len(df))"
   ]
  },
  {
   "cell_type": "markdown",
   "metadata": {},
   "source": [
    "#### Styles (Different models)"
   ]
  },
  {
   "cell_type": "code",
   "execution_count": 353,
   "metadata": {},
   "outputs": [
    {
     "data": {
      "text/plain": [
       "{'Style:': ' Retail'}      1930\n",
       "{'Style:': ' Business'}     624\n",
       "Name: style, dtype: int64"
      ]
     },
     "execution_count": 353,
     "metadata": {},
     "output_type": "execute_result"
    }
   ],
   "source": [
    "df['style'].value_counts()"
   ]
  },
  {
   "cell_type": "code",
   "execution_count": 354,
   "metadata": {},
   "outputs": [],
   "source": [
    "def style(df):\n",
    "    '''The function outputs the style of the product.'''\n",
    "    try:\n",
    "        if 'Size:' in t:\n",
    "            return yaml.load(df['style'])['Style:']\n",
    "    except:\n",
    "        return 0\n",
    "\n",
    "df['style'] = df.apply(style, axis=1)\n",
    "df['Retail'] = np.where(df['style']==' Retail', 1, 0)"
   ]
  },
  {
   "cell_type": "markdown",
   "metadata": {},
   "source": [
    "#### topics "
   ]
  },
  {
   "cell_type": "markdown",
   "metadata": {},
   "source": [
    "### Exploratory Data Analysis "
   ]
  },
  {
   "cell_type": "code",
   "execution_count": 355,
   "metadata": {},
   "outputs": [],
   "source": [
    "df.drop(['style', 'reviewerID', 'reviewerName', \n",
    "         'image', 'reviewTime',], axis=1, inplace=True)"
   ]
  },
  {
   "cell_type": "code",
   "execution_count": 356,
   "metadata": {},
   "outputs": [
    {
     "data": {
      "text/plain": [
       "Index(['overall', 'vote', 'verified', 'reviewText', 'summary',\n",
       "       'unixReviewTime', 'imagenum', 'nameverified', 'Sentiment', 'Length',\n",
       "       'Sentences', 'Flesch', 'Days', 'verified_option', 'Retail'],\n",
       "      dtype='object')"
      ]
     },
     "execution_count": 356,
     "metadata": {},
     "output_type": "execute_result"
    }
   ],
   "source": [
    "df.columns"
   ]
  },
  {
   "cell_type": "markdown",
   "metadata": {},
   "source": [
    "#### Summary statistics"
   ]
  },
  {
   "cell_type": "code",
   "execution_count": 357,
   "metadata": {},
   "outputs": [
    {
     "data": {
      "text/html": [
       "<div>\n",
       "<style scoped>\n",
       "    .dataframe tbody tr th:only-of-type {\n",
       "        vertical-align: middle;\n",
       "    }\n",
       "\n",
       "    .dataframe tbody tr th {\n",
       "        vertical-align: top;\n",
       "    }\n",
       "\n",
       "    .dataframe thead th {\n",
       "        text-align: right;\n",
       "    }\n",
       "</style>\n",
       "<table border=\"1\" class=\"dataframe\">\n",
       "  <thead>\n",
       "    <tr style=\"text-align: right;\">\n",
       "      <th></th>\n",
       "      <th>overall</th>\n",
       "      <th>vote</th>\n",
       "      <th>verified</th>\n",
       "      <th>reviewText</th>\n",
       "      <th>summary</th>\n",
       "      <th>unixReviewTime</th>\n",
       "      <th>imagenum</th>\n",
       "      <th>nameverified</th>\n",
       "      <th>Sentiment</th>\n",
       "      <th>Length</th>\n",
       "      <th>Sentences</th>\n",
       "      <th>Flesch</th>\n",
       "      <th>Days</th>\n",
       "      <th>verified_option</th>\n",
       "      <th>Retail</th>\n",
       "    </tr>\n",
       "  </thead>\n",
       "  <tbody>\n",
       "    <tr>\n",
       "      <th>0</th>\n",
       "      <td>5.0</td>\n",
       "      <td>1113.0</td>\n",
       "      <td>1</td>\n",
       "      <td>As a software developer, I am literally attach...</td>\n",
       "      <td>Best Overall Keyboard to Date</td>\n",
       "      <td>2005-10-18</td>\n",
       "      <td>0</td>\n",
       "      <td>0.0</td>\n",
       "      <td>0.9981</td>\n",
       "      <td>780</td>\n",
       "      <td>1</td>\n",
       "      <td>-703.31</td>\n",
       "      <td>13</td>\n",
       "      <td>0</td>\n",
       "      <td>1</td>\n",
       "    </tr>\n",
       "    <tr>\n",
       "      <th>1</th>\n",
       "      <td>5.0</td>\n",
       "      <td>16.0</td>\n",
       "      <td>1</td>\n",
       "      <td>I've had a Natural Keyboard Pro for years, and...</td>\n",
       "      <td>Best keyboard I've used</td>\n",
       "      <td>2005-10-12</td>\n",
       "      <td>0</td>\n",
       "      <td>0.0</td>\n",
       "      <td>0.8232</td>\n",
       "      <td>267</td>\n",
       "      <td>1</td>\n",
       "      <td>-182.62</td>\n",
       "      <td>7</td>\n",
       "      <td>0</td>\n",
       "      <td>1</td>\n",
       "    </tr>\n",
       "    <tr>\n",
       "      <th>2</th>\n",
       "      <td>4.0</td>\n",
       "      <td>11.0</td>\n",
       "      <td>1</td>\n",
       "      <td>As with most Microsoft products, great hardwar...</td>\n",
       "      <td>Great keyboard, poor software.</td>\n",
       "      <td>2005-10-05</td>\n",
       "      <td>0</td>\n",
       "      <td>0.0</td>\n",
       "      <td>0.9947</td>\n",
       "      <td>917</td>\n",
       "      <td>15</td>\n",
       "      <td>34.84</td>\n",
       "      <td>0</td>\n",
       "      <td>0</td>\n",
       "      <td>1</td>\n",
       "    </tr>\n",
       "    <tr>\n",
       "      <th>3</th>\n",
       "      <td>5.0</td>\n",
       "      <td>NaN</td>\n",
       "      <td>1</td>\n",
       "      <td>Love it.</td>\n",
       "      <td>Five Stars</td>\n",
       "      <td>2018-05-15</td>\n",
       "      <td>0</td>\n",
       "      <td>0.0</td>\n",
       "      <td>0.6369</td>\n",
       "      <td>2</td>\n",
       "      <td>1</td>\n",
       "      <td>120.21</td>\n",
       "      <td>4605</td>\n",
       "      <td>1</td>\n",
       "      <td>0</td>\n",
       "    </tr>\n",
       "    <tr>\n",
       "      <th>4</th>\n",
       "      <td>5.0</td>\n",
       "      <td>NaN</td>\n",
       "      <td>1</td>\n",
       "      <td>I've had various versions of this keyboard for...</td>\n",
       "      <td>Five Stars</td>\n",
       "      <td>2018-05-12</td>\n",
       "      <td>0</td>\n",
       "      <td>0.0</td>\n",
       "      <td>0.4753</td>\n",
       "      <td>16</td>\n",
       "      <td>1</td>\n",
       "      <td>80.62</td>\n",
       "      <td>4602</td>\n",
       "      <td>1</td>\n",
       "      <td>0</td>\n",
       "    </tr>\n",
       "  </tbody>\n",
       "</table>\n",
       "</div>"
      ],
      "text/plain": [
       "   overall    vote  verified  \\\n",
       "0      5.0  1113.0         1   \n",
       "1      5.0    16.0         1   \n",
       "2      4.0    11.0         1   \n",
       "3      5.0     NaN         1   \n",
       "4      5.0     NaN         1   \n",
       "\n",
       "                                          reviewText  \\\n",
       "0  As a software developer, I am literally attach...   \n",
       "1  I've had a Natural Keyboard Pro for years, and...   \n",
       "2  As with most Microsoft products, great hardwar...   \n",
       "3                                           Love it.   \n",
       "4  I've had various versions of this keyboard for...   \n",
       "\n",
       "                          summary unixReviewTime  imagenum  nameverified  \\\n",
       "0   Best Overall Keyboard to Date     2005-10-18         0           0.0   \n",
       "1         Best keyboard I've used     2005-10-12         0           0.0   \n",
       "2  Great keyboard, poor software.     2005-10-05         0           0.0   \n",
       "3                      Five Stars     2018-05-15         0           0.0   \n",
       "4                      Five Stars     2018-05-12         0           0.0   \n",
       "\n",
       "   Sentiment  Length  Sentences  Flesch  Days  verified_option  Retail  \n",
       "0     0.9981     780          1 -703.31    13                0       1  \n",
       "1     0.8232     267          1 -182.62     7                0       1  \n",
       "2     0.9947     917         15   34.84     0                0       1  \n",
       "3     0.6369       2          1  120.21  4605                1       0  \n",
       "4     0.4753      16          1   80.62  4602                1       0  "
      ]
     },
     "execution_count": 357,
     "metadata": {},
     "output_type": "execute_result"
    }
   ],
   "source": [
    "df.head()"
   ]
  },
  {
   "cell_type": "code",
   "execution_count": 358,
   "metadata": {},
   "outputs": [],
   "source": [
    "df['vote_fillna'] = df['vote'] .fillna(0)"
   ]
  },
  {
   "cell_type": "code",
   "execution_count": 359,
   "metadata": {},
   "outputs": [
    {
     "data": {
      "text/html": [
       "<div>\n",
       "<style scoped>\n",
       "    .dataframe tbody tr th:only-of-type {\n",
       "        vertical-align: middle;\n",
       "    }\n",
       "\n",
       "    .dataframe tbody tr th {\n",
       "        vertical-align: top;\n",
       "    }\n",
       "\n",
       "    .dataframe thead th {\n",
       "        text-align: right;\n",
       "    }\n",
       "</style>\n",
       "<table border=\"1\" class=\"dataframe\">\n",
       "  <thead>\n",
       "    <tr style=\"text-align: right;\">\n",
       "      <th></th>\n",
       "      <th>overall</th>\n",
       "      <th>vote</th>\n",
       "      <th>verified</th>\n",
       "      <th>imagenum</th>\n",
       "      <th>nameverified</th>\n",
       "      <th>Sentiment</th>\n",
       "      <th>Length</th>\n",
       "      <th>Sentences</th>\n",
       "      <th>Flesch</th>\n",
       "      <th>Days</th>\n",
       "      <th>verified_option</th>\n",
       "      <th>Retail</th>\n",
       "      <th>vote_fillna</th>\n",
       "    </tr>\n",
       "  </thead>\n",
       "  <tbody>\n",
       "    <tr>\n",
       "      <th>count</th>\n",
       "      <td>2567.00</td>\n",
       "      <td>174.00</td>\n",
       "      <td>2567.00</td>\n",
       "      <td>2567.00</td>\n",
       "      <td>2484.00</td>\n",
       "      <td>2567.00</td>\n",
       "      <td>2567.00</td>\n",
       "      <td>2567.00</td>\n",
       "      <td>2567.00</td>\n",
       "      <td>2567.00</td>\n",
       "      <td>2567.00</td>\n",
       "      <td>2567.00</td>\n",
       "      <td>2567.00</td>\n",
       "    </tr>\n",
       "    <tr>\n",
       "      <th>mean</th>\n",
       "      <td>4.21</td>\n",
       "      <td>16.41</td>\n",
       "      <td>0.86</td>\n",
       "      <td>0.55</td>\n",
       "      <td>0.08</td>\n",
       "      <td>0.45</td>\n",
       "      <td>81.37</td>\n",
       "      <td>3.12</td>\n",
       "      <td>54.32</td>\n",
       "      <td>3131.83</td>\n",
       "      <td>0.13</td>\n",
       "      <td>0.75</td>\n",
       "      <td>1.11</td>\n",
       "    </tr>\n",
       "    <tr>\n",
       "      <th>std</th>\n",
       "      <td>1.21</td>\n",
       "      <td>90.98</td>\n",
       "      <td>0.34</td>\n",
       "      <td>9.56</td>\n",
       "      <td>0.27</td>\n",
       "      <td>0.54</td>\n",
       "      <td>103.03</td>\n",
       "      <td>3.74</td>\n",
       "      <td>65.76</td>\n",
       "      <td>965.37</td>\n",
       "      <td>0.33</td>\n",
       "      <td>0.43</td>\n",
       "      <td>23.98</td>\n",
       "    </tr>\n",
       "    <tr>\n",
       "      <th>min</th>\n",
       "      <td>1.00</td>\n",
       "      <td>2.00</td>\n",
       "      <td>0.00</td>\n",
       "      <td>0.00</td>\n",
       "      <td>0.00</td>\n",
       "      <td>-0.99</td>\n",
       "      <td>0.00</td>\n",
       "      <td>1.00</td>\n",
       "      <td>-1108.30</td>\n",
       "      <td>0.00</td>\n",
       "      <td>0.00</td>\n",
       "      <td>0.00</td>\n",
       "      <td>0.00</td>\n",
       "    </tr>\n",
       "    <tr>\n",
       "      <th>25%</th>\n",
       "      <td>4.00</td>\n",
       "      <td>2.00</td>\n",
       "      <td>1.00</td>\n",
       "      <td>0.00</td>\n",
       "      <td>0.00</td>\n",
       "      <td>0.14</td>\n",
       "      <td>20.00</td>\n",
       "      <td>1.00</td>\n",
       "      <td>46.44</td>\n",
       "      <td>2740.00</td>\n",
       "      <td>0.00</td>\n",
       "      <td>1.00</td>\n",
       "      <td>0.00</td>\n",
       "    </tr>\n",
       "    <tr>\n",
       "      <th>50%</th>\n",
       "      <td>5.00</td>\n",
       "      <td>3.00</td>\n",
       "      <td>1.00</td>\n",
       "      <td>0.00</td>\n",
       "      <td>0.00</td>\n",
       "      <td>0.64</td>\n",
       "      <td>49.00</td>\n",
       "      <td>2.00</td>\n",
       "      <td>71.48</td>\n",
       "      <td>3351.00</td>\n",
       "      <td>0.00</td>\n",
       "      <td>1.00</td>\n",
       "      <td>0.00</td>\n",
       "    </tr>\n",
       "    <tr>\n",
       "      <th>75%</th>\n",
       "      <td>5.00</td>\n",
       "      <td>5.00</td>\n",
       "      <td>1.00</td>\n",
       "      <td>0.00</td>\n",
       "      <td>0.00</td>\n",
       "      <td>0.88</td>\n",
       "      <td>102.00</td>\n",
       "      <td>4.00</td>\n",
       "      <td>83.66</td>\n",
       "      <td>3789.50</td>\n",
       "      <td>0.00</td>\n",
       "      <td>1.00</td>\n",
       "      <td>0.00</td>\n",
       "    </tr>\n",
       "    <tr>\n",
       "      <th>max</th>\n",
       "      <td>5.00</td>\n",
       "      <td>1113.00</td>\n",
       "      <td>1.00</td>\n",
       "      <td>370.00</td>\n",
       "      <td>1.00</td>\n",
       "      <td>1.00</td>\n",
       "      <td>1179.00</td>\n",
       "      <td>41.00</td>\n",
       "      <td>206.84</td>\n",
       "      <td>4609.00</td>\n",
       "      <td>1.00</td>\n",
       "      <td>1.00</td>\n",
       "      <td>1113.00</td>\n",
       "    </tr>\n",
       "  </tbody>\n",
       "</table>\n",
       "</div>"
      ],
      "text/plain": [
       "       overall     vote  verified  imagenum  nameverified  Sentiment   Length  \\\n",
       "count  2567.00   174.00   2567.00   2567.00       2484.00    2567.00  2567.00   \n",
       "mean      4.21    16.41      0.86      0.55          0.08       0.45    81.37   \n",
       "std       1.21    90.98      0.34      9.56          0.27       0.54   103.03   \n",
       "min       1.00     2.00      0.00      0.00          0.00      -0.99     0.00   \n",
       "25%       4.00     2.00      1.00      0.00          0.00       0.14    20.00   \n",
       "50%       5.00     3.00      1.00      0.00          0.00       0.64    49.00   \n",
       "75%       5.00     5.00      1.00      0.00          0.00       0.88   102.00   \n",
       "max       5.00  1113.00      1.00    370.00          1.00       1.00  1179.00   \n",
       "\n",
       "       Sentences   Flesch     Days  verified_option   Retail  vote_fillna  \n",
       "count    2567.00  2567.00  2567.00          2567.00  2567.00      2567.00  \n",
       "mean        3.12    54.32  3131.83             0.13     0.75         1.11  \n",
       "std         3.74    65.76   965.37             0.33     0.43        23.98  \n",
       "min         1.00 -1108.30     0.00             0.00     0.00         0.00  \n",
       "25%         1.00    46.44  2740.00             0.00     1.00         0.00  \n",
       "50%         2.00    71.48  3351.00             0.00     1.00         0.00  \n",
       "75%         4.00    83.66  3789.50             0.00     1.00         0.00  \n",
       "max        41.00   206.84  4609.00             1.00     1.00      1113.00  "
      ]
     },
     "execution_count": 359,
     "metadata": {},
     "output_type": "execute_result"
    }
   ],
   "source": [
    "df.describe().round(2)"
   ]
  },
  {
   "cell_type": "code",
   "execution_count": 360,
   "metadata": {},
   "outputs": [
    {
     "data": {
      "text/plain": [
       "0.9322165952473704"
      ]
     },
     "execution_count": 360,
     "metadata": {},
     "output_type": "execute_result"
    }
   ],
   "source": [
    "# % of reviews don't have any votes\n",
    "df['vote'].isna().sum()/df.shape[0]"
   ]
  },
  {
   "cell_type": "code",
   "execution_count": 362,
   "metadata": {},
   "outputs": [
    {
     "data": {
      "text/plain": [
       "0.9949357226334242"
      ]
     },
     "execution_count": 362,
     "metadata": {},
     "output_type": "execute_result"
    }
   ],
   "source": [
    "# % of reviews don't have images\n",
    "len(df[df['imagenum']==0])/df.shape[0]"
   ]
  },
  {
   "cell_type": "code",
   "execution_count": 363,
   "metadata": {},
   "outputs": [
    {
     "data": {
      "text/plain": [
       "1    2215\n",
       "0     352\n",
       "Name: verified, dtype: int64"
      ]
     },
     "execution_count": 363,
     "metadata": {},
     "output_type": "execute_result"
    }
   ],
   "source": [
    "df['verified'].value_counts()"
   ]
  },
  {
   "cell_type": "code",
   "execution_count": 364,
   "metadata": {},
   "outputs": [
    {
     "data": {
      "text/plain": [
       "verified\n",
       "0    3.593750\n",
       "1    4.303837\n",
       "Name: overall, dtype: float64"
      ]
     },
     "execution_count": 364,
     "metadata": {},
     "output_type": "execute_result"
    }
   ],
   "source": [
    "# Verified reviews have higher average scores\n",
    "df.groupby(['verified']).mean()['overall']"
   ]
  },
  {
   "cell_type": "code",
   "execution_count": 365,
   "metadata": {},
   "outputs": [
    {
     "data": {
      "text/plain": [
       "verified\n",
       "0     9.294118\n",
       "1    19.357724\n",
       "Name: vote, dtype: float64"
      ]
     },
     "execution_count": 365,
     "metadata": {},
     "output_type": "execute_result"
    }
   ],
   "source": [
    "# Verified reviews have higher votes\n",
    "df.groupby(['verified']).mean()['vote']"
   ]
  },
  {
   "cell_type": "code",
   "execution_count": null,
   "metadata": {},
   "outputs": [],
   "source": []
  },
  {
   "cell_type": "code",
   "execution_count": null,
   "metadata": {},
   "outputs": [],
   "source": []
  },
  {
   "cell_type": "code",
   "execution_count": null,
   "metadata": {},
   "outputs": [],
   "source": []
  },
  {
   "cell_type": "code",
   "execution_count": null,
   "metadata": {},
   "outputs": [],
   "source": []
  },
  {
   "cell_type": "code",
   "execution_count": 366,
   "metadata": {},
   "outputs": [],
   "source": [
    "df.to_csv('clean_data.csv')"
   ]
  }
 ],
 "metadata": {
  "kernelspec": {
   "display_name": "Python 3",
   "language": "python",
   "name": "python3"
  },
  "language_info": {
   "codemirror_mode": {
    "name": "ipython",
    "version": 3
   },
   "file_extension": ".py",
   "mimetype": "text/x-python",
   "name": "python",
   "nbconvert_exporter": "python",
   "pygments_lexer": "ipython3",
   "version": "3.7.2"
  },
  "toc": {
   "base_numbering": 1,
   "nav_menu": {
    "height": "338px",
    "width": "365px"
   },
   "number_sections": true,
   "sideBar": true,
   "skip_h1_title": false,
   "title_cell": "Table of Contents",
   "title_sidebar": "Contents",
   "toc_cell": false,
   "toc_position": {},
   "toc_section_display": true,
   "toc_window_display": false
  }
 },
 "nbformat": 4,
 "nbformat_minor": 2
}
