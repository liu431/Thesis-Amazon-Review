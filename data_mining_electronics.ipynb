{
 "cells": [
  {
   "cell_type": "markdown",
   "metadata": {},
   "source": [
    "## Text Mining of the Product Reviews"
   ]
  },
  {
   "cell_type": "markdown",
   "metadata": {},
   "source": [
    "### Preparation"
   ]
  },
  {
   "cell_type": "markdown",
   "metadata": {},
   "source": [
    "#### Read in packages"
   ]
  },
  {
   "cell_type": "code",
   "execution_count": 268,
   "metadata": {},
   "outputs": [],
   "source": [
    "import numpy as np\n",
    "import pandas as pd\n",
    "import matplotlib.pyplot as plt\n",
    "import seaborn as sns\n",
    "%matplotlib inline\n",
    "from wordcloud.wordcloud import WordCloud, STOPWORDS\n",
    "from PIL import Image\n",
    "from vaderSentiment.vaderSentiment import SentimentIntensityAnalyzer\n",
    "analyser = SentimentIntensityAnalyzer()\n",
    "import gender_guesser.detector as gender\n",
    "import warnings\n",
    "warnings.filterwarnings(\"ignore\")\n",
    "from dask import compute, delayed\n",
    "import dask.multiprocessing\n",
    "import multiprocessing\n",
    "import time\n",
    "from datetime import datetime\n",
    "from sklearn.model_selection import train_test_split\n",
    "from sklearn.preprocessing import MinMaxScaler\n",
    "import six\n",
    "import statsmodels.api as sm\n",
    "from sklearn.tree import export_graphviz\n",
    "import graphviz\n",
    "from scipy.stats import randint as sp_randint\n",
    "from scipy.stats import uniform as sp_uniform\n",
    "from sklearn.model_selection import RandomizedSearchCV\n",
    "from scipy import stats\n",
    "from sklearn.tree import DecisionTreeRegressor\n",
    "from sklearn.ensemble import RandomForestRegressor, GradientBoostingRegressor, AdaBoostRegressor\n",
    "from sklearn.linear_model import LinearRegression, Ridge, Lasso, ElasticNet, BayesianRidge\n",
    "from sklearn.model_selection import train_test_split, KFold, cross_val_score, cross_val_predict\n",
    "from sklearn.metrics import mean_squared_error\n",
    "from sklearn.model_selection import RandomizedSearchCV, GridSearchCV\n",
    "from sklearn.preprocessing import StandardScaler\n",
    "import yaml\n",
    "import textstat\n",
    "\n",
    "sns.set_style(\"white\")\n",
    "plt.style.use('seaborn-deep')\n",
    "\n",
    "#pd.set_option('display.max_colwidth', 1)\n",
    "# start=time.time()"
   ]
  },
  {
   "cell_type": "markdown",
   "metadata": {},
   "source": [
    "#### Read in data"
   ]
  },
  {
   "cell_type": "code",
   "execution_count": 199,
   "metadata": {},
   "outputs": [
    {
     "data": {
      "text/html": [
       "<div>\n",
       "<style scoped>\n",
       "    .dataframe tbody tr th:only-of-type {\n",
       "        vertical-align: middle;\n",
       "    }\n",
       "\n",
       "    .dataframe tbody tr th {\n",
       "        vertical-align: top;\n",
       "    }\n",
       "\n",
       "    .dataframe thead th {\n",
       "        text-align: right;\n",
       "    }\n",
       "</style>\n",
       "<table border=\"1\" class=\"dataframe\">\n",
       "  <thead>\n",
       "    <tr style=\"text-align: right;\">\n",
       "      <th></th>\n",
       "      <th>overall</th>\n",
       "      <th>vote</th>\n",
       "      <th>verified</th>\n",
       "      <th>reviewTime</th>\n",
       "      <th>reviewerID</th>\n",
       "      <th>style</th>\n",
       "      <th>reviewerName</th>\n",
       "      <th>reviewText</th>\n",
       "      <th>summary</th>\n",
       "      <th>unixReviewTime</th>\n",
       "      <th>image</th>\n",
       "    </tr>\n",
       "  </thead>\n",
       "  <tbody>\n",
       "    <tr>\n",
       "      <th>0</th>\n",
       "      <td>5.0</td>\n",
       "      <td>1,113</td>\n",
       "      <td>True</td>\n",
       "      <td>10 18, 2005</td>\n",
       "      <td>AILCWT1IIP7ZT</td>\n",
       "      <td>{'Style:': ' Retail'}</td>\n",
       "      <td>Charles Chen</td>\n",
       "      <td>As a software developer, I am literally attach...</td>\n",
       "      <td>Best Overall Keyboard to Date</td>\n",
       "      <td>1129593600</td>\n",
       "      <td>NaN</td>\n",
       "    </tr>\n",
       "    <tr>\n",
       "      <th>1</th>\n",
       "      <td>5.0</td>\n",
       "      <td>16</td>\n",
       "      <td>True</td>\n",
       "      <td>10 12, 2005</td>\n",
       "      <td>A300T403J8526F</td>\n",
       "      <td>{'Style:': ' Retail'}</td>\n",
       "      <td>T. Becker</td>\n",
       "      <td>I've had a Natural Keyboard Pro for years, and...</td>\n",
       "      <td>Best keyboard I've used</td>\n",
       "      <td>1129075200</td>\n",
       "      <td>NaN</td>\n",
       "    </tr>\n",
       "    <tr>\n",
       "      <th>2</th>\n",
       "      <td>4.0</td>\n",
       "      <td>11</td>\n",
       "      <td>True</td>\n",
       "      <td>10 5, 2005</td>\n",
       "      <td>AFPGV3IQ9K691</td>\n",
       "      <td>{'Style:': ' Retail'}</td>\n",
       "      <td>GDC</td>\n",
       "      <td>As with most Microsoft products, great hardwar...</td>\n",
       "      <td>Great keyboard, poor software.</td>\n",
       "      <td>1128470400</td>\n",
       "      <td>NaN</td>\n",
       "    </tr>\n",
       "  </tbody>\n",
       "</table>\n",
       "</div>"
      ],
      "text/plain": [
       "   overall   vote  verified   reviewTime      reviewerID  \\\n",
       "0      5.0  1,113      True  10 18, 2005   AILCWT1IIP7ZT   \n",
       "1      5.0     16      True  10 12, 2005  A300T403J8526F   \n",
       "2      4.0     11      True   10 5, 2005   AFPGV3IQ9K691   \n",
       "\n",
       "                   style  reviewerName  \\\n",
       "0  {'Style:': ' Retail'}  Charles Chen   \n",
       "1  {'Style:': ' Retail'}     T. Becker   \n",
       "2  {'Style:': ' Retail'}           GDC   \n",
       "\n",
       "                                          reviewText  \\\n",
       "0  As a software developer, I am literally attach...   \n",
       "1  I've had a Natural Keyboard Pro for years, and...   \n",
       "2  As with most Microsoft products, great hardwar...   \n",
       "\n",
       "                          summary  unixReviewTime image  \n",
       "0   Best Overall Keyboard to Date      1129593600   NaN  \n",
       "1         Best keyboard I've used      1129075200   NaN  \n",
       "2  Great keyboard, poor software.      1128470400   NaN  "
      ]
     },
     "execution_count": 199,
     "metadata": {},
     "output_type": "execute_result"
    }
   ],
   "source": [
    "df = pd.read_csv(\"sample.csv\")\n",
    "df.drop('Unnamed: 0', axis = 1, inplace = True)\n",
    "df.drop(['asin'], axis = 1, inplace = True)\n",
    "df.head(3)"
   ]
  },
  {
   "cell_type": "code",
   "execution_count": 200,
   "metadata": {},
   "outputs": [
    {
     "name": "stdout",
     "output_type": "stream",
     "text": [
      "<class 'pandas.core.frame.DataFrame'>\n",
      "RangeIndex: 2567 entries, 0 to 2566\n",
      "Data columns (total 11 columns):\n",
      "overall           2567 non-null float64\n",
      "vote              174 non-null object\n",
      "verified          2567 non-null bool\n",
      "reviewTime        2567 non-null object\n",
      "reviewerID        2567 non-null object\n",
      "style             2554 non-null object\n",
      "reviewerName      2567 non-null object\n",
      "reviewText        2567 non-null object\n",
      "summary           2567 non-null object\n",
      "unixReviewTime    2567 non-null int64\n",
      "image             13 non-null object\n",
      "dtypes: bool(1), float64(1), int64(1), object(8)\n",
      "memory usage: 203.2+ KB\n"
     ]
    }
   ],
   "source": [
    "df.info()"
   ]
  },
  {
   "cell_type": "markdown",
   "metadata": {},
   "source": [
    "#### Text cleaning & pre-processing"
   ]
  },
  {
   "cell_type": "markdown",
   "metadata": {},
   "source": [
    "__Tokenization__: Split the text into sentences and the sentences into words. \n",
    "\n",
    "__Lowercase__ the words and __remove punctuation__.\n",
    "\n",
    "Words that have fewer than 3 characters are removed.\n",
    "\n",
    "All __stopwords__ are removed.\n",
    "\n",
    "Words are __lemmatized__: words in third person are changed to first person and verbs in past and future tenses are changed into present.\n",
    "\n",
    "Words are __stemmed__: words are reduced to their root form.\n",
    "\n",
    "Reference: https://towardsdatascience.com/topic-modeling-and-latent-dirichlet-allocation-in-python-9bf156893c24"
   ]
  },
  {
   "cell_type": "code",
   "execution_count": 201,
   "metadata": {},
   "outputs": [
    {
     "name": "stderr",
     "output_type": "stream",
     "text": [
      "[nltk_data] Downloading package wordnet to\n",
      "[nltk_data]     C:\\Users\\lliu9\\AppData\\Roaming\\nltk_data...\n",
      "[nltk_data]   Package wordnet is already up-to-date!\n"
     ]
    }
   ],
   "source": [
    "import gensim\n",
    "from gensim.utils import simple_preprocess\n",
    "from gensim.parsing.preprocessing import STOPWORDS\n",
    "from nltk.stem import WordNetLemmatizer, SnowballStemmer\n",
    "stemmer = SnowballStemmer(\"english\")\n",
    "from nltk.stem.porter import *\n",
    "from gensim import corpora, models\n",
    "import gensim.corpora as corpora\n",
    "from gensim.utils import simple_preprocess\n",
    "from gensim.models import CoherenceModel\n",
    "from pprint import pprint\n",
    "\n",
    "import spacy\n",
    "\n",
    "import numpy as np\n",
    "np.random.seed(2018)\n",
    "import nltk\n",
    "nltk.download('wordnet')\n",
    "\n",
    "# Plotting tools\n",
    "import pyLDAvis\n",
    "import pyLDAvis.gensim  # don't skip this\n",
    "import matplotlib.pyplot as plt\n",
    "%matplotlib inline"
   ]
  },
  {
   "cell_type": "markdown",
   "metadata": {},
   "source": [
    "##### Functions to perform lemmatize and stem preprocessing steps"
   ]
  },
  {
   "cell_type": "code",
   "execution_count": 202,
   "metadata": {},
   "outputs": [],
   "source": [
    "def lemmatize_stemming(text):\n",
    "    return stemmer.stem(WordNetLemmatizer().lemmatize(text, pos='v'))\n",
    "\n",
    "def preprocess(text):\n",
    "    result = []\n",
    "    for token in gensim.utils.simple_preprocess(text):\n",
    "        if token not in gensim.parsing.preprocessing.STOPWORDS and len(token) > 3:\n",
    "            result.append(lemmatize_stemming(token))\n",
    "    return result"
   ]
  },
  {
   "cell_type": "code",
   "execution_count": 203,
   "metadata": {},
   "outputs": [
    {
     "data": {
      "text/plain": [
       "\"Absolutely love this keyboard.  I had an older one and the letters were worn off.  Didn't bother me, but my wife was very pleased when she saw that it had the letters still on the keys.  This keyboard feels great and is just designed so well.\""
      ]
     },
     "execution_count": 203,
     "metadata": {},
     "output_type": "execute_result"
    }
   ],
   "source": [
    "df.iloc[10]['reviewText']"
   ]
  },
  {
   "cell_type": "code",
   "execution_count": 204,
   "metadata": {},
   "outputs": [
    {
     "name": "stdout",
     "output_type": "stream",
     "text": [
      "original document: \n",
      "['great', 'product', 'I', 'bought', 'these', 'as', 'a', 'present', 'and', 'they', 'love', 'it..', '', 'Thank', 'you..']\n",
      "\n",
      "\n",
      " tokenized and lemmatized document: \n",
      "['great', 'product', 'buy', 'present', 'love', 'thank']\n"
     ]
    }
   ],
   "source": [
    "doc_sample = df.iloc[19]['reviewText']\n",
    "print('original document: ')\n",
    "words = []\n",
    "for word in doc_sample.split(' '):\n",
    "    words.append(word)\n",
    "    \n",
    "print(words)\n",
    "print('\\n\\n tokenized and lemmatized document: ')\n",
    "print(preprocess(doc_sample))"
   ]
  },
  {
   "cell_type": "markdown",
   "metadata": {},
   "source": [
    "##### Preprocess the data"
   ]
  },
  {
   "cell_type": "code",
   "execution_count": 205,
   "metadata": {},
   "outputs": [
    {
     "data": {
      "text/plain": [
       "0    [softwar, develop, liter, attach, keyboard, ty...\n",
       "1    [natur, keyboard, year, work, look, home, keyb...\n",
       "2    [microsoft, product, great, hardwar, poor, sof...\n",
       "3                                               [love]\n",
       "4               [version, keyboard, year, save, wrist]\n",
       "5                                             [pefect]\n",
       "6    [plug, work, like, champ, keyboard, take, get,...\n",
       "7                         [instal, year, work, expect]\n",
       "8    [like, like, split, half, board, like, challen...\n",
       "9         [type, word, minut, unit, fifth, year, love]\n",
       "Name: reviewText, dtype: object"
      ]
     },
     "execution_count": 205,
     "metadata": {},
     "output_type": "execute_result"
    }
   ],
   "source": [
    "processed_docs = df['reviewText'].map(preprocess)\n",
    "processed_docs[:10]"
   ]
  },
  {
   "cell_type": "markdown",
   "metadata": {},
   "source": [
    "##### Bag of words & Filter out infrequent tokens"
   ]
  },
  {
   "cell_type": "code",
   "execution_count": 206,
   "metadata": {},
   "outputs": [
    {
     "name": "stdout",
     "output_type": "stream",
     "text": [
      "0 abl\n",
      "1 actual\n",
      "2 addit\n",
      "3 adjust\n",
      "4 appreci\n",
      "5 attach\n",
      "6 avail\n",
      "7 base\n",
      "8 begin\n",
      "9 best\n",
      "10 better\n"
     ]
    }
   ],
   "source": [
    "dictionary = gensim.corpora.Dictionary(processed_docs)\n",
    "dictionary.filter_extremes(no_below = 20, no_above = 0.5, keep_n = 100000)\n",
    "\n",
    "count = 0\n",
    "for k, v in dictionary.iteritems():\n",
    "    print(k, v)\n",
    "    count += 1\n",
    "    if count > 10:\n",
    "        break"
   ]
  },
  {
   "cell_type": "markdown",
   "metadata": {},
   "source": [
    "##### doc2bow\n",
    "how many words and how many times those words appear in one document"
   ]
  },
  {
   "cell_type": "code",
   "execution_count": 207,
   "metadata": {},
   "outputs": [
    {
     "name": "stdout",
     "output_type": "stream",
     "text": [
      "Word 41 (\"good\") appears 1 time.\n",
      "Word 167 (\"product\") appears 1 time.\n",
      "Word 204 (\"great\") appears 1 time.\n"
     ]
    }
   ],
   "source": [
    "bow_corpus = [dictionary.doc2bow(doc) for doc in processed_docs]\n",
    "bow_corpus[100]\n",
    "\n",
    "bow_doc = bow_corpus[100]\n",
    "for i in range(len(bow_doc)):\n",
    "    print(\"Word {} (\\\"{}\\\") appears {} time.\".format(bow_doc[i][0], \n",
    "                                               dictionary[bow_doc[i][0]], \n",
    "bow_doc[i][1]))"
   ]
  },
  {
   "cell_type": "markdown",
   "metadata": {},
   "source": [
    "##### TF-IDF (frequency-inverse document frequency)\n",
    "\n",
    "how important a word is to a document in a collection or corpus"
   ]
  },
  {
   "cell_type": "code",
   "execution_count": 208,
   "metadata": {},
   "outputs": [
    {
     "name": "stdout",
     "output_type": "stream",
     "text": [
      "[(0, 0.05393611139497312),\n",
      " (1, 0.04749188386100658),\n",
      " (2, 0.1161012400496746),\n",
      " (3, 0.19760435362597248),\n",
      " (4, 0.13183336866359768),\n",
      " (5, 0.06456953191216998),\n",
      " (6, 0.06112932376946989),\n",
      " (7, 0.06456953191216998),\n",
      " (8, 0.06256213535682689),\n",
      " (9, 0.035752159660434095),\n",
      " (10, 0.035815457199263656),\n",
      " (11, 0.03413671082883778),\n",
      " (12, 0.04971758732312463),\n",
      " (13, 0.10939061359262094),\n",
      " (14, 0.09430149059889459),\n",
      " (15, 0.11146650154201666),\n",
      " (16, 0.05177074690699567),\n",
      " (17, 0.057503900019903055),\n",
      " (18, 0.06456953191216998),\n",
      " (19, 0.13377380233199793),\n",
      " (20, 0.15422545488550868),\n",
      " (21, 0.08789095625834734),\n",
      " (22, 0.13479309609830967),\n",
      " (23, 0.058331621538287554),\n",
      " (24, 0.11813275023000279),\n",
      " (25, 0.05777477479449792),\n",
      " (26, 0.06333323479975189),\n",
      " (27, 0.054149351044931085),\n",
      " (28, 0.06500530570680771),\n",
      " (29, 0.24184429621791756),\n",
      " (30, 0.06182866582907515),\n",
      " (31, 0.21099528176252355),\n",
      " (32, 0.054365658996412575),\n",
      " (33, 0.08558509394740033),\n",
      " (34, 0.05861797578217083),\n",
      " (35, 0.040899086365303906),\n",
      " (36, 0.056501507947058854),\n",
      " (37, 0.0421023798568651),\n",
      " (38, 0.05480784214662055),\n",
      " (39, 0.057503900019903055),\n",
      " (40, 0.03735010249193451),\n",
      " (41, 0.027502682071378137),\n",
      " (42, 0.026209838690225865),\n",
      " (43, 0.050371305240693255),\n",
      " (44, 0.07843530969140519),\n",
      " (45, 0.04372917017769218),\n",
      " (46, 0.09285429133207439),\n",
      " (47, 0.06147492849047376),\n",
      " (48, 0.0814444476327587),\n",
      " (49, 0.12225864753893978),\n",
      " (50, 0.0729823162240658),\n",
      " (51, 0.1417625098434366),\n",
      " (52, 0.05233105312456938),\n",
      " (53, 0.0545851248395688),\n",
      " (54, 0.11301771763429232),\n",
      " (55, 0.05088095212384912),\n",
      " (56, 0.051230575864596846),\n",
      " (57, 0.04107805447020548),\n",
      " (58, 0.034250598822486204),\n",
      " (59, 0.07024145014097094),\n",
      " (60, 0.02444291005594296),\n",
      " (61, 0.06414603508290413),\n",
      " (62, 0.07224884669631404),\n",
      " (63, 0.057503900019903055),\n",
      " (64, 0.05526342680719887),\n",
      " (65, 0.06333323479975189),\n",
      " (66, 0.05316544087088338),\n",
      " (67, 0.04863782076539275),\n",
      " (68, 0.03945819026940985),\n",
      " (69, 0.06373414237869328),\n",
      " (70, 0.03065787360296657),\n",
      " (71, 0.033416754239759774),\n",
      " (72, 0.0708812549217183),\n",
      " (73, 0.03531638586579637),\n",
      " (74, 0.11194757238943116),\n",
      " (75, 0.04749188386100658),\n",
      " (76, 0.16792135858414675),\n",
      " (77, 0.05393611139497312),\n",
      " (78, 0.04848970978150199),\n",
      " (79, 0.055033908711403075),\n",
      " (80, 0.053725854215665225),\n",
      " (81, 0.037562338627772925),\n",
      " (82, 0.1096156842932411),\n",
      " (83, 0.0908657130792881),\n",
      " (84, 0.06046107405447939),\n",
      " (85, 0.056719384116237184),\n",
      " (86, 0.05480784214662055),\n",
      " (87, 0.05526342680719887),\n",
      " (88, 0.05573325077100833),\n",
      " (89, 0.10787222278994624),\n",
      " (90, 0.15111391572207977),\n",
      " (91, 0.03309574966049531),\n",
      " (92, 0.15422545488550868),\n",
      " (93, 0.037996017064784796),\n",
      " (94, 0.04427589018262644),\n",
      " (95, 0.17853388972573847),\n",
      " (96, 0.03814340200278121),\n",
      " (97, 0.06500530570680771),\n",
      " (98, 0.0545851248395688),\n",
      " (99, 0.05646672029876007),\n",
      " (100, 0.07456003556204797),\n",
      " (101, 0.045553605327476675),\n",
      " (102, 0.03430786800893589),\n",
      " (103, 0.13183336866359768),\n",
      " (104, 0.07224884669631404),\n",
      " (105, 0.05723781974168506),\n",
      " (106, 0.09975674227329753),\n",
      " (107, 0.06739654804915483),\n",
      " (108, 0.06333323479975189),\n",
      " (109, 0.0545851248395688),\n",
      " (110, 0.132787934123909),\n",
      " (111, 0.1651017261342092),\n",
      " (112, 0.06591668433179884),\n",
      " (113, 0.04848970978150199),\n",
      " (114, 0.09038846041544907),\n",
      " (115, 0.05723781974168506),\n",
      " (116, 0.06456953191216998),\n",
      " (117, 0.05573325077100833),\n",
      " (118, 0.05574413070815185),\n",
      " (119, 0.09757481102923204),\n",
      " (120, 0.042199056352504705),\n",
      " (121, 0.051955204966770495),\n",
      " (122, 0.0729823162240658),\n",
      " (123, 0.045194230207724534),\n",
      " (124, 0.2071144699482292),\n",
      " (125, 0.03153834006155854),\n",
      " (126, 0.05861797578217083),\n",
      " (127, 0.06688690116599896),\n",
      " (128, 0.03459753291018524),\n",
      " (129, 0.0336895955449693),\n",
      " (130, 0.07248393652875545),\n",
      " (131, 0.0715495046367088),\n",
      " (132, 0.054365658996412575),\n",
      " (133, 0.058331621538287554),\n",
      " (134, 0.052913053932512985),\n",
      " (135, 0.09311237262935405),\n",
      " (136, 0.21296051046973388),\n",
      " (137, 0.031646353101894835),\n",
      " (138, 0.04493062322789699),\n",
      " (139, 0.02262272816499638),\n",
      " (140, 0.045194230207724534)]\n"
     ]
    }
   ],
   "source": [
    "tfidf = models.TfidfModel(bow_corpus)\n",
    "corpus = tfidf[bow_corpus]\n",
    "for doc in corpus:\n",
    "    pprint(doc)\n",
    "    break"
   ]
  },
  {
   "cell_type": "markdown",
   "metadata": {},
   "source": [
    "### Topic model"
   ]
  },
  {
   "cell_type": "markdown",
   "metadata": {},
   "source": [
    "##### LDA using Bag of Words"
   ]
  },
  {
   "cell_type": "code",
   "execution_count": 209,
   "metadata": {},
   "outputs": [],
   "source": [
    "lda_model = gensim.models.ldamodel.LdaModel(corpus = corpus,\n",
    "                                           id2word = dictionary,\n",
    "                                           num_topics = 10, \n",
    "                                           random_state = 100,\n",
    "                                           chunksize = 100,\n",
    "                                           passes = 10,\n",
    "                                           alpha = 'auto',       \n",
    "                                           per_word_topics = True)"
   ]
  },
  {
   "cell_type": "code",
   "execution_count": 210,
   "metadata": {},
   "outputs": [
    {
     "name": "stdout",
     "output_type": "stream",
     "text": [
      "Topic: 0 \n",
      "Word: 0.019*\"key\" + 0.016*\"type\" + 0.016*\"work\" + 0.015*\"microsoft\" + 0.014*\"space\" + 0.014*\"like\" + 0.013*\"comfort\" + 0.012*\"ergonom\" + 0.012*\"great\" + 0.012*\"natur\"\n",
      "Topic: 1 \n",
      "Word: 0.110*\"carpal\" + 0.109*\"center\" + 0.107*\"half\" + 0.098*\"unit\" + 0.098*\"word\" + 0.060*\"save\" + 0.048*\"busi\" + 0.042*\"syndrom\" + 0.027*\"arthriti\" + 0.001*\"certain\"\n",
      "Topic: 2 \n",
      "Word: 0.126*\"month\" + 0.109*\"board\" + 0.068*\"older\" + 0.042*\"regist\" + 0.041*\"hate\" + 0.040*\"hold\" + 0.039*\"realiz\" + 0.038*\"real\" + 0.037*\"begin\" + 0.037*\"harder\"\n",
      "Topic: 3 \n",
      "Word: 0.069*\"think\" + 0.040*\"excel\" + 0.039*\"posit\" + 0.039*\"price\" + 0.034*\"stick\" + 0.034*\"return\" + 0.032*\"requir\" + 0.032*\"switch\" + 0.030*\"small\" + 0.029*\"complaint\"\n",
      "Topic: 4 \n",
      "Word: 0.129*\"happen\" + 0.103*\"certain\" + 0.096*\"glad\" + 0.093*\"track\" + 0.062*\"prevent\" + 0.044*\"tend\" + 0.001*\"impress\" + 0.001*\"mistak\" + 0.001*\"rat\" + 0.001*\"half\"\n",
      "Topic: 5 \n",
      "Word: 0.067*\"wear\" + 0.054*\"thumb\" + 0.050*\"regular\" + 0.048*\"tunnel\" + 0.042*\"improv\" + 0.029*\"couldn\" + 0.027*\"noisi\" + 0.026*\"complet\" + 0.026*\"eas\" + 0.024*\"includ\"\n",
      "Topic: 6 \n",
      "Word: 0.024*\"ergo\" + 0.021*\"nice\" + 0.020*\"pain\" + 0.018*\"model\" + 0.017*\"tri\" + 0.017*\"featur\" + 0.016*\"softwar\" + 0.016*\"finger\" + 0.015*\"easi\" + 0.015*\"hour\"\n",
      "Topic: 7 \n",
      "Word: 0.101*\"origin\" + 0.084*\"push\" + 0.082*\"deal\" + 0.077*\"stand\" + 0.063*\"hope\" + 0.062*\"brand\" + 0.053*\"live\" + 0.051*\"total\" + 0.051*\"faster\" + 0.045*\"reliabl\"\n",
      "Topic: 8 \n",
      "Word: 0.127*\"mous\" + 0.073*\"volum\" + 0.053*\"money\" + 0.053*\"fact\" + 0.045*\"calcul\" + 0.040*\"send\" + 0.038*\"awesom\" + 0.037*\"provid\" + 0.033*\"receiv\" + 0.028*\"devic\"\n",
      "Topic: 9 \n",
      "Word: 0.172*\"quick\" + 0.093*\"item\" + 0.072*\"period\" + 0.064*\"market\" + 0.061*\"wouldn\" + 0.060*\"mistak\" + 0.052*\"rat\" + 0.041*\"later\" + 0.038*\"okay\" + 0.001*\"certain\"\n"
     ]
    }
   ],
   "source": [
    "for idx, topic in lda_model.print_topics(-1):\n",
    "    print('Topic: {} \\nWord: {}'.format(idx, topic))"
   ]
  },
  {
   "cell_type": "markdown",
   "metadata": {},
   "source": [
    "##### Model Perplexity and Coherence Score\n",
    "\n",
    " judge how good a given topic model is"
   ]
  },
  {
   "cell_type": "code",
   "execution_count": 211,
   "metadata": {},
   "outputs": [
    {
     "name": "stdout",
     "output_type": "stream",
     "text": [
      "\n",
      "Perplexity:  -6.4499672109203345\n",
      "\n",
      "Coherence Score:  0.3658336676823061\n"
     ]
    }
   ],
   "source": [
    "# Compute Perplexity\n",
    "print('\\nPerplexity: ', lda_model.log_perplexity(corpus))  # a measure of how good the model is. lower the better.\n",
    "\n",
    "# Compute Coherence Score\n",
    "coherence_model_lda = CoherenceModel(model = lda_model, texts = processed_docs, dictionary = dictionary, coherence='c_v')\n",
    "coherence_lda = coherence_model_lda.get_coherence()\n",
    "print('\\nCoherence Score: ', coherence_lda)"
   ]
  },
  {
   "cell_type": "markdown",
   "metadata": {},
   "source": [
    "#### Optimal number of topics for LDA "
   ]
  },
  {
   "cell_type": "code",
   "execution_count": 213,
   "metadata": {},
   "outputs": [],
   "source": [
    "def compute_coherence_values(dictionary, corpus, texts, limit, start = 2, step = 1):\n",
    "    \"\"\"\n",
    "    Compute c_v coherence for various number of topics\n",
    "\n",
    "    Parameters:\n",
    "    ----------\n",
    "    dictionary : Gensim dictionary\n",
    "    corpus : Gensim corpus\n",
    "    texts : List of input texts\n",
    "    limit : Max num of topics\n",
    "\n",
    "    Returns:\n",
    "    -------\n",
    "    model_list : List of LDA topic models\n",
    "    coherence_values : Coherence values corresponding to the LDA model with respective number of topics\n",
    "    \"\"\"\n",
    "    coherence_values = []\n",
    "    model_list = []\n",
    "    for num_topics in range(start, limit, step):\n",
    "        model = gensim.models.ldamodel.LdaModel(corpus=corpus, num_topics=num_topics, id2word=dictionary)\n",
    "        model_list.append(model)\n",
    "        coherencemodel = CoherenceModel(model=model, texts=texts, dictionary=dictionary, coherence='c_v')\n",
    "        coherence_values.append(coherencemodel.get_coherence())\n",
    "\n",
    "    return model_list, coherence_values"
   ]
  },
  {
   "cell_type": "code",
   "execution_count": 214,
   "metadata": {},
   "outputs": [],
   "source": [
    "model_list, coherence_values = compute_coherence_values(dictionary=dictionary,\n",
    "                                                        corpus=corpus, texts=processed_docs, \n",
    "                                                        start=2, limit = 30, step = 1)"
   ]
  },
  {
   "cell_type": "code",
   "execution_count": 215,
   "metadata": {},
   "outputs": [
    {
     "data": {
      "image/png": "[encoded data removed]",
      "text/plain": [
       "<Figure size 432x288 with 1 Axes>"
      ]
     },
     "metadata": {
      "needs_background": "light"
     },
     "output_type": "display_data"
    }
   ],
   "source": [
    "limit = 30; start = 2; step = 1;\n",
    "x = range(start, limit, step)\n",
    "plt.plot(x, coherence_values)\n",
    "plt.xlabel(\"Num Topics\")\n",
    "plt.ylabel(\"Coherence score\")\n",
    "plt.legend((\"coherence_values\"), loc='best')\n",
    "plt.show()"
   ]
  },
  {
   "cell_type": "markdown",
   "metadata": {},
   "source": [
    "##### Topic proportions as features"
   ]
  },
  {
   "cell_type": "code",
   "execution_count": 216,
   "metadata": {},
   "outputs": [],
   "source": [
    "lda_model_5 = gensim.models.ldamodel.LdaModel(corpus = corpus,\n",
    "                                           id2word = dictionary,\n",
    "                                           num_topics = 5, \n",
    "                                           random_state = 100,\n",
    "                                           chunksize = 100,\n",
    "                                           passes = 10,\n",
    "                                           alpha = 'auto',       \n",
    "                                           per_word_topics = True)"
   ]
  },
  {
   "cell_type": "code",
   "execution_count": 217,
   "metadata": {},
   "outputs": [],
   "source": [
    "props = []\n",
    "for ind in range(len(corpus)):\n",
    "    props.append([i[1].round(5) for i in lda_model_5.get_document_topics(corpus[ind])])"
   ]
  },
  {
   "cell_type": "code",
   "execution_count": 218,
   "metadata": {},
   "outputs": [],
   "source": [
    "df[\"Topic1\"] = [i[0] for i in props]\n",
    "df[\"Topic2\"] = [i[1] for i in props]\n",
    "df[\"Topic3\"] = [i[2] for i in props]\n",
    "df[\"Topic4\"] = [i[3] for i in props]\n",
    "df[\"Topic5\"] = [i[4] for i in props]"
   ]
  },
  {
   "cell_type": "markdown",
   "metadata": {},
   "source": [
    "#### Visualization"
   ]
  },
  {
   "cell_type": "code",
   "execution_count": 269,
   "metadata": {},
   "outputs": [
    {
     "data": {
      "text/html": [
       "\n",
       "<link rel=\"stylesheet\" type=\"text/css\" href=\"https://cdn.rawgit.com/bmabey/pyLDAvis/files/ldavis.v1.0.0.css\">\n",
       "\n",
       "\n",
       "<div id=\"ldavis_el1245222778558628567976746301\"></div>\n",
       "<script type=\"text/javascript\">\n",
       "\n",
       "var ldavis_el1245222778558628567976746301_data = {\"mdsDat\": {\"x\": [0.26426800446292886, -0.31039032181773607, 0.017881663954733926, 0.01582531749961729, 0.012415335900455958], \"y\": [-0.14839970052451365, -0.11064630170608748, 0.3013300340935348, 0.0030614756666438475, -0.045345507529577424], \"topics\": [1, 2, 3, 4, 5], \"cluster\": [1, 1, 1, 1, 1], \"Freq\": [48.47010040283203, 39.896766662597656, 4.736830711364746, 3.851158618927002, 3.0451316833496094]}, \"tinfo\": {\"Category\": [\"Default\", \"Default\", \"Default\", \"Default\", \"Default\", \"Default\", \"Default\", \"Default\", \"Default\", \"Default\", \"Default\", \"Default\", \"Default\", \"Default\", \"Default\", \"Default\", \"Default\", \"Default\", \"Default\", \"Default\", \"Default\", \"Default\", \"Default\", \"Default\", \"Default\", \"Default\", \"Default\", \"Default\", \"Default\", \"Default\", \"Topic1\", \"Topic1\", \"Topic1\", \"Topic1\", \"Topic1\", \"Topic1\", \"Topic1\", \"Topic1\", \"Topic1\", \"Topic1\", \"Topic1\", \"Topic1\", \"Topic1\", \"Topic1\", \"Topic1\", \"Topic1\", \"Topic1\", \"Topic1\", \"Topic1\", \"Topic1\", \"Topic1\", \"Topic1\", \"Topic1\", \"Topic1\", \"Topic1\", \"Topic1\", \"Topic1\", \"Topic1\", \"Topic1\", \"Topic1\", \"Topic1\", \"Topic1\", \"Topic1\", \"Topic1\", \"Topic1\", \"Topic1\", \"Topic1\", \"Topic1\", \"Topic2\", \"Topic2\", \"Topic2\", \"Topic2\", \"Topic2\", \"Topic2\", \"Topic2\", \"Topic2\", \"Topic2\", \"Topic2\", \"Topic2\", \"Topic2\", \"Topic2\", \"Topic2\", \"Topic2\", \"Topic2\", \"Topic2\", \"Topic2\", \"Topic2\", \"Topic2\", \"Topic2\", \"Topic2\", \"Topic2\", \"Topic2\", \"Topic2\", \"Topic2\", \"Topic2\", \"Topic2\", \"Topic2\", \"Topic2\", \"Topic2\", \"Topic2\", \"Topic2\", \"Topic2\", \"Topic2\", \"Topic2\", \"Topic2\", \"Topic2\", \"Topic3\", \"Topic3\", \"Topic3\", \"Topic3\", \"Topic3\", \"Topic3\", \"Topic3\", \"Topic3\", \"Topic3\", \"Topic3\", \"Topic3\", \"Topic3\", \"Topic3\", \"Topic3\", \"Topic3\", \"Topic3\", \"Topic3\", \"Topic3\", \"Topic3\", \"Topic3\", \"Topic3\", \"Topic3\", \"Topic3\", \"Topic3\", \"Topic3\", \"Topic3\", \"Topic3\", \"Topic3\", \"Topic3\", \"Topic3\", \"Topic3\", \"Topic4\", \"Topic4\", \"Topic4\", \"Topic4\", \"Topic4\", \"Topic4\", \"Topic4\", \"Topic4\", \"Topic4\", \"Topic4\", \"Topic4\", \"Topic4\", \"Topic4\", \"Topic4\", \"Topic4\", \"Topic4\", \"Topic4\", \"Topic4\", \"Topic4\", \"Topic4\", \"Topic4\", \"Topic4\", \"Topic4\", \"Topic4\", \"Topic4\", \"Topic4\", \"Topic4\", \"Topic4\", \"Topic4\", \"Topic4\", \"Topic5\", \"Topic5\", \"Topic5\", \"Topic5\", \"Topic5\", \"Topic5\", \"Topic5\", \"Topic5\", \"Topic5\", \"Topic5\", \"Topic5\", \"Topic5\", \"Topic5\", \"Topic5\", \"Topic5\", \"Topic5\", \"Topic5\", \"Topic5\", \"Topic5\", \"Topic5\", \"Topic5\", \"Topic5\", \"Topic5\", \"Topic5\", \"Topic5\", \"Topic5\", \"Topic5\", \"Topic5\", \"Topic5\", \"Topic5\", \"Topic5\", \"Topic5\", \"Topic5\", \"Topic5\", \"Topic5\", \"Topic5\", \"Topic5\", \"Topic5\", \"Topic5\", \"Topic5\"], \"Freq\": [28.0, 24.0, 18.0, 16.0, 17.0, 18.0, 14.0, 15.0, 16.0, 15.0, 15.0, 59.0, 14.0, 14.0, 75.0, 72.0, 11.0, 13.0, 12.0, 13.0, 12.0, 11.0, 12.0, 66.0, 11.0, 49.0, 10.0, 11.0, 11.0, 11.0, 75.41157531738281, 72.17083740234375, 65.62542724609375, 60.412052154541016, 60.75050735473633, 57.04608917236328, 51.76055908203125, 47.609336853027344, 45.75196075439453, 43.27603530883789, 41.82375717163086, 40.07880401611328, 39.10087966918945, 38.6798210144043, 38.309226989746094, 38.04838943481445, 37.475807189941406, 36.58412551879883, 34.351898193359375, 33.338134765625, 32.940467834472656, 31.86628532409668, 31.75896453857422, 31.619142532348633, 31.48938751220703, 30.60834312438965, 30.318838119506836, 30.382028579711914, 28.69288444519043, 27.47922706604004, 27.5202579498291, 54.67087173461914, 44.316287994384766, 38.940467834472656, 51.77912902832031, 38.70256042480469, 44.2481689453125, 32.40189743041992, 59.368804931640625, 48.861907958984375, 45.6416015625, 44.81906509399414, 43.368106842041016, 43.07361602783203, 41.341121673583984, 40.37843322753906, 40.23930358886719, 39.789337158203125, 35.46906280517578, 34.80530548095703, 33.891197204589844, 33.65945053100586, 33.212135314941406, 33.11183547973633, 31.271196365356445, 30.615198135375977, 30.4748592376709, 29.416378021240234, 29.597951889038086, 29.158065795898438, 28.662046432495117, 28.53606414794922, 27.29287338256836, 27.16135025024414, 26.690393447875977, 24.640058517456055, 24.0314998626709, 23.95330238342285, 40.713294982910156, 47.67939758300781, 51.99854278564453, 48.75806427001953, 50.87934875488281, 54.36494064331055, 38.74581527709961, 31.289724349975586, 24.071414947509766, 17.473474502563477, 15.472371101379395, 14.903477668762207, 14.863862037658691, 13.295660972595215, 13.04751205444336, 12.374770164489746, 11.324027061462402, 11.18032169342041, 11.040474891662598, 10.239954948425293, 9.335379600524902, 9.039647102355957, 8.841623306274414, 8.797587394714355, 8.487316131591797, 8.240809440612793, 8.253479957580566, 8.31497573852539, 7.793071269989014, 7.394834995269775, 7.372061729431152, 6.462110996246338, 6.33571195602417, 6.352426052093506, 6.113633155822754, 5.522956371307373, 5.568960666656494, 5.341724872589111, 5.357134819030762, 28.013166427612305, 17.002058029174805, 14.435576438903809, 13.55374526977539, 13.461116790771484, 12.121095657348633, 12.056266784667969, 10.995131492614746, 10.444679260253906, 10.225709915161133, 8.898597717285156, 8.989622116088867, 8.839508056640625, 8.204598426818848, 7.278291702270508, 6.922182083129883, 6.330932140350342, 6.282033920288086, 6.113269805908203, 6.143136501312256, 6.122810363769531, 5.748499393463135, 5.823455810546875, 5.150533676147461, 4.446427345275879, 4.361901760101318, 4.330634593963623, 4.0482072830200195, 3.891057252883911, 3.7889978885650635, 17.866544723510742, 15.875171661376953, 14.368486404418945, 11.333093643188477, 10.855095863342285, 9.719675064086914, 9.385503768920898, 9.013874053955078, 8.428071975708008, 8.606328964233398, 7.871514797210693, 7.732615947723389, 6.945985794067383, 6.935325622558594, 6.940728664398193, 6.269616603851318, 5.928092002868652, 5.123970985412598, 5.072547435760498, 5.113935470581055, 4.833704471588135, 4.643004894256592, 3.828094959259033, 3.310842990875244, 3.239893913269043, 3.0676097869873047, 0.12331827729940414, 0.12396147102117538, 0.12276343256235123, 0.12267594039440155, 0.12410034239292145, 0.12451658397912979, 0.1299554705619812, 0.12785427272319794, 0.1267983764410019, 0.12473524361848831, 0.12566277384757996, 0.1265581101179123, 0.12769652903079987, 0.12716203927993774], \"Term\": [\"mous\", \"excel\", \"instal\", \"switch\", \"tunnel\", \"fine\", \"driver\", \"origin\", \"typist\", \"fast\", \"half\", \"good\", \"carpal\", \"center\", \"microsoft\", \"space\", \"push\", \"money\", \"unit\", \"caus\", \"word\", \"disappoint\", \"haven\", \"comfort\", \"custom\", \"buy\", \"expect\", \"item\", \"wire\", \"definit\", \"microsoft\", \"space\", \"comfort\", \"wrist\", \"natur\", \"feel\", \"love\", \"hand\", \"ergo\", \"right\", \"go\", \"nice\", \"get\", \"littl\", \"product\", \"pain\", \"take\", \"thing\", \"recommend\", \"differ\", \"featur\", \"rest\", \"come\", \"want\", \"review\", \"purchas\", \"softwar\", \"make\", \"quiet\", \"hour\", \"window\", \"great\", \"press\", \"think\", \"type\", \"time\", \"key\", \"like\", \"good\", \"buy\", \"problem\", \"best\", \"spacebar\", \"function\", \"look\", \"better\", \"replac\", \"need\", \"hard\", \"split\", \"model\", \"zoom\", \"tri\", \"month\", \"wireless\", \"issu\", \"standard\", \"letter\", \"finger\", \"easi\", \"wear\", \"board\", \"touch\", \"know\", \"long\", \"week\", \"lock\", \"control\", \"design\", \"year\", \"ergonom\", \"button\", \"work\", \"key\", \"like\", \"type\", \"excel\", \"fine\", \"typist\", \"fast\", \"half\", \"money\", \"caus\", \"haven\", \"item\", \"definit\", \"ship\", \"hope\", \"provid\", \"friend\", \"thank\", \"surpris\", \"heavi\", \"arm\", \"faster\", \"rememb\", \"reduc\", \"reliabl\", \"general\", \"travel\", \"depend\", \"wast\", \"condit\", \"aren\", \"accustom\", \"fatigu\", \"terribl\", \"mous\", \"tunnel\", \"origin\", \"carpal\", \"center\", \"unit\", \"word\", \"custom\", \"wire\", \"link\", \"brand\", \"regist\", \"near\", \"real\", \"line\", \"consid\", \"huge\", \"devic\", \"shoulder\", \"trackbal\", \"pay\", \"drop\", \"today\", \"syndrom\", \"later\", \"error\", \"print\", \"combin\", \"cheaper\", \"decent\", \"instal\", \"switch\", \"driver\", \"push\", \"disappoint\", \"expect\", \"calcul\", \"simpli\", \"send\", \"eas\", \"awesom\", \"certain\", \"save\", \"receiv\", \"total\", \"handi\", \"turn\", \"fantast\", \"conveni\", \"command\", \"twice\", \"data\", \"idea\", \"tend\", \"cours\", \"warranti\", \"arthriti\", \"stuff\", \"bring\", \"beat\", \"satisfi\", \"cheaper\", \"impress\", \"today\", \"accustom\", \"combin\", \"hunt\", \"wast\", \"browser\", \"mice\"], \"Total\": [28.0, 24.0, 18.0, 16.0, 17.0, 18.0, 14.0, 15.0, 16.0, 15.0, 15.0, 59.0, 14.0, 14.0, 75.0, 72.0, 11.0, 13.0, 12.0, 13.0, 12.0, 11.0, 12.0, 66.0, 11.0, 49.0, 10.0, 11.0, 11.0, 11.0, 75.98064422607422, 72.73530578613281, 66.18798065185547, 60.973060607910156, 61.31674575805664, 57.60967254638672, 52.32416534423828, 48.17143630981445, 46.323455810546875, 43.841670989990234, 42.38901138305664, 40.64162826538086, 39.662723541259766, 39.24312210083008, 38.87147903442383, 38.610111236572266, 38.036617279052734, 37.148468017578125, 34.914981842041016, 33.9040641784668, 33.5062370300293, 32.430381774902344, 32.32331085205078, 32.182926177978516, 32.055152893066406, 31.17072105407715, 30.888097763061523, 30.953039169311523, 29.26008415222168, 28.041414260864258, 28.087993621826172, 61.45279312133789, 49.908912658691406, 44.56366729736328, 83.47110748291016, 56.594146728515625, 99.01659393310547, 71.54936981201172, 59.92997741699219, 49.42280960083008, 46.204978942871094, 45.38068771362305, 43.9361457824707, 43.637939453125, 41.90542221069336, 40.941162109375, 40.800506591796875, 40.35197067260742, 36.03131866455078, 35.36820983886719, 34.455047607421875, 34.23020935058594, 33.77693176269531, 33.67571258544922, 31.832582473754883, 31.17710304260254, 31.03822898864746, 29.975820541381836, 30.16092300415039, 29.71865463256836, 29.22150421142578, 29.097848892211914, 27.85782241821289, 27.724960327148438, 27.250829696655273, 25.203001022338867, 24.60140037536621, 24.522621154785156, 42.23683547973633, 57.160762786865234, 64.31184387207031, 59.453086853027344, 80.2891616821289, 99.01659393310547, 71.54936981201172, 83.47110748291016, 24.6473331451416, 18.05091094970703, 16.055747985839844, 15.481090545654297, 15.453666687011719, 13.87951946258545, 13.630950927734375, 12.954965591430664, 11.899063110351562, 11.757756233215332, 11.624859809875488, 10.818621635437012, 9.919463157653809, 9.621588706970215, 9.412117958068848, 9.389363288879395, 9.064759254455566, 8.815398216247559, 8.831482887268066, 8.907726287841797, 8.373583793640137, 7.976426601409912, 7.959361553192139, 7.054262638092041, 6.91975212097168, 6.949538707733154, 6.697817325592041, 6.101274013519287, 6.16748571395874, 5.9188103675842285, 5.941778659820557, 28.620525360107422, 17.59517478942871, 15.042719841003418, 14.1443452835083, 14.066744804382324, 12.723945617675781, 12.664947509765625, 11.60496997833252, 11.03931999206543, 10.838896751403809, 9.50140380859375, 9.600976943969727, 9.45398235321045, 8.815491676330566, 7.887717247009277, 7.532174110412598, 6.928697109222412, 6.888319492340088, 6.7144975662231445, 6.750975131988525, 6.730182647705078, 6.3475422859191895, 6.445812225341797, 5.743755340576172, 5.043249607086182, 4.962820053100586, 4.9299211502075195, 4.652710914611816, 4.493892669677734, 4.381202220916748, 18.4925594329834, 16.4857177734375, 14.994280815124512, 11.944360733032227, 11.476250648498535, 10.317463874816895, 9.999944686889648, 9.633735656738281, 9.037961959838867, 9.240422248840332, 8.471719741821289, 8.360993385314941, 7.5514936447143555, 7.5412774085998535, 7.561176776885986, 6.883991241455078, 6.540816307067871, 5.743876934051514, 5.6981916427612305, 5.745162010192871, 5.461978912353516, 5.262462615966797, 4.4326958656311035, 3.9233083724975586, 3.8482463359832764, 3.670711040496826, 3.91957950592041, 4.125455379486084, 4.193542957305908, 4.2932515144348145, 4.369459629058838, 4.493892669677734, 7.395468711853027, 6.445812225341797, 6.16748571395874, 4.652710914611816, 5.4334025382995605, 6.949538707733154, 11.264904022216797, 10.74853515625], \"loglift\": [30.0, 29.0, 28.0, 27.0, 26.0, 25.0, 24.0, 23.0, 22.0, 21.0, 20.0, 19.0, 18.0, 17.0, 16.0, 15.0, 14.0, 13.0, 12.0, 11.0, 10.0, 9.0, 8.0, 7.0, 6.0, 5.0, 4.0, 3.0, 2.0, 1.0, 0.71670001745224, 0.7164000272750854, 0.7156999707221985, 0.7149999737739563, 0.714900016784668, 0.7143999934196472, 0.7134000062942505, 0.7124999761581421, 0.7117999792098999, 0.7111999988555908, 0.7107999920845032, 0.7103000283241272, 0.7099999785423279, 0.7098000049591064, 0.7096999883651733, 0.7095999717712402, 0.7093999981880188, 0.708899974822998, 0.7080000042915344, 0.7074000239372253, 0.7071999907493591, 0.7067000269889832, 0.70660001039505, 0.7064999938011169, 0.7063999772071838, 0.7059999704360962, 0.7056000232696533, 0.7056000232696533, 0.7045999765396118, 0.7039999961853027, 0.7038000226020813, 0.6072999835014343, 0.605400025844574, 0.5892999768257141, 0.2467000037431717, 0.3441999852657318, -0.08129999786615372, -0.06790000200271606, 0.909500002861023, 0.9075000286102295, 0.9065999984741211, 0.9064000248908997, 0.9059000015258789, 0.9059000015258789, 0.9053000211715698, 0.9049999713897705, 0.9049999713897705, 0.9047999978065491, 0.9031000137329102, 0.9028000235557556, 0.902400016784668, 0.9021000266075134, 0.9020000100135803, 0.9020000100135803, 0.9010999798774719, 0.9006999731063843, 0.900600016117096, 0.8999999761581421, 0.8999999761581421, 0.8998000025749207, 0.8995000123977661, 0.899399995803833, 0.8984000086784363, 0.8982999920845032, 0.8981000185012817, 0.8963000178337097, 0.8953999876976013, 0.8953999876976013, 0.882099986076355, 0.737500011920929, 0.7063000202178955, 0.7206000089645386, 0.4627000093460083, 0.31929999589920044, 0.30550000071525574, -0.062300000339746475, 3.02620005607605, 3.0172998905181885, 3.0127999782562256, 3.0118000507354736, 3.0109000205993652, 3.0067999362945557, 3.0060999393463135, 3.003999948501587, 3.0002999305725098, 2.9993999004364014, 2.998199939727783, 2.994800090789795, 2.9890999794006348, 2.9874000549316406, 2.987299919128418, 2.9846999645233154, 2.9839999675750732, 2.9823999404907227, 2.982100009918213, 2.9809000492095947, 2.9779999256134033, 2.974100112915039, 2.9732000827789307, 2.962100028991699, 2.9616000652313232, 2.9600000381469727, 2.9584999084472656, 2.950200080871582, 2.947700023651123, 2.947200059890747, 2.946199893951416, 3.235300064086914, 3.2225000858306885, 3.21560001373291, 3.214099884033203, 3.2128000259399414, 3.2083001136779785, 3.2074999809265137, 3.2028000354766846, 3.2014000415802, 3.1986000537872314, 3.191200017929077, 3.190999984741211, 3.1895999908447266, 3.184999942779541, 3.1763999462127686, 3.172300100326538, 3.166599988937378, 3.1647000312805176, 3.1630001068115234, 3.162400007247925, 3.1621999740600586, 3.1577000617980957, 3.1552999019622803, 3.1477999687194824, 3.1308000087738037, 3.127700090408325, 3.12719988822937, 3.1175999641418457, 3.112799882888794, 3.111599922180176, 3.457200050354004, 3.453900098800659, 3.4489998817443848, 3.4391000270843506, 3.436000108718872, 3.4319000244140625, 3.4282000064849854, 3.425100088119507, 3.421799898147583, 3.4205000400543213, 3.418100118637085, 3.4135000705718994, 3.4079999923706055, 3.407900094985962, 3.4059998989105225, 3.398099899291992, 3.3933000564575195, 3.3773999214172363, 3.3752999305725098, 3.375200033187866, 3.3694000244140625, 3.3664000034332275, 3.3450000286102295, 3.321899890899658, 3.319499969482422, 3.3120999336242676, 0.03269999846816063, -0.013299999758601189, -0.039400000125169754, -0.06360000371932983, -0.06970000267028809, -0.09440000355243683, -0.5497999787330627, -0.4287000000476837, -0.3928000032901764, -0.1273999959230423, -0.2750999927520752, -0.5141000151634216, -0.9882000088691711, -0.9453999996185303], \"logprob\": [30.0, 29.0, 28.0, 27.0, 26.0, 25.0, 24.0, 23.0, 22.0, 21.0, 20.0, 19.0, 18.0, 17.0, 16.0, 15.0, 14.0, 13.0, 12.0, 11.0, 10.0, 9.0, 8.0, 7.0, 6.0, 5.0, 4.0, 3.0, 2.0, 1.0, -4.0507001876831055, -4.094600200653076, -4.189700126647949, -4.272500038146973, -4.266900062561035, -4.329800128936768, -4.427000045776367, -4.5106000900268555, -4.5503997802734375, -4.606100082397461, -4.640200138092041, -4.682799816131592, -4.707499980926514, -4.718299865722656, -4.728000164031982, -4.734799861907959, -4.75, -4.77400016784668, -4.836999893188477, -4.867000102996826, -4.879000186920166, -4.912099838256836, -4.915500164031982, -4.919899940490723, -4.923999786376953, -4.952400207519531, -4.961900234222412, -4.959799766540527, -5.017000198364258, -5.060200214385986, -5.058700084686279, -4.372300148010254, -4.582300186157227, -4.711599826812744, -4.426700115203857, -4.717800140380859, -4.583799839019775, -4.895400047302246, -4.095200061798096, -4.289999961853027, -4.3582000732421875, -4.376399993896484, -4.409299850463867, -4.416100025177002, -4.457200050354004, -4.4807000160217285, -4.4842000007629395, -4.4953999519348145, -4.610300064086914, -4.629199981689453, -4.655900001525879, -4.662700176239014, -4.67609977722168, -4.679100036621094, -4.736299991607666, -4.757500171661377, -4.7621002197265625, -4.797500133514404, -4.791299819946289, -4.806300163269043, -4.823400020599365, -4.8277997970581055, -4.872399806976318, -4.877200126647949, -4.894700050354004, -4.974599838256836, -4.999599933624268, -5.002900123596191, -4.472499847412109, -4.314499855041504, -4.227799892425537, -4.292099952697754, -4.249599933624268, -4.183300018310547, -4.521999835968018, -4.7357001304626465, -2.8671000003814697, -3.1874001026153564, -3.309000015258789, -3.3464999198913574, -3.349100112915039, -3.460599899291992, -3.4795000553131104, -3.532399892807007, -3.6212000846862793, -3.6338999271392822, -3.6465001106262207, -3.7218000888824463, -3.814300060272217, -3.8464999198913574, -3.8685998916625977, -3.8736000061035156, -3.9094998836517334, -3.938999891281128, -3.9374001026153564, -3.930000066757202, -3.994800090789795, -4.047299861907959, -4.0503997802734375, -4.18209981918335, -4.201900005340576, -4.19920015335083, -4.237599849700928, -4.339200019836426, -4.330900192260742, -4.372499942779541, -4.369699954986572, -2.5083999633789062, -3.0078001022338867, -3.1714000701904297, -3.2344000339508057, -3.241300106048584, -3.346100091934204, -3.3515000343322754, -3.4435999393463135, -3.494999885559082, -3.516200065612793, -3.6552000045776367, -3.6449999809265137, -3.661900043487549, -3.7363998889923096, -3.8561999797821045, -3.906399965286255, -3.9955999851226807, -4.003399848937988, -4.030600070953369, -4.0258002281188965, -4.029099941253662, -4.092100143432617, -4.07919979095459, -4.202000141143799, -4.348999977111816, -4.368199825286865, -4.375400066375732, -4.442800045013428, -4.482399940490723, -4.508999824523926, -2.723299980163574, -2.8415000438690186, -2.941200017929077, -3.178499937057495, -3.22160005569458, -3.3320999145507812, -3.3671000003814697, -3.4075000286102295, -3.4746999740600586, -3.4537999629974365, -3.5429999828338623, -3.560800075531006, -3.668100118637085, -3.669600009918213, -3.6689000129699707, -3.7704999446868896, -3.8266000747680664, -3.9723000526428223, -3.9823999404907227, -3.974299907684326, -4.030600070953369, -4.070899963378906, -4.263899803161621, -4.40910005569458, -4.430699825286865, -4.485400199890137, -7.69920015335083, -7.693999767303467, -7.703800201416016, -7.704500198364258, -7.69290018081665, -7.689599990844727, -7.6468000411987305, -7.663099765777588, -7.67140007019043, -7.68779993057251, -7.6803998947143555, -7.673299789428711, -7.664400100708008, -7.668600082397461]}, \"token.table\": {\"Topic\": [3, 3, 3, 4, 5, 1, 2, 2, 2, 4, 1, 2, 1, 2, 2, 5, 4, 3, 4, 5, 4, 4, 1, 1, 5, 3, 4, 2, 5, 5, 4, 5, 4, 3, 3, 1, 2, 4, 1, 5, 5, 4, 5, 2, 1, 1, 2, 4, 3, 5, 5, 3, 3, 3, 1, 1, 3, 2, 3, 2, 3, 1, 1, 2, 1, 2, 3, 1, 5, 2, 3, 3, 3, 1, 4, 3, 5, 1, 5, 2, 3, 1, 2, 2, 4, 2, 1, 2, 4, 4, 1, 2, 2, 2, 1, 1, 2, 1, 2, 3, 2, 4, 1, 4, 2, 1, 4, 1, 4, 1, 2, 4, 2, 1, 3, 1, 5, 1, 4, 5, 1, 3, 4, 3, 3, 2, 1, 1, 1, 3, 5, 5, 3, 4, 5, 1, 1, 2, 2, 2, 4, 3, 5, 4, 1, 5, 3, 3, 1, 1, 2, 1, 2, 4, 5, 2, 4, 3, 2, 4, 5, 5, 1, 2, 3, 4, 1, 5, 3, 2, 2, 1, 4, 2, 4, 1, 2, 1, 1, 2, 2], \"Freq\": [0.9728437662124634, 0.9834011793136597, 0.9075029492378235, 0.7653882503509521, 0.9443182945251465, 0.931694746017456, 0.9916112422943115, 0.9770118594169617, 0.996637225151062, 0.9472284317016602, 0.9538474082946777, 0.9764841198921204, 0.16819985210895538, 0.8241792321205139, 0.9914450645446777, 0.9000049829483032, 0.9897948503494263, 0.9537118673324585, 0.9241654872894287, 0.9568241238594055, 0.89009690284729, 0.8597138524055481, 0.9899975657463074, 0.9971598982810974, 0.8702974915504456, 0.8958142399787903, 0.9293465614318848, 0.9786881804466248, 0.877471387386322, 0.7795758843421936, 0.9478697776794434, 0.950125515460968, 0.9129914045333862, 0.9355526566505432, 0.8670830726623535, 0.023676015436649323, 0.970716655254364, 0.8710397481918335, 0.9733346104621887, 0.9585012197494507, 0.9336893558502197, 0.9452477693557739, 0.9739814400672913, 0.9758180379867554, 0.9930174350738525, 0.18659082055091858, 0.8085602521896362, 0.805993378162384, 0.9737361669540405, 0.9692304134368896, 0.870492160320282, 0.9689239859580994, 0.9058501124382019, 0.8447643518447876, 0.9848912358283997, 0.9894171953201294, 0.9417807459831238, 0.9946644902229309, 0.9353964328765869, 0.9853810667991638, 0.8794675469398499, 0.9832910299301147, 0.9908228516578674, 0.9844822883605957, 0.894995927810669, 0.097635917365551, 0.9706434011459351, 0.996441125869751, 0.8715873956680298, 0.9713771343231201, 0.9262857437133789, 0.8825386166572571, 0.9243321418762207, 0.9628615379333496, 0.8659636974334717, 0.9202336668968201, 0.902385413646698, 0.946525514125824, 0.9733644723892212, 0.9943194389343262, 0.9244425296783447, 0.44436997175216675, 0.5453631281852722, 0.9738516807556152, 0.7931393980979919, 0.9674463868141174, 0.4472436308860779, 0.5450781583786011, 0.8874557614326477, 0.9226031303405762, 0.9938046932220459, 0.9755542278289795, 0.9907954931259155, 0.9783936738967896, 0.9938046932220459, 0.969210147857666, 0.9303593039512634, 0.9870935082435608, 0.9867929816246033, 0.9366318583488464, 0.9799346923828125, 0.9783188700675964, 0.9948342442512512, 0.9519797563552856, 0.9912774562835693, 0.9842125177383423, 0.9306827783584595, 0.9841981530189514, 0.8915062546730042, 0.8816060423851013, 0.10018250346183777, 0.8113719820976257, 0.9955636858940125, 0.9775804877281189, 0.9073071479797363, 0.9945230484008789, 0.9209367036819458, 0.9911112785339355, 0.9074933528900146, 0.9282246828079224, 0.9737939834594727, 0.9553854465484619, 0.9374046325683594, 0.8775859475135803, 0.8980967402458191, 0.9803799986839294, 0.986729085445404, 0.967083215713501, 0.980802059173584, 0.9154450297355652, 0.9269689321517944, 0.8851553201675415, 0.9462479948997498, 0.8935888409614563, 0.9342170357704163, 0.9712479114532471, 0.9898906350135803, 0.9786930084228516, 0.9895892143249512, 0.9665499925613403, 0.9695899486541748, 0.9585314393043518, 0.9705370664596558, 0.8705106377601624, 0.9727468490600586, 0.7646607756614685, 0.841498851776123, 0.9562141299247742, 0.9960033893585205, 0.8751524090766907, 0.11219902336597443, 0.6891171932220459, 0.30038443207740784, 0.9308369159698486, 0.9257818460464478, 0.9692071080207825, 0.888760507106781, 0.850549578666687, 0.9769981503486633, 0.9661740064620972, 0.9173166751861572, 0.9154191613197327, 0.6229700446128845, 0.37138599157333374, 0.9342448711395264, 0.9431036710739136, 0.994316041469574, 0.8172803521156311, 0.8633666634559631, 0.9924198389053345, 0.9919453859329224, 0.9968672394752502, 0.9058529138565063, 0.9738449454307556, 0.9474970102310181, 0.3611944615840912, 0.635204017162323, 0.984041154384613, 0.15745066106319427, 0.8397368788719177, 0.9932746887207031], \"Term\": [\"accustom\", \"aren\", \"arm\", \"arthriti\", \"awesom\", \"beat\", \"best\", \"better\", \"board\", \"brand\", \"bring\", \"browser\", \"button\", \"button\", \"buy\", \"calcul\", \"carpal\", \"caus\", \"center\", \"certain\", \"cheaper\", \"combin\", \"come\", \"comfort\", \"command\", \"condit\", \"consid\", \"control\", \"conveni\", \"cours\", \"custom\", \"data\", \"decent\", \"definit\", \"depend\", \"design\", \"design\", \"devic\", \"differ\", \"disappoint\", \"driver\", \"drop\", \"eas\", \"easi\", \"ergo\", \"ergonom\", \"ergonom\", \"error\", \"excel\", \"expect\", \"fantast\", \"fast\", \"faster\", \"fatigu\", \"featur\", \"feel\", \"fine\", \"finger\", \"friend\", \"function\", \"general\", \"get\", \"go\", \"good\", \"great\", \"great\", \"half\", \"hand\", \"handi\", \"hard\", \"haven\", \"heavi\", \"hope\", \"hour\", \"huge\", \"hunt\", \"idea\", \"impress\", \"instal\", \"issu\", \"item\", \"key\", \"key\", \"know\", \"later\", \"letter\", \"like\", \"like\", \"line\", \"link\", \"littl\", \"lock\", \"long\", \"look\", \"love\", \"make\", \"mice\", \"microsoft\", \"model\", \"money\", \"month\", \"mous\", \"natur\", \"near\", \"need\", \"nice\", \"origin\", \"pain\", \"pay\", \"press\", \"press\", \"print\", \"problem\", \"product\", \"provid\", \"purchas\", \"push\", \"quiet\", \"real\", \"receiv\", \"recommend\", \"reduc\", \"regist\", \"reliabl\", \"rememb\", \"replac\", \"rest\", \"review\", \"right\", \"satisfi\", \"save\", \"send\", \"ship\", \"shoulder\", \"simpli\", \"softwar\", \"space\", \"spacebar\", \"split\", \"standard\", \"stuff\", \"surpris\", \"switch\", \"syndrom\", \"take\", \"tend\", \"terribl\", \"thank\", \"thing\", \"think\", \"think\", \"time\", \"time\", \"today\", \"total\", \"touch\", \"trackbal\", \"travel\", \"tri\", \"tunnel\", \"turn\", \"twice\", \"type\", \"type\", \"typist\", \"unit\", \"want\", \"warranti\", \"wast\", \"wear\", \"week\", \"window\", \"wire\", \"wireless\", \"word\", \"work\", \"work\", \"wrist\", \"year\", \"year\", \"zoom\"]}, \"R\": 30, \"lambda.step\": 0.01, \"plot.opts\": {\"xlab\": \"PC1\", \"ylab\": \"PC2\"}, \"topic.order\": [1, 3, 4, 2, 5]};\n",
       "\n",
       "function LDAvis_load_lib(url, callback){\n",
       "  var s = document.createElement('script');\n",
       "  s.src = url;\n",
       "  s.async = true;\n",
       "  s.onreadystatechange = s.onload = callback;\n",
       "  s.onerror = function(){console.warn(\"failed to load library \" + url);};\n",
       "  document.getElementsByTagName(\"head\")[0].appendChild(s);\n",
       "}\n",
       "\n",
       "if(typeof(LDAvis) !== \"undefined\"){\n",
       "   // already loaded: just create the visualization\n",
       "   !function(LDAvis){\n",
       "       new LDAvis(\"#\" + \"ldavis_el1245222778558628567976746301\", ldavis_el1245222778558628567976746301_data);\n",
       "   }(LDAvis);\n",
       "}else if(typeof define === \"function\" && define.amd){\n",
       "   // require.js is available: use it to load d3/LDAvis\n",
       "   require.config({paths: {d3: \"https://cdnjs.cloudflare.com/ajax/libs/d3/3.5.5/d3.min\"}});\n",
       "   require([\"d3\"], function(d3){\n",
       "      window.d3 = d3;\n",
       "      LDAvis_load_lib(\"https://cdn.rawgit.com/bmabey/pyLDAvis/files/ldavis.v1.0.0.js\", function(){\n",
       "        new LDAvis(\"#\" + \"ldavis_el1245222778558628567976746301\", ldavis_el1245222778558628567976746301_data);\n",
       "      });\n",
       "    });\n",
       "}else{\n",
       "    // require.js not available: dynamically load d3 & LDAvis\n",
       "    LDAvis_load_lib(\"https://cdnjs.cloudflare.com/ajax/libs/d3/3.5.5/d3.min.js\", function(){\n",
       "         LDAvis_load_lib(\"https://cdn.rawgit.com/bmabey/pyLDAvis/files/ldavis.v1.0.0.js\", function(){\n",
       "                 new LDAvis(\"#\" + \"ldavis_el1245222778558628567976746301\", ldavis_el1245222778558628567976746301_data);\n",
       "            })\n",
       "         });\n",
       "}\n",
       "</script>"
      ],
      "text/plain": [
       "PreparedData(topic_coordinates=              x         y  topics  cluster       Freq\n",
       "topic                                                \n",
       "0      0.264268 -0.148400       1        1  48.470100\n",
       "2     -0.310390 -0.110646       2        1  39.896767\n",
       "3      0.017882  0.301330       3        1   4.736831\n",
       "1      0.015825  0.003061       4        1   3.851159\n",
       "4      0.012415 -0.045346       5        1   3.045132, topic_info=    Category       Freq     Term      Total  loglift  logprob\n",
       "331  Default  28.000000     mous  28.000000  30.0000  30.0000\n",
       "150  Default  24.000000    excel  24.000000  29.0000  29.0000\n",
       "261  Default  18.000000   instal  18.000000  28.0000  28.0000\n",
       "399  Default  16.000000   switch  16.000000  27.0000  27.0000\n",
       "293  Default  17.000000   tunnel  17.000000  26.0000  26.0000\n",
       "..       ...        ...      ...        ...      ...      ...\n",
       "462   Topic5   0.124735   combin   4.652711  -0.1274  -7.6878\n",
       "404   Topic5   0.125663     hunt   5.433403  -0.2751  -7.6804\n",
       "563   Topic5   0.126558     wast   6.949539  -0.5141  -7.6733\n",
       "186   Topic5   0.127697  browser  11.264904  -0.9882  -7.6644\n",
       "223   Topic5   0.127162     mice  10.748535  -0.9454  -7.6686\n",
       "\n",
       "[207 rows x 6 columns], token_table=      Topic      Freq      Term\n",
       "term                           \n",
       "385       3  0.972844  accustom\n",
       "391       3  0.983401      aren\n",
       "324       3  0.907503       arm\n",
       "289       4  0.765388  arthriti\n",
       "416       5  0.944318    awesom\n",
       "...     ...       ...       ...\n",
       "137       2  0.635204      work\n",
       "138       1  0.984041     wrist\n",
       "139       1  0.157451      year\n",
       "139       2  0.839737      year\n",
       "140       2  0.993275      zoom\n",
       "\n",
       "[181 rows x 3 columns], R=30, lambda_step=0.01, plot_opts={'xlab': 'PC1', 'ylab': 'PC2'}, topic_order=[1, 3, 4, 2, 5])"
      ]
     },
     "execution_count": 269,
     "metadata": {},
     "output_type": "execute_result"
    }
   ],
   "source": [
    "pyLDAvis.enable_notebook()\n",
    "vis = pyLDAvis.gensim.prepare(lda_model_5, corpus, dictionary)\n",
    "vis"
   ]
  },
  {
   "cell_type": "markdown",
   "metadata": {},
   "source": [
    "### Features engineering"
   ]
  },
  {
   "cell_type": "markdown",
   "metadata": {},
   "source": [
    "Som epossible features from literature: `length`, `reviewer identity`, `foreign brand`, `product type`, `extremity (low/high ratings)`,`writing style`, `timeliness`, `spelling errors`, `readability`, `subjectivity`, `rating scores`, ``"
   ]
  },
  {
   "cell_type": "markdown",
   "metadata": {},
   "source": [
    "#### Convert vote variable to float type"
   ]
  },
  {
   "cell_type": "code",
   "execution_count": 219,
   "metadata": {},
   "outputs": [],
   "source": [
    "def cleanvote(df):\n",
    "    \"\"\"\n",
    "    Outputs the votes as numerical values \n",
    "    \"\"\"\n",
    "    try:\n",
    "        return float(df['vote'])\n",
    "    except ValueError:\n",
    "        return float(df['vote'].replace(',', ''))\n",
    "    \n",
    "df['vote'] = df.apply(cleanvote, axis=1)"
   ]
  },
  {
   "cell_type": "markdown",
   "metadata": {},
   "source": [
    "#### Get the number of associated images"
   ]
  },
  {
   "cell_type": "code",
   "execution_count": 220,
   "metadata": {},
   "outputs": [],
   "source": [
    "def imagenum(df):\n",
    "    \"\"\"\n",
    "    Outputs the number of images from the `image` column\n",
    "    \"\"\"\n",
    "    if type(df['image']) == float:\n",
    "        return 0\n",
    "    else:\n",
    "        return len(df['image'])\n",
    "\n",
    "df['imagenum'] = df.apply(imagenum, axis=1)"
   ]
  },
  {
   "cell_type": "markdown",
   "metadata": {},
   "source": [
    "#### Get the indicator of being verified or not"
   ]
  },
  {
   "cell_type": "code",
   "execution_count": 221,
   "metadata": {},
   "outputs": [],
   "source": [
    "def verified(df):\n",
    "    \"\"\"\n",
    "    Outputs the indicator (1/0) from the `verified` column\n",
    "    \"\"\"\n",
    "    if df['verified'] == True:\n",
    "        return 1\n",
    "    else:\n",
    "        return 0\n",
    "    \n",
    "df['verified'] = df.apply(verified, axis=1)"
   ]
  },
  {
   "cell_type": "markdown",
   "metadata": {},
   "source": [
    "#### Get the indicator of using a real name\n",
    "\n",
    "One tried approach: named entities extraction\n",
    "\n",
    "Pbm: cannot tell the real or seemingly-real names\n",
    "\n",
    "https://towardsdatascience.com/custom-named-entity-recognition-using-spacy-7140ebbb3718\n",
    "\n",
    "https://spacy.io/usage/linguistic-features#named-entities\n",
    "\n",
    "Approach: return true if the `revierName` has verfied first names by gender guesser (not unknown in the name database), (middle name), and last name \n",
    "\n",
    "https://pypi.org/project/gender-guesser/"
   ]
  },
  {
   "cell_type": "code",
   "execution_count": 222,
   "metadata": {},
   "outputs": [],
   "source": [
    "def nameverified(df):\n",
    "    \"\"\"\n",
    "    Output the indicator (1/0) from the `reviewerName` column \n",
    "    \"\"\"\n",
    "    try:\n",
    "        parts = df['reviewerName'].split(' ')\n",
    "        if len(parts) > 2:\n",
    "            if gender.Detector().get_gender(parts[0]) != 'unknown': \n",
    "                return 1\n",
    "        else:\n",
    "            return 0\n",
    "    except AttributeError:\n",
    "        return 0\n",
    "\n",
    "df['nameverified'] = df.apply(nameverified, axis=1)\n",
    "df['nameverified'] = df['nameverified'].fillna(0)"
   ]
  },
  {
   "cell_type": "markdown",
   "metadata": {},
   "source": [
    "#### Sentiment"
   ]
  },
  {
   "cell_type": "code",
   "execution_count": 223,
   "metadata": {},
   "outputs": [],
   "source": [
    "def sentiment(df):\n",
    "    \"\"\"\n",
    "    Outputs the sentiment score for each review\n",
    "    \"\"\"\n",
    "    return analyser.polarity_scores(df['reviewText'])['compound']\n",
    "\n",
    "df['Sentiment'] = df.apply(sentiment, axis=1)"
   ]
  },
  {
   "cell_type": "code",
   "execution_count": 224,
   "metadata": {},
   "outputs": [
    {
     "data": {
      "text/plain": [
       "0.376"
      ]
     },
     "execution_count": 224,
     "metadata": {},
     "output_type": "execute_result"
    }
   ],
   "source": [
    "# Sentiment scores are positively correlated with the overall rating, but the correlation is not strong\n",
    "round(np.corrcoef(df['overall'],  df[\"Sentiment\"])[0,1],3)"
   ]
  },
  {
   "cell_type": "code",
   "execution_count": 225,
   "metadata": {},
   "outputs": [
    {
     "data": {
      "text/plain": [
       "0.033122594194551894"
      ]
     },
     "execution_count": 225,
     "metadata": {},
     "output_type": "execute_result"
    }
   ],
   "source": [
    "# correlation within the reviews with positive votes\n",
    "dfnotnull = df[df['vote'].isna()==0]\n",
    "np.corrcoef(dfnotnull['vote'],  dfnotnull[\"Sentiment\"])[0,1]"
   ]
  },
  {
   "cell_type": "markdown",
   "metadata": {},
   "source": [
    "#### Length\n",
    "\n",
    "https://pypi.org/project/textstat/"
   ]
  },
  {
   "cell_type": "code",
   "execution_count": 226,
   "metadata": {},
   "outputs": [],
   "source": [
    "def length(df):\n",
    "    \"\"\"\n",
    "    Output the length for each review\n",
    "    \"\"\"\n",
    "    return textstat.lexicon_count(df['reviewText'], removepunct = True)\n",
    "\n",
    "df['Length'] = df.apply(length, axis=1)"
   ]
  },
  {
   "cell_type": "markdown",
   "metadata": {},
   "source": [
    "#### Sentence Count"
   ]
  },
  {
   "cell_type": "code",
   "execution_count": 227,
   "metadata": {},
   "outputs": [],
   "source": [
    "def sentence_count(df):\n",
    "    \"\"\"\n",
    "    Output the number of sentences for each review\n",
    "    \"\"\"\n",
    "    return textstat.sentence_count(df['reviewText'])\n",
    "\n",
    "df['Sentences'] = df.apply(sentence_count, axis=1)"
   ]
  },
  {
   "cell_type": "markdown",
   "metadata": {},
   "source": [
    "#### Flesch reading ease score"
   ]
  },
  {
   "cell_type": "code",
   "execution_count": 228,
   "metadata": {},
   "outputs": [],
   "source": [
    "def flesch(df):\n",
    "    \"\"\"\n",
    "    Output the Flesch reading ease score for each review\n",
    "    \"\"\"\n",
    "    return textstat.flesch_reading_ease(df['reviewText'])\n",
    "\n",
    "df['Flesch'] = df.apply(flesch, axis=1)"
   ]
  },
  {
   "cell_type": "markdown",
   "metadata": {},
   "source": [
    "#### Days since the first review"
   ]
  },
  {
   "cell_type": "code",
   "execution_count": 229,
   "metadata": {},
   "outputs": [],
   "source": [
    "df['unixReviewTime'] = pd.to_datetime(df['unixReviewTime'], unit='s')\n",
    "df['Days'] = df['unixReviewTime'] - df['unixReviewTime'].min()\n",
    "df['Days'] = [i.days for i in df['Days']]"
   ]
  },
  {
   "cell_type": "markdown",
   "metadata": {},
   "source": [
    "#### Before/After verified purchase policy"
   ]
  },
  {
   "cell_type": "code",
   "execution_count": 230,
   "metadata": {},
   "outputs": [
    {
     "data": {
      "text/plain": [
       "13"
      ]
     },
     "execution_count": 230,
     "metadata": {},
     "output_type": "execute_result"
    }
   ],
   "source": [
    "def verified_option(df):\n",
    "    \"\"\"\n",
    "    Output whether the review was written after the introduction of verified purchase label policy\n",
    "    \"\"\"\n",
    "    if df['unixReviewTime'].date()> datetime(2016, 11, 1).date():\n",
    "        return 1\n",
    "    else:\n",
    "        return 0\n",
    "\n",
    "df['verified_option'] = df.apply(verified_option, axis=1)\n",
    "round(100*sum(df['verified_option'])/len(df))"
   ]
  },
  {
   "cell_type": "markdown",
   "metadata": {},
   "source": [
    "#### Styles (Different models)"
   ]
  },
  {
   "cell_type": "code",
   "execution_count": 231,
   "metadata": {},
   "outputs": [
    {
     "data": {
      "text/plain": [
       "{'Style:': ' Retail'}      1930\n",
       "{'Style:': ' Business'}     624\n",
       "Name: style, dtype: int64"
      ]
     },
     "execution_count": 231,
     "metadata": {},
     "output_type": "execute_result"
    }
   ],
   "source": [
    "df['style'].value_counts()"
   ]
  },
  {
   "cell_type": "code",
   "execution_count": 232,
   "metadata": {},
   "outputs": [],
   "source": [
    "# This function is useful when there are multiple categories in 'style'\n",
    "def style(df):\n",
    "    \"\"\"\n",
    "    Output the style of the product\n",
    "    \"\"\"\n",
    "    try:\n",
    "        if 'Size:' in df['style']:\n",
    "            return yaml.load(df['style'])['Style:']\n",
    "    except:\n",
    "        return 0\n",
    "\n",
    "#df['style'] = df.apply(style, axis=1)\n"
   ]
  },
  {
   "cell_type": "code",
   "execution_count": 233,
   "metadata": {},
   "outputs": [
    {
     "data": {
      "text/plain": [
       "1930"
      ]
     },
     "execution_count": 233,
     "metadata": {},
     "output_type": "execute_result"
    }
   ],
   "source": [
    "df['Retail'] = np.where(df['style'] == \"{'Style:': ' Retail'}\", 1, 0)\n",
    "sum(df['Retail'])"
   ]
  },
  {
   "cell_type": "markdown",
   "metadata": {},
   "source": [
    "### Exploratory Data Analysis "
   ]
  },
  {
   "cell_type": "code",
   "execution_count": 236,
   "metadata": {},
   "outputs": [],
   "source": [
    "df.drop(['style', 'reviewerID', 'reviewerName', \n",
    "         'image', 'reviewTime',], axis=1, inplace=True)"
   ]
  },
  {
   "cell_type": "code",
   "execution_count": 273,
   "metadata": {},
   "outputs": [
    {
     "data": {
      "text/html": [
       "<div>\n",
       "<style scoped>\n",
       "    .dataframe tbody tr th:only-of-type {\n",
       "        vertical-align: middle;\n",
       "    }\n",
       "\n",
       "    .dataframe tbody tr th {\n",
       "        vertical-align: top;\n",
       "    }\n",
       "\n",
       "    .dataframe thead th {\n",
       "        text-align: right;\n",
       "    }\n",
       "</style>\n",
       "<table border=\"1\" class=\"dataframe\">\n",
       "  <thead>\n",
       "    <tr style=\"text-align: right;\">\n",
       "      <th></th>\n",
       "      <th>overall</th>\n",
       "      <th>vote</th>\n",
       "      <th>verified</th>\n",
       "      <th>reviewText</th>\n",
       "      <th>summary</th>\n",
       "      <th>unixReviewTime</th>\n",
       "      <th>Topic1</th>\n",
       "      <th>Topic2</th>\n",
       "      <th>Topic3</th>\n",
       "      <th>Topic4</th>\n",
       "      <th>...</th>\n",
       "      <th>imagenum</th>\n",
       "      <th>nameverified</th>\n",
       "      <th>Sentiment</th>\n",
       "      <th>Length</th>\n",
       "      <th>Sentences</th>\n",
       "      <th>Flesch</th>\n",
       "      <th>Days</th>\n",
       "      <th>verified_option</th>\n",
       "      <th>Retail</th>\n",
       "      <th>vote_fillna</th>\n",
       "    </tr>\n",
       "  </thead>\n",
       "  <tbody>\n",
       "    <tr>\n",
       "      <th>0</th>\n",
       "      <td>5.0</td>\n",
       "      <td>1113.0</td>\n",
       "      <td>1</td>\n",
       "      <td>As a software developer, I am literally attach...</td>\n",
       "      <td>Best Overall Keyboard to Date</td>\n",
       "      <td>2005-10-18</td>\n",
       "      <td>0.51249</td>\n",
       "      <td>0.03440</td>\n",
       "      <td>0.38076</td>\n",
       "      <td>0.04386</td>\n",
       "      <td>...</td>\n",
       "      <td>0</td>\n",
       "      <td>0.0</td>\n",
       "      <td>0.9981</td>\n",
       "      <td>780</td>\n",
       "      <td>1</td>\n",
       "      <td>-703.31</td>\n",
       "      <td>13</td>\n",
       "      <td>0</td>\n",
       "      <td>1</td>\n",
       "      <td>1113.0</td>\n",
       "    </tr>\n",
       "    <tr>\n",
       "      <th>1</th>\n",
       "      <td>5.0</td>\n",
       "      <td>16.0</td>\n",
       "      <td>1</td>\n",
       "      <td>I've had a Natural Keyboard Pro for years, and...</td>\n",
       "      <td>Best keyboard I've used</td>\n",
       "      <td>2005-10-12</td>\n",
       "      <td>0.50907</td>\n",
       "      <td>0.03559</td>\n",
       "      <td>0.37827</td>\n",
       "      <td>0.04773</td>\n",
       "      <td>...</td>\n",
       "      <td>0</td>\n",
       "      <td>0.0</td>\n",
       "      <td>0.8232</td>\n",
       "      <td>267</td>\n",
       "      <td>1</td>\n",
       "      <td>-182.62</td>\n",
       "      <td>7</td>\n",
       "      <td>0</td>\n",
       "      <td>1</td>\n",
       "      <td>16.0</td>\n",
       "    </tr>\n",
       "    <tr>\n",
       "      <th>2</th>\n",
       "      <td>4.0</td>\n",
       "      <td>11.0</td>\n",
       "      <td>1</td>\n",
       "      <td>As with most Microsoft products, great hardwar...</td>\n",
       "      <td>Great keyboard, poor software.</td>\n",
       "      <td>2005-10-05</td>\n",
       "      <td>0.47337</td>\n",
       "      <td>0.03552</td>\n",
       "      <td>0.41958</td>\n",
       "      <td>0.04301</td>\n",
       "      <td>...</td>\n",
       "      <td>0</td>\n",
       "      <td>0.0</td>\n",
       "      <td>0.9947</td>\n",
       "      <td>917</td>\n",
       "      <td>15</td>\n",
       "      <td>34.84</td>\n",
       "      <td>0</td>\n",
       "      <td>0</td>\n",
       "      <td>1</td>\n",
       "      <td>11.0</td>\n",
       "    </tr>\n",
       "    <tr>\n",
       "      <th>3</th>\n",
       "      <td>5.0</td>\n",
       "      <td>NaN</td>\n",
       "      <td>1</td>\n",
       "      <td>Love it.</td>\n",
       "      <td>Five Stars</td>\n",
       "      <td>2018-05-15</td>\n",
       "      <td>0.49030</td>\n",
       "      <td>0.03804</td>\n",
       "      <td>0.39451</td>\n",
       "      <td>0.04705</td>\n",
       "      <td>...</td>\n",
       "      <td>0</td>\n",
       "      <td>0.0</td>\n",
       "      <td>0.6369</td>\n",
       "      <td>2</td>\n",
       "      <td>1</td>\n",
       "      <td>120.21</td>\n",
       "      <td>4605</td>\n",
       "      <td>1</td>\n",
       "      <td>0</td>\n",
       "      <td>0.0</td>\n",
       "    </tr>\n",
       "    <tr>\n",
       "      <th>4</th>\n",
       "      <td>5.0</td>\n",
       "      <td>NaN</td>\n",
       "      <td>1</td>\n",
       "      <td>I've had various versions of this keyboard for...</td>\n",
       "      <td>Five Stars</td>\n",
       "      <td>2018-05-12</td>\n",
       "      <td>0.48442</td>\n",
       "      <td>0.03767</td>\n",
       "      <td>0.39339</td>\n",
       "      <td>0.04660</td>\n",
       "      <td>...</td>\n",
       "      <td>0</td>\n",
       "      <td>0.0</td>\n",
       "      <td>0.4753</td>\n",
       "      <td>16</td>\n",
       "      <td>1</td>\n",
       "      <td>80.62</td>\n",
       "      <td>4602</td>\n",
       "      <td>1</td>\n",
       "      <td>0</td>\n",
       "      <td>0.0</td>\n",
       "    </tr>\n",
       "  </tbody>\n",
       "</table>\n",
       "<p>5 rows × 21 columns</p>\n",
       "</div>"
      ],
      "text/plain": [
       "   overall    vote  verified  \\\n",
       "0      5.0  1113.0         1   \n",
       "1      5.0    16.0         1   \n",
       "2      4.0    11.0         1   \n",
       "3      5.0     NaN         1   \n",
       "4      5.0     NaN         1   \n",
       "\n",
       "                                          reviewText  \\\n",
       "0  As a software developer, I am literally attach...   \n",
       "1  I've had a Natural Keyboard Pro for years, and...   \n",
       "2  As with most Microsoft products, great hardwar...   \n",
       "3                                           Love it.   \n",
       "4  I've had various versions of this keyboard for...   \n",
       "\n",
       "                          summary unixReviewTime   Topic1   Topic2   Topic3  \\\n",
       "0   Best Overall Keyboard to Date     2005-10-18  0.51249  0.03440  0.38076   \n",
       "1         Best keyboard I've used     2005-10-12  0.50907  0.03559  0.37827   \n",
       "2  Great keyboard, poor software.     2005-10-05  0.47337  0.03552  0.41958   \n",
       "3                      Five Stars     2018-05-15  0.49030  0.03804  0.39451   \n",
       "4                      Five Stars     2018-05-12  0.48442  0.03767  0.39339   \n",
       "\n",
       "    Topic4  ...  imagenum  nameverified  Sentiment  Length  Sentences  Flesch  \\\n",
       "0  0.04386  ...         0           0.0     0.9981     780          1 -703.31   \n",
       "1  0.04773  ...         0           0.0     0.8232     267          1 -182.62   \n",
       "2  0.04301  ...         0           0.0     0.9947     917         15   34.84   \n",
       "3  0.04705  ...         0           0.0     0.6369       2          1  120.21   \n",
       "4  0.04660  ...         0           0.0     0.4753      16          1   80.62   \n",
       "\n",
       "   Days  verified_option  Retail  vote_fillna  \n",
       "0    13                0       1       1113.0  \n",
       "1     7                0       1         16.0  \n",
       "2     0                0       1         11.0  \n",
       "3  4605                1       0          0.0  \n",
       "4  4602                1       0          0.0  \n",
       "\n",
       "[5 rows x 21 columns]"
      ]
     },
     "execution_count": 273,
     "metadata": {},
     "output_type": "execute_result"
    }
   ],
   "source": [
    "df.head()"
   ]
  },
  {
   "cell_type": "code",
   "execution_count": 276,
   "metadata": {},
   "outputs": [
    {
     "data": {
      "text/plain": [
       "Index(['overall', 'vote', 'verified', 'reviewText', 'summary',\n",
       "       'unixReviewTime', 'Topic1', 'Topic2', 'Topic3', 'Topic4', 'Topic5',\n",
       "       'imagenum', 'nameverified', 'Sentiment', 'Length', 'Sentences',\n",
       "       'Flesch', 'Days', 'verified_option', 'Retail', 'vote_fillna'],\n",
       "      dtype='object')"
      ]
     },
     "execution_count": 276,
     "metadata": {},
     "output_type": "execute_result"
    }
   ],
   "source": [
    "df.columns"
   ]
  },
  {
   "cell_type": "code",
   "execution_count": 279,
   "metadata": {},
   "outputs": [
    {
     "data": {
      "text/html": [
       "<div>\n",
       "<style scoped>\n",
       "    .dataframe tbody tr th:only-of-type {\n",
       "        vertical-align: middle;\n",
       "    }\n",
       "\n",
       "    .dataframe tbody tr th {\n",
       "        vertical-align: top;\n",
       "    }\n",
       "\n",
       "    .dataframe thead th {\n",
       "        text-align: right;\n",
       "    }\n",
       "</style>\n",
       "<table border=\"1\" class=\"dataframe\">\n",
       "  <thead>\n",
       "    <tr style=\"text-align: right;\">\n",
       "      <th></th>\n",
       "      <th>overall</th>\n",
       "      <th>Topic1</th>\n",
       "      <th>Topic2</th>\n",
       "      <th>Topic3</th>\n",
       "      <th>Topic4</th>\n",
       "      <th>Topic5</th>\n",
       "      <th>imagenum</th>\n",
       "      <th>nameverified</th>\n",
       "      <th>Sentiment</th>\n",
       "      <th>Length</th>\n",
       "      <th>Sentences</th>\n",
       "      <th>Flesch</th>\n",
       "      <th>Days</th>\n",
       "      <th>verified_option</th>\n",
       "      <th>Retail</th>\n",
       "    </tr>\n",
       "    <tr>\n",
       "      <th>verified</th>\n",
       "      <th></th>\n",
       "      <th></th>\n",
       "      <th></th>\n",
       "      <th></th>\n",
       "      <th></th>\n",
       "      <th></th>\n",
       "      <th></th>\n",
       "      <th></th>\n",
       "      <th></th>\n",
       "      <th></th>\n",
       "      <th></th>\n",
       "      <th></th>\n",
       "      <th></th>\n",
       "      <th></th>\n",
       "      <th></th>\n",
       "    </tr>\n",
       "  </thead>\n",
       "  <tbody>\n",
       "    <tr>\n",
       "      <th>0</th>\n",
       "      <td>3.59</td>\n",
       "      <td>0.49</td>\n",
       "      <td>0.04</td>\n",
       "      <td>0.4</td>\n",
       "      <td>0.05</td>\n",
       "      <td>0.03</td>\n",
       "      <td>1.26</td>\n",
       "      <td>0.08</td>\n",
       "      <td>0.42</td>\n",
       "      <td>140.30</td>\n",
       "      <td>4.76</td>\n",
       "      <td>35.79</td>\n",
       "      <td>2485.26</td>\n",
       "      <td>0.09</td>\n",
       "      <td>0.83</td>\n",
       "    </tr>\n",
       "    <tr>\n",
       "      <th>1</th>\n",
       "      <td>4.30</td>\n",
       "      <td>0.48</td>\n",
       "      <td>0.04</td>\n",
       "      <td>0.4</td>\n",
       "      <td>0.05</td>\n",
       "      <td>0.03</td>\n",
       "      <td>0.43</td>\n",
       "      <td>0.07</td>\n",
       "      <td>0.46</td>\n",
       "      <td>72.01</td>\n",
       "      <td>2.85</td>\n",
       "      <td>57.27</td>\n",
       "      <td>3234.58</td>\n",
       "      <td>0.13</td>\n",
       "      <td>0.74</td>\n",
       "    </tr>\n",
       "  </tbody>\n",
       "</table>\n",
       "</div>"
      ],
      "text/plain": [
       "          overall  Topic1  Topic2  Topic3  Topic4  Topic5  imagenum  \\\n",
       "verified                                                              \n",
       "0            3.59    0.49    0.04     0.4    0.05    0.03      1.26   \n",
       "1            4.30    0.48    0.04     0.4    0.05    0.03      0.43   \n",
       "\n",
       "          nameverified  Sentiment  Length  Sentences  Flesch     Days  \\\n",
       "verified                                                                \n",
       "0                 0.08       0.42  140.30       4.76   35.79  2485.26   \n",
       "1                 0.07       0.46   72.01       2.85   57.27  3234.58   \n",
       "\n",
       "          verified_option  Retail  \n",
       "verified                           \n",
       "0                    0.09    0.83  \n",
       "1                    0.13    0.74  "
      ]
     },
     "execution_count": 279,
     "metadata": {},
     "output_type": "execute_result"
    }
   ],
   "source": [
    "diff = df.groupby(['verified']).mean().round(2)\n",
    "diff[['overall', 'Topic1', 'Topic2', 'Topic3', 'Topic4', 'Topic5',\n",
    "       'imagenum', 'nameverified', 'Sentiment', 'Length', 'Sentences',\n",
    "       'Flesch', 'Days', 'verified_option', 'Retail']]"
   ]
  },
  {
   "cell_type": "code",
   "execution_count": 266,
   "metadata": {},
   "outputs": [
    {
     "data": {
      "text/plain": [
       "Timestamp('2005-10-05 00:00:00')"
      ]
     },
     "execution_count": 266,
     "metadata": {},
     "output_type": "execute_result"
    }
   ],
   "source": [
    "df['unixReviewTime'].min()"
   ]
  },
  {
   "cell_type": "code",
   "execution_count": 267,
   "metadata": {},
   "outputs": [
    {
     "data": {
      "text/plain": [
       "Timestamp('2018-05-19 00:00:00')"
      ]
     },
     "execution_count": 267,
     "metadata": {},
     "output_type": "execute_result"
    }
   ],
   "source": [
    "df['unixReviewTime'].max()"
   ]
  },
  {
   "cell_type": "markdown",
   "metadata": {},
   "source": [
    "#### Summary statistics"
   ]
  },
  {
   "cell_type": "code",
   "execution_count": 239,
   "metadata": {},
   "outputs": [],
   "source": [
    "df['vote_fillna'] = df['vote'] .fillna(0)"
   ]
  },
  {
   "cell_type": "code",
   "execution_count": 240,
   "metadata": {},
   "outputs": [
    {
     "data": {
      "text/html": [
       "<div>\n",
       "<style scoped>\n",
       "    .dataframe tbody tr th:only-of-type {\n",
       "        vertical-align: middle;\n",
       "    }\n",
       "\n",
       "    .dataframe tbody tr th {\n",
       "        vertical-align: top;\n",
       "    }\n",
       "\n",
       "    .dataframe thead th {\n",
       "        text-align: right;\n",
       "    }\n",
       "</style>\n",
       "<table border=\"1\" class=\"dataframe\">\n",
       "  <thead>\n",
       "    <tr style=\"text-align: right;\">\n",
       "      <th></th>\n",
       "      <th>overall</th>\n",
       "      <th>vote</th>\n",
       "      <th>verified</th>\n",
       "      <th>Topic1</th>\n",
       "      <th>Topic2</th>\n",
       "      <th>Topic3</th>\n",
       "      <th>Topic4</th>\n",
       "      <th>Topic5</th>\n",
       "      <th>imagenum</th>\n",
       "      <th>nameverified</th>\n",
       "      <th>Sentiment</th>\n",
       "      <th>Length</th>\n",
       "      <th>Sentences</th>\n",
       "      <th>Flesch</th>\n",
       "      <th>Days</th>\n",
       "      <th>verified_option</th>\n",
       "      <th>Retail</th>\n",
       "      <th>vote_fillna</th>\n",
       "    </tr>\n",
       "  </thead>\n",
       "  <tbody>\n",
       "    <tr>\n",
       "      <th>count</th>\n",
       "      <td>2567.00</td>\n",
       "      <td>174.00</td>\n",
       "      <td>2567.00</td>\n",
       "      <td>2567.00</td>\n",
       "      <td>2567.00</td>\n",
       "      <td>2567.00</td>\n",
       "      <td>2567.00</td>\n",
       "      <td>2567.00</td>\n",
       "      <td>2567.00</td>\n",
       "      <td>2484.00</td>\n",
       "      <td>2567.00</td>\n",
       "      <td>2567.00</td>\n",
       "      <td>2567.00</td>\n",
       "      <td>2567.00</td>\n",
       "      <td>2567.00</td>\n",
       "      <td>2567.00</td>\n",
       "      <td>2567.00</td>\n",
       "      <td>2567.00</td>\n",
       "    </tr>\n",
       "    <tr>\n",
       "      <th>mean</th>\n",
       "      <td>4.21</td>\n",
       "      <td>16.41</td>\n",
       "      <td>0.86</td>\n",
       "      <td>0.48</td>\n",
       "      <td>0.04</td>\n",
       "      <td>0.40</td>\n",
       "      <td>0.05</td>\n",
       "      <td>0.03</td>\n",
       "      <td>0.55</td>\n",
       "      <td>0.08</td>\n",
       "      <td>0.45</td>\n",
       "      <td>81.37</td>\n",
       "      <td>3.12</td>\n",
       "      <td>54.32</td>\n",
       "      <td>3131.83</td>\n",
       "      <td>0.13</td>\n",
       "      <td>0.75</td>\n",
       "      <td>1.11</td>\n",
       "    </tr>\n",
       "    <tr>\n",
       "      <th>std</th>\n",
       "      <td>1.21</td>\n",
       "      <td>90.98</td>\n",
       "      <td>0.34</td>\n",
       "      <td>0.01</td>\n",
       "      <td>0.00</td>\n",
       "      <td>0.01</td>\n",
       "      <td>0.00</td>\n",
       "      <td>0.00</td>\n",
       "      <td>9.56</td>\n",
       "      <td>0.27</td>\n",
       "      <td>0.54</td>\n",
       "      <td>103.03</td>\n",
       "      <td>3.74</td>\n",
       "      <td>65.76</td>\n",
       "      <td>965.37</td>\n",
       "      <td>0.33</td>\n",
       "      <td>0.43</td>\n",
       "      <td>23.98</td>\n",
       "    </tr>\n",
       "    <tr>\n",
       "      <th>min</th>\n",
       "      <td>1.00</td>\n",
       "      <td>2.00</td>\n",
       "      <td>0.00</td>\n",
       "      <td>0.46</td>\n",
       "      <td>0.03</td>\n",
       "      <td>0.38</td>\n",
       "      <td>0.04</td>\n",
       "      <td>0.03</td>\n",
       "      <td>0.00</td>\n",
       "      <td>0.00</td>\n",
       "      <td>-0.99</td>\n",
       "      <td>0.00</td>\n",
       "      <td>1.00</td>\n",
       "      <td>-1108.30</td>\n",
       "      <td>0.00</td>\n",
       "      <td>0.00</td>\n",
       "      <td>0.00</td>\n",
       "      <td>0.00</td>\n",
       "    </tr>\n",
       "    <tr>\n",
       "      <th>25%</th>\n",
       "      <td>4.00</td>\n",
       "      <td>2.00</td>\n",
       "      <td>1.00</td>\n",
       "      <td>0.48</td>\n",
       "      <td>0.04</td>\n",
       "      <td>0.39</td>\n",
       "      <td>0.05</td>\n",
       "      <td>0.03</td>\n",
       "      <td>0.00</td>\n",
       "      <td>0.00</td>\n",
       "      <td>0.14</td>\n",
       "      <td>20.00</td>\n",
       "      <td>1.00</td>\n",
       "      <td>46.44</td>\n",
       "      <td>2740.00</td>\n",
       "      <td>0.00</td>\n",
       "      <td>1.00</td>\n",
       "      <td>0.00</td>\n",
       "    </tr>\n",
       "    <tr>\n",
       "      <th>50%</th>\n",
       "      <td>5.00</td>\n",
       "      <td>3.00</td>\n",
       "      <td>1.00</td>\n",
       "      <td>0.48</td>\n",
       "      <td>0.04</td>\n",
       "      <td>0.40</td>\n",
       "      <td>0.05</td>\n",
       "      <td>0.03</td>\n",
       "      <td>0.00</td>\n",
       "      <td>0.00</td>\n",
       "      <td>0.64</td>\n",
       "      <td>49.00</td>\n",
       "      <td>2.00</td>\n",
       "      <td>71.48</td>\n",
       "      <td>3351.00</td>\n",
       "      <td>0.00</td>\n",
       "      <td>1.00</td>\n",
       "      <td>0.00</td>\n",
       "    </tr>\n",
       "    <tr>\n",
       "      <th>75%</th>\n",
       "      <td>5.00</td>\n",
       "      <td>5.00</td>\n",
       "      <td>1.00</td>\n",
       "      <td>0.49</td>\n",
       "      <td>0.04</td>\n",
       "      <td>0.40</td>\n",
       "      <td>0.05</td>\n",
       "      <td>0.03</td>\n",
       "      <td>0.00</td>\n",
       "      <td>0.00</td>\n",
       "      <td>0.88</td>\n",
       "      <td>102.00</td>\n",
       "      <td>4.00</td>\n",
       "      <td>83.66</td>\n",
       "      <td>3789.50</td>\n",
       "      <td>0.00</td>\n",
       "      <td>1.00</td>\n",
       "      <td>0.00</td>\n",
       "    </tr>\n",
       "    <tr>\n",
       "      <th>max</th>\n",
       "      <td>5.00</td>\n",
       "      <td>1113.00</td>\n",
       "      <td>1.00</td>\n",
       "      <td>0.51</td>\n",
       "      <td>0.06</td>\n",
       "      <td>0.42</td>\n",
       "      <td>0.07</td>\n",
       "      <td>0.04</td>\n",
       "      <td>370.00</td>\n",
       "      <td>1.00</td>\n",
       "      <td>1.00</td>\n",
       "      <td>1179.00</td>\n",
       "      <td>41.00</td>\n",
       "      <td>206.84</td>\n",
       "      <td>4609.00</td>\n",
       "      <td>1.00</td>\n",
       "      <td>1.00</td>\n",
       "      <td>1113.00</td>\n",
       "    </tr>\n",
       "  </tbody>\n",
       "</table>\n",
       "</div>"
      ],
      "text/plain": [
       "       overall     vote  verified   Topic1   Topic2   Topic3   Topic4  \\\n",
       "count  2567.00   174.00   2567.00  2567.00  2567.00  2567.00  2567.00   \n",
       "mean      4.21    16.41      0.86     0.48     0.04     0.40     0.05   \n",
       "std       1.21    90.98      0.34     0.01     0.00     0.01     0.00   \n",
       "min       1.00     2.00      0.00     0.46     0.03     0.38     0.04   \n",
       "25%       4.00     2.00      1.00     0.48     0.04     0.39     0.05   \n",
       "50%       5.00     3.00      1.00     0.48     0.04     0.40     0.05   \n",
       "75%       5.00     5.00      1.00     0.49     0.04     0.40     0.05   \n",
       "max       5.00  1113.00      1.00     0.51     0.06     0.42     0.07   \n",
       "\n",
       "        Topic5  imagenum  nameverified  Sentiment   Length  Sentences  \\\n",
       "count  2567.00   2567.00       2484.00    2567.00  2567.00    2567.00   \n",
       "mean      0.03      0.55          0.08       0.45    81.37       3.12   \n",
       "std       0.00      9.56          0.27       0.54   103.03       3.74   \n",
       "min       0.03      0.00          0.00      -0.99     0.00       1.00   \n",
       "25%       0.03      0.00          0.00       0.14    20.00       1.00   \n",
       "50%       0.03      0.00          0.00       0.64    49.00       2.00   \n",
       "75%       0.03      0.00          0.00       0.88   102.00       4.00   \n",
       "max       0.04    370.00          1.00       1.00  1179.00      41.00   \n",
       "\n",
       "        Flesch     Days  verified_option   Retail  vote_fillna  \n",
       "count  2567.00  2567.00          2567.00  2567.00      2567.00  \n",
       "mean     54.32  3131.83             0.13     0.75         1.11  \n",
       "std      65.76   965.37             0.33     0.43        23.98  \n",
       "min   -1108.30     0.00             0.00     0.00         0.00  \n",
       "25%      46.44  2740.00             0.00     1.00         0.00  \n",
       "50%      71.48  3351.00             0.00     1.00         0.00  \n",
       "75%      83.66  3789.50             0.00     1.00         0.00  \n",
       "max     206.84  4609.00             1.00     1.00      1113.00  "
      ]
     },
     "execution_count": 240,
     "metadata": {},
     "output_type": "execute_result"
    }
   ],
   "source": [
    "df.describe().round(2)"
   ]
  },
  {
   "cell_type": "code",
   "execution_count": 241,
   "metadata": {},
   "outputs": [
    {
     "data": {
      "text/plain": [
       "0.9322165952473704"
      ]
     },
     "execution_count": 241,
     "metadata": {},
     "output_type": "execute_result"
    }
   ],
   "source": [
    "# % of reviews don't have any votes\n",
    "df['vote'].isna().sum()/df.shape[0]"
   ]
  },
  {
   "cell_type": "code",
   "execution_count": 242,
   "metadata": {},
   "outputs": [
    {
     "data": {
      "text/plain": [
       "0.9949357226334242"
      ]
     },
     "execution_count": 242,
     "metadata": {},
     "output_type": "execute_result"
    }
   ],
   "source": [
    "# % of reviews don't have images\n",
    "len(df[df['imagenum']==0])/df.shape[0]"
   ]
  },
  {
   "cell_type": "code",
   "execution_count": 243,
   "metadata": {},
   "outputs": [
    {
     "data": {
      "text/plain": [
       "1    2215\n",
       "0     352\n",
       "Name: verified, dtype: int64"
      ]
     },
     "execution_count": 243,
     "metadata": {},
     "output_type": "execute_result"
    }
   ],
   "source": [
    "df['verified'].value_counts()"
   ]
  },
  {
   "cell_type": "code",
   "execution_count": 244,
   "metadata": {},
   "outputs": [
    {
     "data": {
      "text/plain": [
       "verified\n",
       "0    3.593750\n",
       "1    4.303837\n",
       "Name: overall, dtype: float64"
      ]
     },
     "execution_count": 244,
     "metadata": {},
     "output_type": "execute_result"
    }
   ],
   "source": [
    "# Verified reviews have higher average scores\n",
    "df.groupby(['verified']).mean()['overall']"
   ]
  },
  {
   "cell_type": "code",
   "execution_count": 248,
   "metadata": {},
   "outputs": [
    {
     "data": {
      "text/plain": [
       "verified\n",
       "0     9.294118\n",
       "1    19.357724\n",
       "Name: vote, dtype: float64"
      ]
     },
     "execution_count": 248,
     "metadata": {},
     "output_type": "execute_result"
    }
   ],
   "source": [
    "# Verified reviews have higher votes\n",
    "df.groupby(['verified']).mean()['vote']"
   ]
  },
  {
   "cell_type": "code",
   "execution_count": 247,
   "metadata": {},
   "outputs": [
    {
     "data": {
      "text/plain": [
       "verified\n",
       "0     51\n",
       "1    123\n",
       "Name: vote, dtype: int64"
      ]
     },
     "execution_count": 247,
     "metadata": {},
     "output_type": "execute_result"
    }
   ],
   "source": [
    "df.groupby(['verified']).count()['vote']"
   ]
  },
  {
   "cell_type": "code",
   "execution_count": 263,
   "metadata": {},
   "outputs": [
    {
     "data": {
      "text/html": [
       "<div>\n",
       "<style scoped>\n",
       "    .dataframe tbody tr th:only-of-type {\n",
       "        vertical-align: middle;\n",
       "    }\n",
       "\n",
       "    .dataframe tbody tr th {\n",
       "        vertical-align: top;\n",
       "    }\n",
       "\n",
       "    .dataframe thead th {\n",
       "        text-align: right;\n",
       "    }\n",
       "</style>\n",
       "<table border=\"1\" class=\"dataframe\">\n",
       "  <thead>\n",
       "    <tr style=\"text-align: right;\">\n",
       "      <th></th>\n",
       "      <th>overall</th>\n",
       "      <th>vote</th>\n",
       "      <th>verified</th>\n",
       "      <th>reviewText</th>\n",
       "      <th>summary</th>\n",
       "      <th>unixReviewTime</th>\n",
       "      <th>Topic1</th>\n",
       "      <th>Topic2</th>\n",
       "      <th>Topic3</th>\n",
       "      <th>Topic4</th>\n",
       "      <th>...</th>\n",
       "      <th>imagenum</th>\n",
       "      <th>nameverified</th>\n",
       "      <th>Sentiment</th>\n",
       "      <th>Length</th>\n",
       "      <th>Sentences</th>\n",
       "      <th>Flesch</th>\n",
       "      <th>Days</th>\n",
       "      <th>verified_option</th>\n",
       "      <th>Retail</th>\n",
       "      <th>vote_fillna</th>\n",
       "    </tr>\n",
       "  </thead>\n",
       "  <tbody>\n",
       "    <tr>\n",
       "      <th>0</th>\n",
       "      <td>5.0</td>\n",
       "      <td>1113.0</td>\n",
       "      <td>1</td>\n",
       "      <td>As a software developer, I am literally attach...</td>\n",
       "      <td>Best Overall Keyboard to Date</td>\n",
       "      <td>2005-10-18</td>\n",
       "      <td>0.51249</td>\n",
       "      <td>0.03440</td>\n",
       "      <td>0.38076</td>\n",
       "      <td>0.04386</td>\n",
       "      <td>...</td>\n",
       "      <td>0</td>\n",
       "      <td>0.0</td>\n",
       "      <td>0.9981</td>\n",
       "      <td>780</td>\n",
       "      <td>1</td>\n",
       "      <td>-703.31</td>\n",
       "      <td>13</td>\n",
       "      <td>0</td>\n",
       "      <td>1</td>\n",
       "      <td>1113.0</td>\n",
       "    </tr>\n",
       "    <tr>\n",
       "      <th>1</th>\n",
       "      <td>5.0</td>\n",
       "      <td>16.0</td>\n",
       "      <td>1</td>\n",
       "      <td>I've had a Natural Keyboard Pro for years, and...</td>\n",
       "      <td>Best keyboard I've used</td>\n",
       "      <td>2005-10-12</td>\n",
       "      <td>0.50907</td>\n",
       "      <td>0.03559</td>\n",
       "      <td>0.37827</td>\n",
       "      <td>0.04773</td>\n",
       "      <td>...</td>\n",
       "      <td>0</td>\n",
       "      <td>0.0</td>\n",
       "      <td>0.8232</td>\n",
       "      <td>267</td>\n",
       "      <td>1</td>\n",
       "      <td>-182.62</td>\n",
       "      <td>7</td>\n",
       "      <td>0</td>\n",
       "      <td>1</td>\n",
       "      <td>16.0</td>\n",
       "    </tr>\n",
       "    <tr>\n",
       "      <th>2</th>\n",
       "      <td>4.0</td>\n",
       "      <td>11.0</td>\n",
       "      <td>1</td>\n",
       "      <td>As with most Microsoft products, great hardwar...</td>\n",
       "      <td>Great keyboard, poor software.</td>\n",
       "      <td>2005-10-05</td>\n",
       "      <td>0.47337</td>\n",
       "      <td>0.03552</td>\n",
       "      <td>0.41958</td>\n",
       "      <td>0.04301</td>\n",
       "      <td>...</td>\n",
       "      <td>0</td>\n",
       "      <td>0.0</td>\n",
       "      <td>0.9947</td>\n",
       "      <td>917</td>\n",
       "      <td>15</td>\n",
       "      <td>34.84</td>\n",
       "      <td>0</td>\n",
       "      <td>0</td>\n",
       "      <td>1</td>\n",
       "      <td>11.0</td>\n",
       "    </tr>\n",
       "    <tr>\n",
       "      <th>3</th>\n",
       "      <td>5.0</td>\n",
       "      <td>NaN</td>\n",
       "      <td>1</td>\n",
       "      <td>Love it.</td>\n",
       "      <td>Five Stars</td>\n",
       "      <td>2018-05-15</td>\n",
       "      <td>0.49030</td>\n",
       "      <td>0.03804</td>\n",
       "      <td>0.39451</td>\n",
       "      <td>0.04705</td>\n",
       "      <td>...</td>\n",
       "      <td>0</td>\n",
       "      <td>0.0</td>\n",
       "      <td>0.6369</td>\n",
       "      <td>2</td>\n",
       "      <td>1</td>\n",
       "      <td>120.21</td>\n",
       "      <td>4605</td>\n",
       "      <td>1</td>\n",
       "      <td>0</td>\n",
       "      <td>0.0</td>\n",
       "    </tr>\n",
       "    <tr>\n",
       "      <th>4</th>\n",
       "      <td>5.0</td>\n",
       "      <td>NaN</td>\n",
       "      <td>1</td>\n",
       "      <td>I've had various versions of this keyboard for...</td>\n",
       "      <td>Five Stars</td>\n",
       "      <td>2018-05-12</td>\n",
       "      <td>0.48442</td>\n",
       "      <td>0.03767</td>\n",
       "      <td>0.39339</td>\n",
       "      <td>0.04660</td>\n",
       "      <td>...</td>\n",
       "      <td>0</td>\n",
       "      <td>0.0</td>\n",
       "      <td>0.4753</td>\n",
       "      <td>16</td>\n",
       "      <td>1</td>\n",
       "      <td>80.62</td>\n",
       "      <td>4602</td>\n",
       "      <td>1</td>\n",
       "      <td>0</td>\n",
       "      <td>0.0</td>\n",
       "    </tr>\n",
       "    <tr>\n",
       "      <th>...</th>\n",
       "      <td>...</td>\n",
       "      <td>...</td>\n",
       "      <td>...</td>\n",
       "      <td>...</td>\n",
       "      <td>...</td>\n",
       "      <td>...</td>\n",
       "      <td>...</td>\n",
       "      <td>...</td>\n",
       "      <td>...</td>\n",
       "      <td>...</td>\n",
       "      <td>...</td>\n",
       "      <td>...</td>\n",
       "      <td>...</td>\n",
       "      <td>...</td>\n",
       "      <td>...</td>\n",
       "      <td>...</td>\n",
       "      <td>...</td>\n",
       "      <td>...</td>\n",
       "      <td>...</td>\n",
       "      <td>...</td>\n",
       "      <td>...</td>\n",
       "    </tr>\n",
       "    <tr>\n",
       "      <th>95</th>\n",
       "      <td>5.0</td>\n",
       "      <td>3.0</td>\n",
       "      <td>1</td>\n",
       "      <td>I was diagnosed with carpal tunnel, very mild,...</td>\n",
       "      <td>Returns feeling to carpal-tunnel fingers withi...</td>\n",
       "      <td>2017-11-30</td>\n",
       "      <td>0.46401</td>\n",
       "      <td>0.03961</td>\n",
       "      <td>0.42288</td>\n",
       "      <td>0.04482</td>\n",
       "      <td>...</td>\n",
       "      <td>0</td>\n",
       "      <td>0.0</td>\n",
       "      <td>-0.0120</td>\n",
       "      <td>138</td>\n",
       "      <td>1</td>\n",
       "      <td>-51.68</td>\n",
       "      <td>4439</td>\n",
       "      <td>1</td>\n",
       "      <td>0</td>\n",
       "      <td>3.0</td>\n",
       "    </tr>\n",
       "    <tr>\n",
       "      <th>96</th>\n",
       "      <td>1.0</td>\n",
       "      <td>NaN</td>\n",
       "      <td>1</td>\n",
       "      <td>I bought one of these keyboards six or seven y...</td>\n",
       "      <td>You get what you pay for.</td>\n",
       "      <td>2017-11-26</td>\n",
       "      <td>0.49490</td>\n",
       "      <td>0.03660</td>\n",
       "      <td>0.38919</td>\n",
       "      <td>0.05034</td>\n",
       "      <td>...</td>\n",
       "      <td>0</td>\n",
       "      <td>0.0</td>\n",
       "      <td>0.7979</td>\n",
       "      <td>87</td>\n",
       "      <td>6</td>\n",
       "      <td>65.22</td>\n",
       "      <td>4435</td>\n",
       "      <td>1</td>\n",
       "      <td>0</td>\n",
       "      <td>0.0</td>\n",
       "    </tr>\n",
       "    <tr>\n",
       "      <th>97</th>\n",
       "      <td>5.0</td>\n",
       "      <td>NaN</td>\n",
       "      <td>1</td>\n",
       "      <td>Great product,  easy on the wrists.</td>\n",
       "      <td>Great product, easy on the wrists</td>\n",
       "      <td>2017-11-23</td>\n",
       "      <td>0.48806</td>\n",
       "      <td>0.03763</td>\n",
       "      <td>0.39798</td>\n",
       "      <td>0.04655</td>\n",
       "      <td>...</td>\n",
       "      <td>0</td>\n",
       "      <td>0.0</td>\n",
       "      <td>0.7906</td>\n",
       "      <td>6</td>\n",
       "      <td>1</td>\n",
       "      <td>90.77</td>\n",
       "      <td>4432</td>\n",
       "      <td>1</td>\n",
       "      <td>0</td>\n",
       "      <td>0.0</td>\n",
       "    </tr>\n",
       "    <tr>\n",
       "      <th>98</th>\n",
       "      <td>5.0</td>\n",
       "      <td>NaN</td>\n",
       "      <td>1</td>\n",
       "      <td>very nice</td>\n",
       "      <td>Five Stars</td>\n",
       "      <td>2017-11-22</td>\n",
       "      <td>0.49030</td>\n",
       "      <td>0.03804</td>\n",
       "      <td>0.39451</td>\n",
       "      <td>0.04705</td>\n",
       "      <td>...</td>\n",
       "      <td>0</td>\n",
       "      <td>0.0</td>\n",
       "      <td>0.4754</td>\n",
       "      <td>2</td>\n",
       "      <td>1</td>\n",
       "      <td>120.21</td>\n",
       "      <td>4431</td>\n",
       "      <td>1</td>\n",
       "      <td>0</td>\n",
       "      <td>0.0</td>\n",
       "    </tr>\n",
       "    <tr>\n",
       "      <th>99</th>\n",
       "      <td>1.0</td>\n",
       "      <td>NaN</td>\n",
       "      <td>1</td>\n",
       "      <td>I've been using the natural ergonomic keyboard...</td>\n",
       "      <td>new model has soft keys</td>\n",
       "      <td>2017-11-22</td>\n",
       "      <td>0.47115</td>\n",
       "      <td>0.03714</td>\n",
       "      <td>0.41637</td>\n",
       "      <td>0.04595</td>\n",
       "      <td>...</td>\n",
       "      <td>0</td>\n",
       "      <td>0.0</td>\n",
       "      <td>0.1440</td>\n",
       "      <td>47</td>\n",
       "      <td>4</td>\n",
       "      <td>84.88</td>\n",
       "      <td>4431</td>\n",
       "      <td>1</td>\n",
       "      <td>0</td>\n",
       "      <td>0.0</td>\n",
       "    </tr>\n",
       "  </tbody>\n",
       "</table>\n",
       "<p>100 rows × 21 columns</p>\n",
       "</div>"
      ],
      "text/plain": [
       "    overall    vote  verified  \\\n",
       "0       5.0  1113.0         1   \n",
       "1       5.0    16.0         1   \n",
       "2       4.0    11.0         1   \n",
       "3       5.0     NaN         1   \n",
       "4       5.0     NaN         1   \n",
       "..      ...     ...       ...   \n",
       "95      5.0     3.0         1   \n",
       "96      1.0     NaN         1   \n",
       "97      5.0     NaN         1   \n",
       "98      5.0     NaN         1   \n",
       "99      1.0     NaN         1   \n",
       "\n",
       "                                           reviewText  \\\n",
       "0   As a software developer, I am literally attach...   \n",
       "1   I've had a Natural Keyboard Pro for years, and...   \n",
       "2   As with most Microsoft products, great hardwar...   \n",
       "3                                            Love it.   \n",
       "4   I've had various versions of this keyboard for...   \n",
       "..                                                ...   \n",
       "95  I was diagnosed with carpal tunnel, very mild,...   \n",
       "96  I bought one of these keyboards six or seven y...   \n",
       "97                Great product,  easy on the wrists.   \n",
       "98                                          very nice   \n",
       "99  I've been using the natural ergonomic keyboard...   \n",
       "\n",
       "                                              summary unixReviewTime   Topic1  \\\n",
       "0                       Best Overall Keyboard to Date     2005-10-18  0.51249   \n",
       "1                             Best keyboard I've used     2005-10-12  0.50907   \n",
       "2                      Great keyboard, poor software.     2005-10-05  0.47337   \n",
       "3                                          Five Stars     2018-05-15  0.49030   \n",
       "4                                          Five Stars     2018-05-12  0.48442   \n",
       "..                                                ...            ...      ...   \n",
       "95  Returns feeling to carpal-tunnel fingers withi...     2017-11-30  0.46401   \n",
       "96                          You get what you pay for.     2017-11-26  0.49490   \n",
       "97                  Great product, easy on the wrists     2017-11-23  0.48806   \n",
       "98                                         Five Stars     2017-11-22  0.49030   \n",
       "99                            new model has soft keys     2017-11-22  0.47115   \n",
       "\n",
       "     Topic2   Topic3   Topic4  ...  imagenum  nameverified  Sentiment  Length  \\\n",
       "0   0.03440  0.38076  0.04386  ...         0           0.0     0.9981     780   \n",
       "1   0.03559  0.37827  0.04773  ...         0           0.0     0.8232     267   \n",
       "2   0.03552  0.41958  0.04301  ...         0           0.0     0.9947     917   \n",
       "3   0.03804  0.39451  0.04705  ...         0           0.0     0.6369       2   \n",
       "4   0.03767  0.39339  0.04660  ...         0           0.0     0.4753      16   \n",
       "..      ...      ...      ...  ...       ...           ...        ...     ...   \n",
       "95  0.03961  0.42288  0.04482  ...         0           0.0    -0.0120     138   \n",
       "96  0.03660  0.38919  0.05034  ...         0           0.0     0.7979      87   \n",
       "97  0.03763  0.39798  0.04655  ...         0           0.0     0.7906       6   \n",
       "98  0.03804  0.39451  0.04705  ...         0           0.0     0.4754       2   \n",
       "99  0.03714  0.41637  0.04595  ...         0           0.0     0.1440      47   \n",
       "\n",
       "    Sentences  Flesch  Days  verified_option  Retail  vote_fillna  \n",
       "0           1 -703.31    13                0       1       1113.0  \n",
       "1           1 -182.62     7                0       1         16.0  \n",
       "2          15   34.84     0                0       1         11.0  \n",
       "3           1  120.21  4605                1       0          0.0  \n",
       "4           1   80.62  4602                1       0          0.0  \n",
       "..        ...     ...   ...              ...     ...          ...  \n",
       "95          1  -51.68  4439                1       0          3.0  \n",
       "96          6   65.22  4435                1       0          0.0  \n",
       "97          1   90.77  4432                1       0          0.0  \n",
       "98          1  120.21  4431                1       0          0.0  \n",
       "99          4   84.88  4431                1       0          0.0  \n",
       "\n",
       "[100 rows x 21 columns]"
      ]
     },
     "execution_count": 263,
     "metadata": {},
     "output_type": "execute_result"
    }
   ],
   "source": [
    "df.head(100)"
   ]
  },
  {
   "cell_type": "code",
   "execution_count": 258,
   "metadata": {},
   "outputs": [
    {
     "name": "stdout",
     "output_type": "stream",
     "text": [
      "<class 'pandas.core.frame.DataFrame'>\n",
      "RangeIndex: 2567 entries, 0 to 2566\n",
      "Data columns (total 21 columns):\n",
      "overall            2567 non-null float64\n",
      "vote               174 non-null float64\n",
      "verified           2567 non-null int64\n",
      "reviewText         2567 non-null object\n",
      "summary            2567 non-null object\n",
      "unixReviewTime     2567 non-null datetime64[ns]\n",
      "Topic1             2567 non-null float64\n",
      "Topic2             2567 non-null float64\n",
      "Topic3             2567 non-null float64\n",
      "Topic4             2567 non-null float64\n",
      "Topic5             2567 non-null float64\n",
      "imagenum           2567 non-null int64\n",
      "nameverified       2567 non-null float64\n",
      "Sentiment          2567 non-null float64\n",
      "Length             2567 non-null int64\n",
      "Sentences          2567 non-null int64\n",
      "Flesch             2567 non-null float64\n",
      "Days               2567 non-null int64\n",
      "verified_option    2567 non-null int64\n",
      "Retail             2567 non-null int32\n",
      "vote_fillna        2567 non-null float64\n",
      "dtypes: datetime64[ns](1), float64(11), int32(1), int64(6), object(2)\n",
      "memory usage: 411.2+ KB\n"
     ]
    }
   ],
   "source": [
    "df.info()"
   ]
  },
  {
   "cell_type": "markdown",
   "metadata": {},
   "source": [
    "### Export data"
   ]
  },
  {
   "cell_type": "code",
   "execution_count": 260,
   "metadata": {},
   "outputs": [],
   "source": [
    "df.to_csv('keyboard_data.csv', index = False)"
   ]
  }
 ],
 "metadata": {
  "kernelspec": {
   "display_name": "Python 3",
   "language": "python",
   "name": "python3"
  },
  "language_info": {
   "codemirror_mode": {
    "name": "ipython",
    "version": 3
   },
   "file_extension": ".py",
   "mimetype": "text/x-python",
   "name": "python",
   "nbconvert_exporter": "python",
   "pygments_lexer": "ipython3",
   "version": "3.7.2"
  },
  "toc": {
   "base_numbering": 1,
   "nav_menu": {
    "height": "638px",
    "width": "534px"
   },
   "number_sections": true,
   "sideBar": true,
   "skip_h1_title": false,
   "title_cell": "Table of Contents",
   "title_sidebar": "Contents",
   "toc_cell": false,
   "toc_position": {},
   "toc_section_display": true,
   "toc_window_display": false
  }
 },
 "nbformat": 4,
 "nbformat_minor": 2
}
