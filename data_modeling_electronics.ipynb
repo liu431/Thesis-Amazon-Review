{
 "cells": [
  {
   "cell_type": "markdown",
   "metadata": {},
   "source": [
    "## Utility model"
   ]
  },
  {
   "cell_type": "code",
   "execution_count": null,
   "metadata": {},
   "outputs": [],
   "source": []
  },
  {
   "cell_type": "code",
   "execution_count": null,
   "metadata": {},
   "outputs": [],
   "source": []
  },
  {
   "cell_type": "code",
   "execution_count": null,
   "metadata": {},
   "outputs": [],
   "source": []
  },
  {
   "cell_type": "code",
   "execution_count": 1,
   "metadata": {},
   "outputs": [],
   "source": [
    "from sklearn.model_selection import train_test_split\n",
    "from sklearn.preprocessing import MinMaxScaler\n",
    "import six\n",
    "import statsmodels.api as sm\n",
    "from sklearn.tree import export_graphviz\n",
    "import graphviz\n",
    "from scipy.stats import randint as sp_randint\n",
    "from scipy.stats import uniform as sp_uniform\n",
    "from sklearn.model_selection import RandomizedSearchCV\n",
    "from scipy import stats\n",
    "from sklearn.tree import DecisionTreeRegressor\n",
    "from sklearn.ensemble import RandomForestRegressor, GradientBoostingRegressor, AdaBoostRegressor\n",
    "from sklearn.linear_model import LinearRegression, Ridge, Lasso, ElasticNet, BayesianRidge\n",
    "from sklearn.model_selection import train_test_split, KFold, cross_val_score, cross_val_predict\n",
    "from sklearn.metrics import mean_squared_error\n",
    "from sklearn.model_selection import RandomizedSearchCV, GridSearchCV\n",
    "from sklearn.preprocessing import StandardScaler"
   ]
  },
  {
   "cell_type": "markdown",
   "metadata": {},
   "source": [
    "#### Read in data"
   ]
  },
  {
   "cell_type": "code",
   "execution_count": 3,
   "metadata": {},
   "outputs": [
    {
     "data": {
      "application/javascript": [
       "\n",
       "        if (window._pyforest_update_imports_cell) { window._pyforest_update_imports_cell('import pandas as pd'); }\n",
       "    "
      ],
      "text/plain": [
       "<IPython.core.display.Javascript object>"
      ]
     },
     "metadata": {},
     "output_type": "display_data"
    },
    {
     "data": {
      "text/html": [
       "<div>\n",
       "<style scoped>\n",
       "    .dataframe tbody tr th:only-of-type {\n",
       "        vertical-align: middle;\n",
       "    }\n",
       "\n",
       "    .dataframe tbody tr th {\n",
       "        vertical-align: top;\n",
       "    }\n",
       "\n",
       "    .dataframe thead th {\n",
       "        text-align: right;\n",
       "    }\n",
       "</style>\n",
       "<table border=\"1\" class=\"dataframe\">\n",
       "  <thead>\n",
       "    <tr style=\"text-align: right;\">\n",
       "      <th></th>\n",
       "      <th>overall</th>\n",
       "      <th>vote</th>\n",
       "      <th>verified</th>\n",
       "      <th>reviewText</th>\n",
       "      <th>summary</th>\n",
       "      <th>unixReviewTime</th>\n",
       "      <th>Topic1</th>\n",
       "      <th>Topic2</th>\n",
       "      <th>Topic3</th>\n",
       "      <th>Topic4</th>\n",
       "      <th>...</th>\n",
       "      <th>imagenum</th>\n",
       "      <th>nameverified</th>\n",
       "      <th>Sentiment</th>\n",
       "      <th>Length</th>\n",
       "      <th>Sentences</th>\n",
       "      <th>Flesch</th>\n",
       "      <th>Days</th>\n",
       "      <th>verified_option</th>\n",
       "      <th>Retail</th>\n",
       "      <th>vote_fillna</th>\n",
       "    </tr>\n",
       "  </thead>\n",
       "  <tbody>\n",
       "    <tr>\n",
       "      <th>0</th>\n",
       "      <td>5.0</td>\n",
       "      <td>1113.0</td>\n",
       "      <td>1</td>\n",
       "      <td>As a software developer, I am literally attach...</td>\n",
       "      <td>Best Overall Keyboard to Date</td>\n",
       "      <td>2005-10-18</td>\n",
       "      <td>0.51249</td>\n",
       "      <td>0.03440</td>\n",
       "      <td>0.38076</td>\n",
       "      <td>0.04386</td>\n",
       "      <td>...</td>\n",
       "      <td>0</td>\n",
       "      <td>0.0</td>\n",
       "      <td>0.9981</td>\n",
       "      <td>780</td>\n",
       "      <td>1</td>\n",
       "      <td>-703.31</td>\n",
       "      <td>13</td>\n",
       "      <td>0</td>\n",
       "      <td>1</td>\n",
       "      <td>1113.0</td>\n",
       "    </tr>\n",
       "    <tr>\n",
       "      <th>1</th>\n",
       "      <td>5.0</td>\n",
       "      <td>16.0</td>\n",
       "      <td>1</td>\n",
       "      <td>I've had a Natural Keyboard Pro for years, and...</td>\n",
       "      <td>Best keyboard I've used</td>\n",
       "      <td>2005-10-12</td>\n",
       "      <td>0.50907</td>\n",
       "      <td>0.03559</td>\n",
       "      <td>0.37827</td>\n",
       "      <td>0.04773</td>\n",
       "      <td>...</td>\n",
       "      <td>0</td>\n",
       "      <td>0.0</td>\n",
       "      <td>0.8232</td>\n",
       "      <td>267</td>\n",
       "      <td>1</td>\n",
       "      <td>-182.62</td>\n",
       "      <td>7</td>\n",
       "      <td>0</td>\n",
       "      <td>1</td>\n",
       "      <td>16.0</td>\n",
       "    </tr>\n",
       "    <tr>\n",
       "      <th>2</th>\n",
       "      <td>4.0</td>\n",
       "      <td>11.0</td>\n",
       "      <td>1</td>\n",
       "      <td>As with most Microsoft products, great hardwar...</td>\n",
       "      <td>Great keyboard, poor software.</td>\n",
       "      <td>2005-10-05</td>\n",
       "      <td>0.47337</td>\n",
       "      <td>0.03552</td>\n",
       "      <td>0.41958</td>\n",
       "      <td>0.04301</td>\n",
       "      <td>...</td>\n",
       "      <td>0</td>\n",
       "      <td>0.0</td>\n",
       "      <td>0.9947</td>\n",
       "      <td>917</td>\n",
       "      <td>15</td>\n",
       "      <td>34.84</td>\n",
       "      <td>0</td>\n",
       "      <td>0</td>\n",
       "      <td>1</td>\n",
       "      <td>11.0</td>\n",
       "    </tr>\n",
       "    <tr>\n",
       "      <th>3</th>\n",
       "      <td>5.0</td>\n",
       "      <td>NaN</td>\n",
       "      <td>1</td>\n",
       "      <td>Love it.</td>\n",
       "      <td>Five Stars</td>\n",
       "      <td>2018-05-15</td>\n",
       "      <td>0.49030</td>\n",
       "      <td>0.03804</td>\n",
       "      <td>0.39451</td>\n",
       "      <td>0.04705</td>\n",
       "      <td>...</td>\n",
       "      <td>0</td>\n",
       "      <td>0.0</td>\n",
       "      <td>0.6369</td>\n",
       "      <td>2</td>\n",
       "      <td>1</td>\n",
       "      <td>120.21</td>\n",
       "      <td>4605</td>\n",
       "      <td>1</td>\n",
       "      <td>0</td>\n",
       "      <td>0.0</td>\n",
       "    </tr>\n",
       "    <tr>\n",
       "      <th>4</th>\n",
       "      <td>5.0</td>\n",
       "      <td>NaN</td>\n",
       "      <td>1</td>\n",
       "      <td>I've had various versions of this keyboard for...</td>\n",
       "      <td>Five Stars</td>\n",
       "      <td>2018-05-12</td>\n",
       "      <td>0.48442</td>\n",
       "      <td>0.03767</td>\n",
       "      <td>0.39339</td>\n",
       "      <td>0.04660</td>\n",
       "      <td>...</td>\n",
       "      <td>0</td>\n",
       "      <td>0.0</td>\n",
       "      <td>0.4753</td>\n",
       "      <td>16</td>\n",
       "      <td>1</td>\n",
       "      <td>80.62</td>\n",
       "      <td>4602</td>\n",
       "      <td>1</td>\n",
       "      <td>0</td>\n",
       "      <td>0.0</td>\n",
       "    </tr>\n",
       "  </tbody>\n",
       "</table>\n",
       "<p>5 rows × 21 columns</p>\n",
       "</div>"
      ],
      "text/plain": [
       "   overall    vote  verified  \\\n",
       "0      5.0  1113.0         1   \n",
       "1      5.0    16.0         1   \n",
       "2      4.0    11.0         1   \n",
       "3      5.0     NaN         1   \n",
       "4      5.0     NaN         1   \n",
       "\n",
       "                                          reviewText  \\\n",
       "0  As a software developer, I am literally attach...   \n",
       "1  I've had a Natural Keyboard Pro for years, and...   \n",
       "2  As with most Microsoft products, great hardwar...   \n",
       "3                                           Love it.   \n",
       "4  I've had various versions of this keyboard for...   \n",
       "\n",
       "                          summary unixReviewTime   Topic1   Topic2   Topic3  \\\n",
       "0   Best Overall Keyboard to Date     2005-10-18  0.51249  0.03440  0.38076   \n",
       "1         Best keyboard I've used     2005-10-12  0.50907  0.03559  0.37827   \n",
       "2  Great keyboard, poor software.     2005-10-05  0.47337  0.03552  0.41958   \n",
       "3                      Five Stars     2018-05-15  0.49030  0.03804  0.39451   \n",
       "4                      Five Stars     2018-05-12  0.48442  0.03767  0.39339   \n",
       "\n",
       "    Topic4  ...  imagenum  nameverified  Sentiment  Length  Sentences  Flesch  \\\n",
       "0  0.04386  ...         0           0.0     0.9981     780          1 -703.31   \n",
       "1  0.04773  ...         0           0.0     0.8232     267          1 -182.62   \n",
       "2  0.04301  ...         0           0.0     0.9947     917         15   34.84   \n",
       "3  0.04705  ...         0           0.0     0.6369       2          1  120.21   \n",
       "4  0.04660  ...         0           0.0     0.4753      16          1   80.62   \n",
       "\n",
       "   Days  verified_option  Retail  vote_fillna  \n",
       "0    13                0       1       1113.0  \n",
       "1     7                0       1         16.0  \n",
       "2     0                0       1         11.0  \n",
       "3  4605                1       0          0.0  \n",
       "4  4602                1       0          0.0  \n",
       "\n",
       "[5 rows x 21 columns]"
      ]
     },
     "execution_count": 3,
     "metadata": {},
     "output_type": "execute_result"
    }
   ],
   "source": [
    "df = pd.read_csv(\"keyboard_data.csv\")\n",
    "df.head()"
   ]
  },
  {
   "cell_type": "code",
   "execution_count": 10,
   "metadata": {},
   "outputs": [
    {
     "data": {
      "application/javascript": [
       "\n",
       "        if (window._pyforest_update_imports_cell) { window._pyforest_update_imports_cell('import matplotlib.pyplot as plt\\nimport pandas as pd'); }\n",
       "    "
      ],
      "text/plain": [
       "<IPython.core.display.Javascript object>"
      ]
     },
     "metadata": {},
     "output_type": "display_data"
    },
    {
     "data": {
      "application/javascript": [
       "\n",
       "        if (window._pyforest_update_imports_cell) { window._pyforest_update_imports_cell('import matplotlib.pyplot as plt\\nimport pandas as pd'); }\n",
       "    "
      ],
      "text/plain": [
       "<IPython.core.display.Javascript object>"
      ]
     },
     "metadata": {},
     "output_type": "display_data"
    },
    {
     "data": {
      "image/png": "[encoded data removed]",
      "text/plain": [
       "<Figure size 432x288 with 1 Axes>"
      ]
     },
     "metadata": {
      "needs_background": "light"
     },
     "output_type": "display_data"
    }
   ],
   "source": [
    "plt.plot(df.Days, df.vote)\n",
    "plt.show()"
   ]
  },
  {
   "cell_type": "code",
   "execution_count": null,
   "metadata": {},
   "outputs": [],
   "source": []
  }
 ],
 "metadata": {
  "kernelspec": {
   "display_name": "Python 3",
   "language": "python",
   "name": "python3"
  },
  "language_info": {
   "codemirror_mode": {
    "name": "ipython",
    "version": 3
   },
   "file_extension": ".py",
   "mimetype": "text/x-python",
   "name": "python",
   "nbconvert_exporter": "python",
   "pygments_lexer": "ipython3",
   "version": "3.7.2"
  },
  "toc": {
   "base_numbering": 1,
   "nav_menu": {
    "height": "256px",
    "width": "185px"
   },
   "number_sections": true,
   "sideBar": true,
   "skip_h1_title": false,
   "title_cell": "Table of Contents",
   "title_sidebar": "Contents",
   "toc_cell": false,
   "toc_position": {},
   "toc_section_display": true,
   "toc_window_display": false
  }
 },
 "nbformat": 4,
 "nbformat_minor": 2
}
